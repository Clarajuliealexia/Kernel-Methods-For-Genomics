{
 "cells": [
  {
   "cell_type": "markdown",
   "metadata": {
    "ExecuteTime": {
     "end_time": "2019-02-07T16:47:51.714676Z",
     "start_time": "2019-02-07T16:47:51.710445Z"
    }
   },
   "source": [
    "# Kernel methods : Data Challenge (TF)"
   ]
  },
  {
   "cell_type": "markdown",
   "metadata": {},
   "source": [
    "## Packages import"
   ]
  },
  {
   "cell_type": "code",
   "execution_count": 1,
   "metadata": {
    "ExecuteTime": {
     "end_time": "2019-02-08T13:03:56.862998Z",
     "start_time": "2019-02-08T13:03:56.215370Z"
    }
   },
   "outputs": [],
   "source": [
    "import pandas as pd\n",
    "import numpy as np\n",
    "from tqdm import tqdm_notebook as tqdm\n",
    "import os\n",
    "import pickle as pkl\n",
    "import warnings\n",
    "import utils\n",
    "import kernels"
   ]
  },
  {
   "cell_type": "code",
   "execution_count": 2,
   "metadata": {
    "ExecuteTime": {
     "end_time": "2019-02-08T13:03:57.752472Z",
     "start_time": "2019-02-08T13:03:57.747210Z"
    }
   },
   "outputs": [],
   "source": [
    "param = {'WD1': 1, 'WD2': 2, 'WD3': 3, 'WD4': 4, 'WD5': 5}"
   ]
  },
  {
   "cell_type": "markdown",
   "metadata": {},
   "source": [
    "## Getting training data"
   ]
  },
  {
   "cell_type": "code",
   "execution_count": 3,
   "metadata": {
    "ExecuteTime": {
     "end_time": "2019-02-08T13:25:53.437350Z",
     "start_time": "2019-02-08T13:03:59.037876Z"
    }
   },
   "outputs": [
    {
     "name": "stdout",
     "output_type": "stream",
     "text": [
      "k = 0\n",
      "Number of training samples: 1499 (74.95%), testing samples: 501 (25.05%)\n",
      "Count train : -1 (51.1674%), 1 (48.8326%)\n",
      "Count test : -1 (51.0978%), 1 (48.9022%)\n",
      "\n",
      "k = 1\n",
      "Number of training samples: 1499 (74.95%), testing samples: 501 (25.05%)\n",
      "Count train : -1 (50.1001%), 1 (49.8999%)\n",
      "Count test : -1 (50.0998%), 1 (49.9002%)\n",
      "\n",
      "k = 2\n",
      "Number of training samples: 1499 (74.95%), testing samples: 501 (25.05%)\n",
      "Count train : -1 (50.0334%), 1 (49.9666%)\n",
      "Count test : -1 (50.0998%), 1 (49.9002%)\n",
      "\n",
      "Final shape: train (4497, 3), test (1503, 3)\n",
      "(4497, 3)\n"
     ]
    },
    {
     "data": {
      "application/vnd.jupyter.widget-view+json": {
       "model_id": "47cca89b16dc446fa9c413f3593ad9c2",
       "version_major": 2,
       "version_minor": 0
      },
      "text/plain": [
       "HBox(children=(IntProgress(value=0, description='Building kernel', max=4497, style=ProgressStyle(description_w…"
      ]
     },
     "metadata": {},
     "output_type": "display_data"
    },
    {
     "name": "stdout",
     "output_type": "stream",
     "text": [
      "\n"
     ]
    },
    {
     "data": {
      "application/vnd.jupyter.widget-view+json": {
       "model_id": "9a9a36cbbd45415981b0d2f3d366713b",
       "version_major": 2,
       "version_minor": 0
      },
      "text/plain": [
       "HBox(children=(IntProgress(value=0, description='Building kernel', max=1503, style=ProgressStyle(description_w…"
      ]
     },
     "metadata": {},
     "output_type": "display_data"
    },
    {
     "name": "stdout",
     "output_type": "stream",
     "text": [
      "\n"
     ]
    }
   ],
   "source": [
    "X_train, y_train, X_test, y_test, K_train, K_test = utils.get_training_datas(method=\"WD3\", param=param, replace=True)"
   ]
  },
  {
   "cell_type": "markdown",
   "metadata": {
    "ExecuteTime": {
     "end_time": "2019-02-07T17:17:36.760163Z",
     "start_time": "2019-02-07T17:17:36.753120Z"
    }
   },
   "source": [
    "Restrict to any particular kind of TF if needed"
   ]
  },
  {
   "cell_type": "code",
   "execution_count": 19,
   "metadata": {
    "ExecuteTime": {
     "end_time": "2019-02-08T12:38:32.267528Z",
     "start_time": "2019-02-08T12:38:32.167434Z"
    }
   },
   "outputs": [],
   "source": [
    "# X_train_, y_train_, X_test_, y_test_, K_train_, K_test_ = utils.select_k(3, X_train, y_train, X_test, y_test, K_train, K_test)"
   ]
  },
  {
   "cell_type": "code",
   "execution_count": 7,
   "metadata": {
    "ExecuteTime": {
     "end_time": "2019-02-08T15:24:27.169734Z",
     "start_time": "2019-02-08T15:24:27.149152Z"
    }
   },
   "outputs": [
    {
     "data": {
      "text/plain": [
       "array([[99.33333333, 16.83333333, 11.33333333, ..., 19.        ,\n",
       "        14.        , 12.        ],\n",
       "       [16.83333333, 99.33333333, 11.16666667, ..., 16.66666667,\n",
       "        13.66666667, 11.16666667],\n",
       "       [11.33333333, 11.16666667, 99.33333333, ..., 22.5       ,\n",
       "        24.83333333, 18.33333333],\n",
       "       ...,\n",
       "       [19.        , 16.66666667, 22.5       , ..., 99.33333333,\n",
       "        16.5       , 13.66666667],\n",
       "       [14.        , 13.66666667, 24.83333333, ..., 16.5       ,\n",
       "        99.33333333, 10.33333333],\n",
       "       [12.        , 11.16666667, 18.33333333, ..., 13.66666667,\n",
       "        10.33333333, 99.33333333]])"
      ]
     },
     "execution_count": 7,
     "metadata": {},
     "output_type": "execute_result"
    }
   ],
   "source": [
    "K_train"
   ]
  },
  {
   "cell_type": "code",
   "execution_count": null,
   "metadata": {},
   "outputs": [],
   "source": []
  }
 ],
 "metadata": {
  "hide_input": false,
  "kernelspec": {
   "display_name": "Python 3",
   "language": "python",
   "name": "python3"
  },
  "language_info": {
   "codemirror_mode": {
    "name": "ipython",
    "version": 3
   },
   "file_extension": ".py",
   "mimetype": "text/x-python",
   "name": "python",
   "nbconvert_exporter": "python",
   "pygments_lexer": "ipython3",
   "version": "3.6.6"
  },
  "latex_envs": {
   "LaTeX_envs_menu_present": true,
   "autoclose": false,
   "autocomplete": true,
   "bibliofile": "biblio.bib",
   "cite_by": "apalike",
   "current_citInitial": 1,
   "eqLabelWithNumbers": true,
   "eqNumInitial": 1,
   "hotkeys": {
    "equation": "Ctrl-E",
    "itemize": "Ctrl-I"
   },
   "labels_anchors": false,
   "latex_user_defs": false,
   "report_style_numbering": false,
   "user_envs_cfg": false
  },
  "toc": {
   "base_numbering": 1,
   "nav_menu": {},
   "number_sections": false,
   "sideBar": true,
   "skip_h1_title": false,
   "title_cell": "Table of Contents",
   "title_sidebar": "Contents",
   "toc_cell": false,
   "toc_position": {},
   "toc_section_display": true,
   "toc_window_display": true
  }
 },
 "nbformat": 4,
 "nbformat_minor": 2
}
