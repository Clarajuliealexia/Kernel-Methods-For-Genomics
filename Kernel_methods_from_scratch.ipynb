{
 "cells": [
  {
   "cell_type": "code",
   "execution_count": 156,
   "metadata": {
    "ExecuteTime": {
     "end_time": "2019-02-06T22:42:01.788567Z",
     "start_time": "2019-02-06T22:42:01.776039Z"
    }
   },
   "outputs": [],
   "source": [
    "import pandas as pd\n",
    "import numpy as np"
   ]
  },
  {
   "cell_type": "code",
   "execution_count": 157,
   "metadata": {
    "ExecuteTime": {
     "end_time": "2019-02-06T22:42:02.474001Z",
     "start_time": "2019-02-06T22:42:02.451380Z"
    }
   },
   "outputs": [],
   "source": [
    "def get_train(k):\n",
    "    X = pd.read_csv('./Data/Xtr'+str(k)+'_mat100.csv', header=None, sep=' ')\n",
    "    X.columns = ['s'+str(i+1) for i in range(100)]\n",
    "    y = pd.read_csv('./Data/Ytr'+str(k)+'.csv').loc[:, \"Bound\"]\n",
    "    return X, y\n",
    "\n",
    "def get_test(k):\n",
    "    X = pd.read_csv('./Data/Xte'+str(k)+'_mat100.csv', header=None, sep=' ')\n",
    "    X.columns = ['s'+str(i+1) for i in range(100)]\n",
    "    return X\n",
    "    \n",
    "def train_test_split(X, y, p):\n",
    "    n = X.shape[0]\n",
    "    idx_0, idx_1 = np.where(y == 0)[0], np.where(y == 1)[0]\n",
    "    n0, n1 = len(idx_0), len(idx_1)\n",
    "    idx_tr0 = np.random.choice(idx_0, int(p*n0), replace=False)\n",
    "    idx_tr1 = np.random.choice(idx_1, int(p*n1), replace=False)\n",
    "    idx_te0 = list(set(idx_0)-set(idx_tr0))\n",
    "    idx_te1 = list(set(idx_1)-set(idx_tr1))\n",
    "    idx_tr = np.random.permutation(np.concatenate((idx_tr0, idx_tr1)))\n",
    "    idx_te = np.random.permutation(np.concatenate((idx_te0, idx_te1)))\n",
    "    n_tr, n_te = len(idx_tr), len(idx_te)\n",
    "    X_train, y_train = X.iloc[idx_tr, :], y[idx_tr]\n",
    "    X_test, y_test = X.iloc[idx_te, :], y[idx_te]\n",
    "    print('Number of training samples: {} ({:0.4f}%), testing samples: {} ({:0.4f}%)'.\n",
    "          format(n_tr, n_tr/n*100, n_te, n_te/n*100))\n",
    "    print('Count train : 0 ({:0.4f}%), 1 ({:0.4f}%)'.\n",
    "          format(np.count_nonzero(y_train == 0)/n_tr*100,\n",
    "                 np.count_nonzero(y_train == 1)/n_tr*100))\n",
    "    print('Count test : 0 ({:0.4f}%), 1 ({:0.4f}%)'.\n",
    "          format(np.count_nonzero(y_test == 0)/n_te*100,\n",
    "                 np.count_nonzero(y_test == 1)/n_te*100))\n",
    "    return X_train, y_train, X_test, y_test"
   ]
  },
  {
   "cell_type": "code",
   "execution_count": 158,
   "metadata": {
    "ExecuteTime": {
     "end_time": "2019-02-06T22:42:03.761802Z",
     "start_time": "2019-02-06T22:42:03.603232Z"
    }
   },
   "outputs": [
    {
     "name": "stdout",
     "output_type": "stream",
     "text": [
      "Number of training samples: 1499 (74.9500%), testing samples: 501 (25.0500%)\n",
      "Count train : 0 (51.1674%), 1 (48.8326%)\n",
      "Count test : 0 (51.0978%), 1 (48.9022%)\n"
     ]
    }
   ],
   "source": [
    "X, y = get_train(0)\n",
    "X_train, y_train, X_test, y_test = train_test_split(X, y, 0.75)"
   ]
  },
  {
   "cell_type": "code",
   "execution_count": 160,
   "metadata": {
    "ExecuteTime": {
     "end_time": "2019-02-06T22:49:50.617136Z",
     "start_time": "2019-02-06T22:49:50.588595Z"
    }
   },
   "outputs": [
    {
     "data": {
      "text/html": [
       "<div>\n",
       "<style scoped>\n",
       "    .dataframe tbody tr th:only-of-type {\n",
       "        vertical-align: middle;\n",
       "    }\n",
       "\n",
       "    .dataframe tbody tr th {\n",
       "        vertical-align: top;\n",
       "    }\n",
       "\n",
       "    .dataframe thead th {\n",
       "        text-align: right;\n",
       "    }\n",
       "</style>\n",
       "<table border=\"1\" class=\"dataframe\">\n",
       "  <thead>\n",
       "    <tr style=\"text-align: right;\">\n",
       "      <th></th>\n",
       "      <th>s1</th>\n",
       "      <th>s2</th>\n",
       "      <th>s3</th>\n",
       "      <th>s4</th>\n",
       "      <th>s5</th>\n",
       "      <th>s6</th>\n",
       "      <th>s7</th>\n",
       "      <th>s8</th>\n",
       "      <th>s9</th>\n",
       "      <th>s10</th>\n",
       "      <th>...</th>\n",
       "      <th>s91</th>\n",
       "      <th>s92</th>\n",
       "      <th>s93</th>\n",
       "      <th>s94</th>\n",
       "      <th>s95</th>\n",
       "      <th>s96</th>\n",
       "      <th>s97</th>\n",
       "      <th>s98</th>\n",
       "      <th>s99</th>\n",
       "      <th>s100</th>\n",
       "    </tr>\n",
       "  </thead>\n",
       "  <tbody>\n",
       "    <tr>\n",
       "      <th>387</th>\n",
       "      <td>0.00000</td>\n",
       "      <td>0.01087</td>\n",
       "      <td>0.000000</td>\n",
       "      <td>0.00000</td>\n",
       "      <td>0.010870</td>\n",
       "      <td>0.01087</td>\n",
       "      <td>0.010870</td>\n",
       "      <td>0.021739</td>\n",
       "      <td>0.010870</td>\n",
       "      <td>0.000000</td>\n",
       "      <td>...</td>\n",
       "      <td>0.021739</td>\n",
       "      <td>0.010870</td>\n",
       "      <td>0.010870</td>\n",
       "      <td>0.010870</td>\n",
       "      <td>0.01087</td>\n",
       "      <td>0.01087</td>\n",
       "      <td>0.01087</td>\n",
       "      <td>0.021739</td>\n",
       "      <td>0.01087</td>\n",
       "      <td>0.010870</td>\n",
       "    </tr>\n",
       "    <tr>\n",
       "      <th>1947</th>\n",
       "      <td>0.00000</td>\n",
       "      <td>0.00000</td>\n",
       "      <td>0.000000</td>\n",
       "      <td>0.00000</td>\n",
       "      <td>0.010870</td>\n",
       "      <td>0.01087</td>\n",
       "      <td>0.010870</td>\n",
       "      <td>0.043478</td>\n",
       "      <td>0.021739</td>\n",
       "      <td>0.000000</td>\n",
       "      <td>...</td>\n",
       "      <td>0.000000</td>\n",
       "      <td>0.000000</td>\n",
       "      <td>0.000000</td>\n",
       "      <td>0.000000</td>\n",
       "      <td>0.00000</td>\n",
       "      <td>0.00000</td>\n",
       "      <td>0.00000</td>\n",
       "      <td>0.021739</td>\n",
       "      <td>0.00000</td>\n",
       "      <td>0.000000</td>\n",
       "    </tr>\n",
       "    <tr>\n",
       "      <th>1463</th>\n",
       "      <td>0.01087</td>\n",
       "      <td>0.00000</td>\n",
       "      <td>0.010870</td>\n",
       "      <td>0.00000</td>\n",
       "      <td>0.021739</td>\n",
       "      <td>0.00000</td>\n",
       "      <td>0.000000</td>\n",
       "      <td>0.010870</td>\n",
       "      <td>0.010870</td>\n",
       "      <td>0.021739</td>\n",
       "      <td>...</td>\n",
       "      <td>0.000000</td>\n",
       "      <td>0.000000</td>\n",
       "      <td>0.032609</td>\n",
       "      <td>0.000000</td>\n",
       "      <td>0.00000</td>\n",
       "      <td>0.01087</td>\n",
       "      <td>0.00000</td>\n",
       "      <td>0.000000</td>\n",
       "      <td>0.00000</td>\n",
       "      <td>0.021739</td>\n",
       "    </tr>\n",
       "    <tr>\n",
       "      <th>1577</th>\n",
       "      <td>0.00000</td>\n",
       "      <td>0.00000</td>\n",
       "      <td>0.010870</td>\n",
       "      <td>0.01087</td>\n",
       "      <td>0.010870</td>\n",
       "      <td>0.01087</td>\n",
       "      <td>0.010870</td>\n",
       "      <td>0.000000</td>\n",
       "      <td>0.043478</td>\n",
       "      <td>0.010870</td>\n",
       "      <td>...</td>\n",
       "      <td>0.021739</td>\n",
       "      <td>0.032609</td>\n",
       "      <td>0.010870</td>\n",
       "      <td>0.010870</td>\n",
       "      <td>0.00000</td>\n",
       "      <td>0.00000</td>\n",
       "      <td>0.00000</td>\n",
       "      <td>0.010870</td>\n",
       "      <td>0.01087</td>\n",
       "      <td>0.000000</td>\n",
       "    </tr>\n",
       "    <tr>\n",
       "      <th>1117</th>\n",
       "      <td>0.01087</td>\n",
       "      <td>0.01087</td>\n",
       "      <td>0.021739</td>\n",
       "      <td>0.00000</td>\n",
       "      <td>0.043478</td>\n",
       "      <td>0.01087</td>\n",
       "      <td>0.032609</td>\n",
       "      <td>0.010870</td>\n",
       "      <td>0.000000</td>\n",
       "      <td>0.000000</td>\n",
       "      <td>...</td>\n",
       "      <td>0.021739</td>\n",
       "      <td>0.010870</td>\n",
       "      <td>0.000000</td>\n",
       "      <td>0.021739</td>\n",
       "      <td>0.01087</td>\n",
       "      <td>0.00000</td>\n",
       "      <td>0.00000</td>\n",
       "      <td>0.021739</td>\n",
       "      <td>0.01087</td>\n",
       "      <td>0.000000</td>\n",
       "    </tr>\n",
       "  </tbody>\n",
       "</table>\n",
       "<p>5 rows × 100 columns</p>\n",
       "</div>"
      ],
      "text/plain": [
       "           s1       s2        s3       s4        s5       s6        s7  \\\n",
       "387   0.00000  0.01087  0.000000  0.00000  0.010870  0.01087  0.010870   \n",
       "1947  0.00000  0.00000  0.000000  0.00000  0.010870  0.01087  0.010870   \n",
       "1463  0.01087  0.00000  0.010870  0.00000  0.021739  0.00000  0.000000   \n",
       "1577  0.00000  0.00000  0.010870  0.01087  0.010870  0.01087  0.010870   \n",
       "1117  0.01087  0.01087  0.021739  0.00000  0.043478  0.01087  0.032609   \n",
       "\n",
       "            s8        s9       s10    ...          s91       s92       s93  \\\n",
       "387   0.021739  0.010870  0.000000    ...     0.021739  0.010870  0.010870   \n",
       "1947  0.043478  0.021739  0.000000    ...     0.000000  0.000000  0.000000   \n",
       "1463  0.010870  0.010870  0.021739    ...     0.000000  0.000000  0.032609   \n",
       "1577  0.000000  0.043478  0.010870    ...     0.021739  0.032609  0.010870   \n",
       "1117  0.010870  0.000000  0.000000    ...     0.021739  0.010870  0.000000   \n",
       "\n",
       "           s94      s95      s96      s97       s98      s99      s100  \n",
       "387   0.010870  0.01087  0.01087  0.01087  0.021739  0.01087  0.010870  \n",
       "1947  0.000000  0.00000  0.00000  0.00000  0.021739  0.00000  0.000000  \n",
       "1463  0.000000  0.00000  0.01087  0.00000  0.000000  0.00000  0.021739  \n",
       "1577  0.010870  0.00000  0.00000  0.00000  0.010870  0.01087  0.000000  \n",
       "1117  0.021739  0.01087  0.00000  0.00000  0.021739  0.01087  0.000000  \n",
       "\n",
       "[5 rows x 100 columns]"
      ]
     },
     "execution_count": 160,
     "metadata": {},
     "output_type": "execute_result"
    }
   ],
   "source": [
    "X_train.head()"
   ]
  },
  {
   "cell_type": "code",
   "execution_count": 161,
   "metadata": {
    "ExecuteTime": {
     "end_time": "2019-02-06T22:49:52.592788Z",
     "start_time": "2019-02-06T22:49:52.587962Z"
    }
   },
   "outputs": [],
   "source": [
    "class SVM():\n",
    "    def __init__(self):\n",
    "        pass\n",
    "    def fit(self):\n",
    "        pass\n",
    "    def predict(self):\n",
    "        pass\n",
    "    def score(self):\n",
    "        pass"
   ]
  },
  {
   "cell_type": "code",
   "execution_count": null,
   "metadata": {},
   "outputs": [],
   "source": []
  }
 ],
 "metadata": {
  "hide_input": false,
  "kernelspec": {
   "display_name": "Python 3",
   "language": "python",
   "name": "python3"
  },
  "language_info": {
   "codemirror_mode": {
    "name": "ipython",
    "version": 3
   },
   "file_extension": ".py",
   "mimetype": "text/x-python",
   "name": "python",
   "nbconvert_exporter": "python",
   "pygments_lexer": "ipython3",
   "version": "3.6.6"
  },
  "latex_envs": {
   "LaTeX_envs_menu_present": true,
   "autoclose": false,
   "autocomplete": true,
   "bibliofile": "biblio.bib",
   "cite_by": "apalike",
   "current_citInitial": 1,
   "eqLabelWithNumbers": true,
   "eqNumInitial": 1,
   "hotkeys": {
    "equation": "Ctrl-E",
    "itemize": "Ctrl-I"
   },
   "labels_anchors": false,
   "latex_user_defs": false,
   "report_style_numbering": false,
   "user_envs_cfg": false
  },
  "toc": {
   "base_numbering": 1,
   "nav_menu": {},
   "number_sections": true,
   "sideBar": true,
   "skip_h1_title": false,
   "title_cell": "Table of Contents",
   "title_sidebar": "Contents",
   "toc_cell": false,
   "toc_position": {},
   "toc_section_display": true,
   "toc_window_display": false
  }
 },
 "nbformat": 4,
 "nbformat_minor": 2
}
