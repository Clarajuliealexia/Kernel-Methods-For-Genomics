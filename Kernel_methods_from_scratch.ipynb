{
 "cells": [
  {
   "cell_type": "markdown",
   "metadata": {
    "ExecuteTime": {
     "end_time": "2019-02-07T16:47:51.714676Z",
     "start_time": "2019-02-07T16:47:51.710445Z"
    }
   },
   "source": [
    "# Kernel methods : Data Challenge (TF)"
   ]
  },
  {
   "cell_type": "markdown",
   "metadata": {},
   "source": [
    "## Packages import"
   ]
  },
  {
   "cell_type": "code",
   "execution_count": 1,
   "metadata": {
    "ExecuteTime": {
     "end_time": "2019-02-09T10:46:14.001559Z",
     "start_time": "2019-02-09T10:46:12.890560Z"
    }
   },
   "outputs": [],
   "source": [
    "import pandas as pd\n",
    "import numpy as np\n",
    "from tqdm import tqdm_notebook as tqdm\n",
    "import os\n",
    "import datetime\n",
    "import pickle as pkl\n",
    "import warnings\n",
    "import utils\n",
    "import kernels\n",
    "import SVM\n",
    "import SVM2\n",
    "from scipy.optimize import minimize\n",
    "\n",
    "param = {'WD1': 1, 'WD2': 2, 'WD3': 3, 'WD4': 4, 'WD5': 5}"
   ]
  },
  {
   "cell_type": "markdown",
   "metadata": {},
   "source": [
    "## Getting training data"
   ]
  },
  {
   "cell_type": "markdown",
   "metadata": {},
   "source": [
    "If you have not generated the data yet, please select ``all=True``. Once the data have been created, running the same line of code will allow you to directly pick the data into the file where it was stored."
   ]
  },
  {
   "cell_type": "code",
   "execution_count": 2,
   "metadata": {
    "ExecuteTime": {
     "end_time": "2019-02-09T10:46:16.981115Z",
     "start_time": "2019-02-09T10:46:14.013233Z"
    }
   },
   "outputs": [],
   "source": [
    "X_train, y_train, X_val, y_val, X_test, K, ID = utils.get_training_datas(method=\"WD3\", all=True, param=param, replace=False)"
   ]
  },
  {
   "cell_type": "markdown",
   "metadata": {
    "ExecuteTime": {
     "end_time": "2019-02-07T17:17:36.760163Z",
     "start_time": "2019-02-07T17:17:36.753120Z"
    }
   },
   "source": [
    "Restrict to any particular kind of TF if needed"
   ]
  },
  {
   "cell_type": "code",
   "execution_count": 3,
   "metadata": {
    "ExecuteTime": {
     "end_time": "2019-02-09T10:46:18.246896Z",
     "start_time": "2019-02-09T10:46:16.984030Z"
    }
   },
   "outputs": [],
   "source": [
    "X_train_1, y_train_1, X_val_1, y_val_1, X_test_1, K_1, id_1 = utils.select_k(1, X_train, y_train, X_val, y_val, X_test, K, ID)\n",
    "X_train_2, y_train_2, X_val_2, y_val_2, X_test_2, K_2, id_2 = utils.select_k(2, X_train, y_train, X_val, y_val, X_test, K, ID)\n",
    "X_train_3, y_train_3, X_val_3, y_val_3, X_test_3, K_3, id_3 = utils.select_k(3, X_train, y_train, X_val, y_val, X_test, K, ID)"
   ]
  },
  {
   "cell_type": "markdown",
   "metadata": {},
   "source": [
    "## C-SVM with Weighted Degree Kernel (WDK)"
   ]
  },
  {
   "cell_type": "markdown",
   "metadata": {
    "ExecuteTime": {
     "end_time": "2019-02-08T20:34:50.571109Z",
     "start_time": "2019-02-08T20:34:50.563765Z"
    }
   },
   "source": [
    "### Cross validation on constant C"
   ]
  },
  {
   "cell_type": "markdown",
   "metadata": {},
   "source": [
    "#### Data set 1"
   ]
  },
  {
   "cell_type": "code",
   "execution_count": 4,
   "metadata": {
    "ExecuteTime": {
     "end_time": "2019-02-09T10:50:24.290152Z",
     "start_time": "2019-02-09T10:46:19.433998Z"
    }
   },
   "outputs": [
    {
     "data": {
      "application/vnd.jupyter.widget-view+json": {
       "model_id": "d4b283d14ff2464c875d8e345747020a",
       "version_major": 2,
       "version_minor": 0
      },
      "text/plain": [
       "HBox(children=(IntProgress(value=0, max=5), HTML(value='')))"
      ]
     },
     "metadata": {},
     "output_type": "display_data"
    },
    {
     "name": "stdout",
     "output_type": "stream",
     "text": [
      "Fold 0\n",
      "C=0.0001, accuracy on train (0.4938) and val (0.4750)\n",
      "C=0.001, accuracy on train (0.4938) and val (0.4750)\n",
      "Fold 1\n",
      "C=0.0001, accuracy on train (0.4688) and val (0.5750)\n",
      "C=0.001, accuracy on train (0.4688) and val (0.5750)\n",
      "Fold 2\n",
      "C=0.0001, accuracy on train (0.5000) and val (0.4500)\n",
      "C=0.001, accuracy on train (0.5000) and val (0.4500)\n",
      "Fold 3\n",
      "C=0.0001, accuracy on train (0.4750) and val (0.5500)\n",
      "C=0.001, accuracy on train (0.4750) and val (0.5500)\n",
      "Fold 4\n",
      "C=0.0001, accuracy on train (1.0000) and val (1.0000)\n",
      "C=0.001, accuracy on train (0.5125) and val (0.4000)\n",
      "\n",
      "Best constant C: 0.0001, accuracy on val 0.6100\n"
     ]
    },
    {
     "name": "stderr",
     "output_type": "stream",
     "text": [
      "/Users/bfiliot/Desktop/MVA/KERNEL/Kernel_methods_MVA/SVM.py:128: ResourceWarning: unclosed file <_io.BufferedWriter name='./Data/cv_C_SVM_k1.pkl'>\n",
      "  open(os.path.join('./Data', pickleName+'.pkl'), 'wb'))\n"
     ]
    }
   ],
   "source": [
    "Cs_1 = [0.0001, 0.001]\n",
    "data_1 = [X_train_1.iloc[:100], y_train_1.iloc[:100], X_val_1.iloc[:100], y_val_1.iloc[:100]]\n",
    "svm_1 = SVM.C_SVM(K, ID)\n",
    "pickleName = 'cv_C_SVM_k1.pkl'\n",
    "kfolds = 5\n",
    "C_opt_1, scores_tr_1, scores_te_1, mean_scores_tr_1, mean_scores_te_1 = svm_1.cv(Cs_1, data_1, kfolds, pickleName)"
   ]
  },
  {
   "cell_type": "markdown",
   "metadata": {},
   "source": [
    "#### Data set 2"
   ]
  },
  {
   "cell_type": "code",
   "execution_count": 5,
   "metadata": {
    "ExecuteTime": {
     "end_time": "2019-02-09T10:55:35.799069Z",
     "start_time": "2019-02-09T10:51:18.519480Z"
    }
   },
   "outputs": [
    {
     "data": {
      "application/vnd.jupyter.widget-view+json": {
       "model_id": "2ca80c90bccb4028b4b286ddf4c6d814",
       "version_major": 2,
       "version_minor": 0
      },
      "text/plain": [
       "HBox(children=(IntProgress(value=0, max=5), HTML(value='')))"
      ]
     },
     "metadata": {},
     "output_type": "display_data"
    },
    {
     "name": "stdout",
     "output_type": "stream",
     "text": [
      "Fold 0\n",
      "C=0.0001, accuracy on train (0.5312) and val (0.6000)\n",
      "C=0.001, accuracy on train (0.5312) and val (0.6000)\n",
      "Fold 1\n",
      "C=0.0001, accuracy on train (0.5125) and val (0.6750)\n",
      "C=0.001, accuracy on train (0.5125) and val (0.6750)\n",
      "Fold 2\n",
      "C=0.0001, accuracy on train (0.5750) and val (0.4250)\n",
      "C=0.001, accuracy on train (0.5750) and val (0.4250)\n",
      "Fold 3\n",
      "C=0.0001, accuracy on train (0.5563) and val (0.5000)\n",
      "C=0.001, accuracy on train (0.5563) and val (0.5000)\n",
      "Fold 4\n",
      "C=0.0001, accuracy on train (0.5500) and val (0.5250)\n",
      "C=0.001, accuracy on train (0.5500) and val (0.5250)\n",
      "\n",
      "Best constant C: 0.0001, accuracy on val 0.5450\n"
     ]
    },
    {
     "name": "stderr",
     "output_type": "stream",
     "text": [
      "/Users/bfiliot/Desktop/MVA/KERNEL/Kernel_methods_MVA/SVM.py:128: ResourceWarning: unclosed file <_io.BufferedWriter name='./Data/cv_C_SVM_k2.pkl'>\n",
      "  open(os.path.join('./Data', pickleName+'.pkl'), 'wb'))\n"
     ]
    }
   ],
   "source": [
    "Cs_2 = [0.0001, 0.001]\n",
    "data_2 = [X_train_2.iloc[:100], y_train_2.iloc[:100], X_val_2.iloc[:100], y_val_2.iloc[:100]]\n",
    "svm_2 = SVM.C_SVM(K, ID)\n",
    "pickleName = 'cv_C_SVM_k2.pkl'\n",
    "kfolds = 5\n",
    "C_opt_2, scores_tr_2, scores_te_2, mean_scores_tr_2, mean_scores_te_2 = svm_2.cv(Cs_2, data_2, kfolds, pickleName)"
   ]
  },
  {
   "cell_type": "markdown",
   "metadata": {},
   "source": [
    "#### Data set 3"
   ]
  },
  {
   "cell_type": "code",
   "execution_count": 6,
   "metadata": {
    "ExecuteTime": {
     "end_time": "2019-02-09T11:00:30.914284Z",
     "start_time": "2019-02-09T10:55:35.803841Z"
    }
   },
   "outputs": [
    {
     "data": {
      "application/vnd.jupyter.widget-view+json": {
       "model_id": "8154b62f6fbc470a95f598d11275bf47",
       "version_major": 2,
       "version_minor": 0
      },
      "text/plain": [
       "HBox(children=(IntProgress(value=0, max=5), HTML(value='')))"
      ]
     },
     "metadata": {},
     "output_type": "display_data"
    },
    {
     "name": "stdout",
     "output_type": "stream",
     "text": [
      "Fold 0\n",
      "C=0.0001, accuracy on train (0.5188) and val (0.4500)\n",
      "C=0.001, accuracy on train (0.5188) and val (0.4500)\n",
      "Fold 1\n",
      "C=0.0001, accuracy on train (1.0000) and val (1.0000)\n",
      "C=0.001, accuracy on train (0.4938) and val (0.5500)\n",
      "Fold 2\n",
      "C=0.0001, accuracy on train (0.4938) and val (0.5500)\n",
      "C=0.001, accuracy on train (0.4938) and val (0.5500)\n",
      "Fold 3\n",
      "C=0.0001, accuracy on train (0.5125) and val (0.4750)\n",
      "C=0.001, accuracy on train (0.5125) and val (0.4750)\n",
      "Fold 4\n",
      "C=0.0001, accuracy on train (0.5062) and val (0.5000)\n",
      "C=0.001, accuracy on train (0.5062) and val (0.5000)\n",
      "\n",
      "Best constant C: 0.0001, accuracy on val 0.5950\n"
     ]
    },
    {
     "name": "stderr",
     "output_type": "stream",
     "text": [
      "/Users/bfiliot/Desktop/MVA/KERNEL/Kernel_methods_MVA/SVM.py:128: ResourceWarning: unclosed file <_io.BufferedWriter name='./Data/cv_C_SVM_k3.pkl'>\n",
      "  open(os.path.join('./Data', pickleName+'.pkl'), 'wb'))\n"
     ]
    }
   ],
   "source": [
    "Cs_3 = [0.0001, 0.001]\n",
    "data_3 = [X_train_3.iloc[:100], y_train_3.iloc[:100], X_val_3.iloc[:100], y_val_3.iloc[:100]]\n",
    "svm_3 = SVM.C_SVM(K, ID)\n",
    "pickleName = 'cv_C_SVM_k3.pkl'\n",
    "kfolds = 5\n",
    "C_opt_3, scores_tr_3, scores_te_3, mean_scores_tr_3, mean_scores_te_3 = svm_3.cv(Cs_3, data_3, kfolds, pickleName)"
   ]
  },
  {
   "cell_type": "markdown",
   "metadata": {},
   "source": [
    "### Predict with best constant C"
   ]
  },
  {
   "cell_type": "markdown",
   "metadata": {},
   "source": [
    "#### Data set 1"
   ]
  },
  {
   "cell_type": "code",
   "execution_count": 7,
   "metadata": {
    "ExecuteTime": {
     "end_time": "2019-02-09T11:00:36.170737Z",
     "start_time": "2019-02-09T11:00:30.918418Z"
    }
   },
   "outputs": [
    {
     "name": "stdout",
     "output_type": "stream",
     "text": [
      "Accuracy on train set: 1.0000\n",
      "Accuracy on val set: 1.0000\n"
     ]
    }
   ],
   "source": [
    "svm_1 = SVM.C_SVM(K, ID, C=C_opt_1, print_callbacks=False)\n",
    "res = svm_1.fit(X_train_1.iloc[:100,:], y_train_1.iloc[:100,:])\n",
    "pred_tr_1 = svm_1.predict(X_train_1)\n",
    "print('Accuracy on train set: {:0.4f}'.format(svm_1.score(pred_tr_1, y_train_1)))\n",
    "pred_val_1 = svm_1.predict(X_val_1)\n",
    "print('Accuracy on val set: {:0.4f}'.format(svm_1.score(pred_val_1, y_val_1)))"
   ]
  },
  {
   "cell_type": "markdown",
   "metadata": {},
   "source": [
    "#### Data set 2"
   ]
  },
  {
   "cell_type": "code",
   "execution_count": 8,
   "metadata": {
    "ExecuteTime": {
     "end_time": "2019-02-09T11:00:40.193761Z",
     "start_time": "2019-02-09T11:00:36.175003Z"
    }
   },
   "outputs": [
    {
     "name": "stdout",
     "output_type": "stream",
     "text": [
      "Accuracy on train set: 1.0000\n",
      "Accuracy on val set: 1.0000\n"
     ]
    }
   ],
   "source": [
    "svm_2 = SVM.C_SVM(K, ID, C=C_opt_2, print_callbacks=False)\n",
    "res = svm_2.fit(X_train_2.iloc[:100,:], y_train_2.iloc[:100,:])\n",
    "pred_tr_2 = svm_2.predict(X_train_2)\n",
    "print('Accuracy on train set: {:0.4f}'.format(svm_2.score(pred_tr_2, y_train_2)))\n",
    "pred_val_2 = svm_2.predict(X_val_2)\n",
    "print('Accuracy on val set: {:0.4f}'.format(svm_2.score(pred_val_2, y_val_2)))"
   ]
  },
  {
   "cell_type": "markdown",
   "metadata": {},
   "source": [
    "#### Data set 3"
   ]
  },
  {
   "cell_type": "code",
   "execution_count": 9,
   "metadata": {
    "ExecuteTime": {
     "end_time": "2019-02-09T11:00:44.696796Z",
     "start_time": "2019-02-09T11:00:40.197304Z"
    }
   },
   "outputs": [
    {
     "name": "stdout",
     "output_type": "stream",
     "text": [
      "Accuracy on train set: 1.0000\n",
      "Accuracy on val set: 1.0000\n"
     ]
    }
   ],
   "source": [
    "svm_3 = SVM.C_SVM(K, ID, C=C_opt_3, print_callbacks=False)\n",
    "res = svm_3.fit(X_train_3.iloc[:100,:], y_train_3.iloc[:100,:])\n",
    "pred_tr_3 = svm_3.predict(X_train_3)\n",
    "print('Accuracy on train set: {:0.4f}'.format(svm_3.score(pred_tr_3, y_train_3)))\n",
    "pred_val_3 = svm_3.predict(X_val_3)\n",
    "print('Accuracy on val set: {:0.4f}'.format(svm_3.score(pred_val_3, y_val_3)))"
   ]
  },
  {
   "cell_type": "markdown",
   "metadata": {},
   "source": [
    "### Export predictions"
   ]
  },
  {
   "cell_type": "code",
   "execution_count": 30,
   "metadata": {
    "ExecuteTime": {
     "end_time": "2019-02-09T11:16:13.766829Z",
     "start_time": "2019-02-09T11:16:13.699576Z"
    }
   },
   "outputs": [],
   "source": [
    "pred_test_1 = svm_1.predict(X_test_1).astype(int)\n",
    "pred_test_2 = svm_2.predict(X_test_2).astype(int)\n",
    "pred_test_3 = svm_3.predict(X_test_3).astype(int)\n",
    "y_test_1 = pd.DataFrame({'Id': X_test_1.Id, 'Bound': pred_test_1})\n",
    "y_test_2 = pd.DataFrame({'Id': X_test_2.Id, 'Bound': pred_test_2})\n",
    "y_test_3 = pd.DataFrame({'Id': X_test_3.Id, 'Bound': pred_test_3})\n",
    "y_test = pd.concat((y_test_1, y_test_2, y_test_3))\n",
    "y_test.Id = -y_test.Id-1\n",
    "t = datetime.datetime.now().time()\n",
    "y_test.to_csv(os.path.join('./Predictions/', 'y_test_'+str(t)+'.csv'), index = False)"
   ]
  }
 ],
 "metadata": {
  "hide_input": false,
  "kernelspec": {
   "display_name": "Python 3",
   "language": "python",
   "name": "python3"
  },
  "language_info": {
   "codemirror_mode": {
    "name": "ipython",
    "version": 3
   },
   "file_extension": ".py",
   "mimetype": "text/x-python",
   "name": "python",
   "nbconvert_exporter": "python",
   "pygments_lexer": "ipython3",
   "version": "3.6.6"
  },
  "latex_envs": {
   "LaTeX_envs_menu_present": true,
   "autoclose": false,
   "autocomplete": true,
   "bibliofile": "biblio.bib",
   "cite_by": "apalike",
   "current_citInitial": 1,
   "eqLabelWithNumbers": true,
   "eqNumInitial": 1,
   "hotkeys": {
    "equation": "Ctrl-E",
    "itemize": "Ctrl-I"
   },
   "labels_anchors": false,
   "latex_user_defs": false,
   "report_style_numbering": false,
   "user_envs_cfg": false
  },
  "toc": {
   "base_numbering": 1,
   "nav_menu": {},
   "number_sections": false,
   "sideBar": true,
   "skip_h1_title": false,
   "title_cell": "Table of Contents",
   "title_sidebar": "Contents",
   "toc_cell": false,
   "toc_position": {},
   "toc_section_display": true,
   "toc_window_display": true
  }
 },
 "nbformat": 4,
 "nbformat_minor": 2
}
