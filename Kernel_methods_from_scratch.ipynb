{
 "cells": [
  {
   "cell_type": "markdown",
   "metadata": {
    "ExecuteTime": {
     "end_time": "2019-02-07T16:47:51.714676Z",
     "start_time": "2019-02-07T16:47:51.710445Z"
    }
   },
   "source": [
    "# Kernel methods : Data Challenge (TF)"
   ]
  },
  {
   "cell_type": "markdown",
   "metadata": {},
   "source": [
    "Meilleures accuracy :\n",
    "- Mismatch (k=6, m=1)\n",
    "- Weight Degree (d=6)\n",
    "- Local Alignment (e=11, d=2)"
   ]
  },
  {
   "cell_type": "markdown",
   "metadata": {},
   "source": [
    "## Packages import"
   ]
  },
  {
   "cell_type": "code",
   "execution_count": 1,
   "metadata": {
    "ExecuteTime": {
     "end_time": "2019-02-15T23:52:21.364446Z",
     "start_time": "2019-02-15T23:52:20.629102Z"
    }
   },
   "outputs": [],
   "source": [
    "import os\n",
    "import datetime\n",
    "import utils  \n",
    "import kernels\n",
    "import SVM\n",
    "import ALIGNF\n",
    "import numpy as np\n",
    "from itertools import product\n",
    "import warnings "
   ]
  },
  {
   "cell_type": "markdown",
   "metadata": {},
   "source": [
    "## C-SVM"
   ]
  },
  {
   "cell_type": "markdown",
   "metadata": {},
   "source": [
    "### Accuracies obtained so far for each methods"
   ]
  },
  {
   "cell_type": "code",
   "execution_count": 2,
   "metadata": {
    "ExecuteTime": {
     "end_time": "2019-02-15T23:52:25.491317Z",
     "start_time": "2019-02-15T23:52:25.384332Z"
    }
   },
   "outputs": [
    {
     "data": {
      "text/html": [
       "<div>\n",
       "<style scoped>\n",
       "    .dataframe tbody tr th:only-of-type {\n",
       "        vertical-align: middle;\n",
       "    }\n",
       "\n",
       "    .dataframe tbody tr th {\n",
       "        vertical-align: top;\n",
       "    }\n",
       "\n",
       "    .dataframe thead th {\n",
       "        text-align: right;\n",
       "    }\n",
       "</style>\n",
       "<table border=\"1\" class=\"dataframe\">\n",
       "  <thead>\n",
       "    <tr style=\"text-align: right;\">\n",
       "      <th></th>\n",
       "      <th>Kernel Method - k=1</th>\n",
       "      <th>Val accuracy - k=1</th>\n",
       "      <th>Constant C - k=1</th>\n",
       "      <th>Kernel Method - k=2</th>\n",
       "      <th>Val accuracy - k=2</th>\n",
       "      <th>Constant C - k=2</th>\n",
       "      <th>Kernel Method - k=3</th>\n",
       "      <th>Val accuracy - k=3</th>\n",
       "      <th>Constant C - k=3</th>\n",
       "    </tr>\n",
       "  </thead>\n",
       "  <tbody>\n",
       "    <tr>\n",
       "      <th>0</th>\n",
       "      <td>SVM_WD10</td>\n",
       "      <td>0.636500</td>\n",
       "      <td>0.030</td>\n",
       "      <td>SVM_SP6</td>\n",
       "      <td>0.730000</td>\n",
       "      <td>0.60</td>\n",
       "      <td>SVM_MM61</td>\n",
       "      <td>0.656000</td>\n",
       "      <td>0.690</td>\n",
       "    </tr>\n",
       "    <tr>\n",
       "      <th>1</th>\n",
       "      <td>SVM_MM61</td>\n",
       "      <td>0.634500</td>\n",
       "      <td>2.000</td>\n",
       "      <td>SVM_MM62</td>\n",
       "      <td>0.728000</td>\n",
       "      <td>8.00</td>\n",
       "      <td>SVM_SP6</td>\n",
       "      <td>0.650000</td>\n",
       "      <td>5.000</td>\n",
       "    </tr>\n",
       "    <tr>\n",
       "      <th>2</th>\n",
       "      <td>SVM_SP5</td>\n",
       "      <td>0.633500</td>\n",
       "      <td>0.500</td>\n",
       "      <td>SVM_MM61</td>\n",
       "      <td>0.714500</td>\n",
       "      <td>6.00</td>\n",
       "      <td>SVM_SP5</td>\n",
       "      <td>0.647500</td>\n",
       "      <td>2.000</td>\n",
       "    </tr>\n",
       "    <tr>\n",
       "      <th>3</th>\n",
       "      <td>SVM_LA_e11_d2</td>\n",
       "      <td>0.628500</td>\n",
       "      <td>0.700</td>\n",
       "      <td>SVM_LA_e11_d2</td>\n",
       "      <td>0.714500</td>\n",
       "      <td>0.50</td>\n",
       "      <td>SVM_MM62</td>\n",
       "      <td>0.646500</td>\n",
       "      <td>8.000</td>\n",
       "    </tr>\n",
       "    <tr>\n",
       "      <th>4</th>\n",
       "      <td>SVM_MM62</td>\n",
       "      <td>0.627000</td>\n",
       "      <td>9.000</td>\n",
       "      <td>SVM_MM51</td>\n",
       "      <td>0.703000</td>\n",
       "      <td>6.00</td>\n",
       "      <td>SVM_SP4</td>\n",
       "      <td>0.644500</td>\n",
       "      <td>4.000</td>\n",
       "    </tr>\n",
       "    <tr>\n",
       "      <th>5</th>\n",
       "      <td>SVM_LA_e8_d1</td>\n",
       "      <td>0.624000</td>\n",
       "      <td>0.600</td>\n",
       "      <td>SVM_SP5</td>\n",
       "      <td>0.703000</td>\n",
       "      <td>0.30</td>\n",
       "      <td>SVM_MM51</td>\n",
       "      <td>0.641000</td>\n",
       "      <td>5.000</td>\n",
       "    </tr>\n",
       "    <tr>\n",
       "      <th>6</th>\n",
       "      <td>SVM_MM51</td>\n",
       "      <td>0.620000</td>\n",
       "      <td>2.000</td>\n",
       "      <td>SVM_WD10</td>\n",
       "      <td>0.677000</td>\n",
       "      <td>0.02</td>\n",
       "      <td>SVM_MM41</td>\n",
       "      <td>0.635500</td>\n",
       "      <td>2.000</td>\n",
       "    </tr>\n",
       "    <tr>\n",
       "      <th>7</th>\n",
       "      <td>SVM_SP4</td>\n",
       "      <td>0.619500</td>\n",
       "      <td>0.400</td>\n",
       "      <td>SVM_SP4</td>\n",
       "      <td>0.674500</td>\n",
       "      <td>0.50</td>\n",
       "      <td>SVM_SP3</td>\n",
       "      <td>0.631000</td>\n",
       "      <td>5.000</td>\n",
       "    </tr>\n",
       "    <tr>\n",
       "      <th>8</th>\n",
       "      <td>SVM_MM41</td>\n",
       "      <td>0.611000</td>\n",
       "      <td>2.000</td>\n",
       "      <td>SVM_WD5</td>\n",
       "      <td>0.670000</td>\n",
       "      <td>0.10</td>\n",
       "      <td>SVM_LA_e11_d2</td>\n",
       "      <td>0.620000</td>\n",
       "      <td>0.500</td>\n",
       "    </tr>\n",
       "    <tr>\n",
       "      <th>9</th>\n",
       "      <td>SVM_SP3</td>\n",
       "      <td>0.608000</td>\n",
       "      <td>0.600</td>\n",
       "      <td>SVM_MM41</td>\n",
       "      <td>0.660000</td>\n",
       "      <td>5.00</td>\n",
       "      <td>SVM_MM31</td>\n",
       "      <td>0.618500</td>\n",
       "      <td>1.000</td>\n",
       "    </tr>\n",
       "    <tr>\n",
       "      <th>10</th>\n",
       "      <td>SVM_MM31</td>\n",
       "      <td>0.593000</td>\n",
       "      <td>9.000</td>\n",
       "      <td>SVM_SP3</td>\n",
       "      <td>0.647500</td>\n",
       "      <td>0.90</td>\n",
       "      <td>SVM_WD5</td>\n",
       "      <td>0.594500</td>\n",
       "      <td>0.007</td>\n",
       "    </tr>\n",
       "    <tr>\n",
       "      <th>11</th>\n",
       "      <td>SVM_WD5</td>\n",
       "      <td>0.590000</td>\n",
       "      <td>0.005</td>\n",
       "      <td>SVM_MM31</td>\n",
       "      <td>0.631500</td>\n",
       "      <td>6.00</td>\n",
       "      <td>SVM_WD10</td>\n",
       "      <td>0.594500</td>\n",
       "      <td>0.007</td>\n",
       "    </tr>\n",
       "    <tr>\n",
       "      <th>12</th>\n",
       "      <td>SVM_WD3</td>\n",
       "      <td>0.575408</td>\n",
       "      <td>0.010</td>\n",
       "      <td>SVM_WD3</td>\n",
       "      <td>0.582403</td>\n",
       "      <td>5.00</td>\n",
       "      <td>SVM_WD3</td>\n",
       "      <td>0.555468</td>\n",
       "      <td>0.005</td>\n",
       "    </tr>\n",
       "    <tr>\n",
       "      <th>13</th>\n",
       "      <td>SVM_SP6</td>\n",
       "      <td>0.531000</td>\n",
       "      <td>0.006</td>\n",
       "      <td>NaN</td>\n",
       "      <td>NaN</td>\n",
       "      <td>NaN</td>\n",
       "      <td>NaN</td>\n",
       "      <td>NaN</td>\n",
       "      <td>NaN</td>\n",
       "    </tr>\n",
       "  </tbody>\n",
       "</table>\n",
       "</div>"
      ],
      "text/plain": [
       "   Kernel Method - k=1  Val accuracy - k=1  Constant C - k=1  \\\n",
       "0             SVM_WD10            0.636500             0.030   \n",
       "1             SVM_MM61            0.634500             2.000   \n",
       "2              SVM_SP5            0.633500             0.500   \n",
       "3        SVM_LA_e11_d2            0.628500             0.700   \n",
       "4             SVM_MM62            0.627000             9.000   \n",
       "5         SVM_LA_e8_d1            0.624000             0.600   \n",
       "6             SVM_MM51            0.620000             2.000   \n",
       "7              SVM_SP4            0.619500             0.400   \n",
       "8             SVM_MM41            0.611000             2.000   \n",
       "9              SVM_SP3            0.608000             0.600   \n",
       "10            SVM_MM31            0.593000             9.000   \n",
       "11             SVM_WD5            0.590000             0.005   \n",
       "12             SVM_WD3            0.575408             0.010   \n",
       "13             SVM_SP6            0.531000             0.006   \n",
       "\n",
       "   Kernel Method - k=2  Val accuracy - k=2  Constant C - k=2  \\\n",
       "0              SVM_SP6            0.730000              0.60   \n",
       "1             SVM_MM62            0.728000              8.00   \n",
       "2             SVM_MM61            0.714500              6.00   \n",
       "3        SVM_LA_e11_d2            0.714500              0.50   \n",
       "4             SVM_MM51            0.703000              6.00   \n",
       "5              SVM_SP5            0.703000              0.30   \n",
       "6             SVM_WD10            0.677000              0.02   \n",
       "7              SVM_SP4            0.674500              0.50   \n",
       "8              SVM_WD5            0.670000              0.10   \n",
       "9             SVM_MM41            0.660000              5.00   \n",
       "10             SVM_SP3            0.647500              0.90   \n",
       "11            SVM_MM31            0.631500              6.00   \n",
       "12             SVM_WD3            0.582403              5.00   \n",
       "13                 NaN                 NaN               NaN   \n",
       "\n",
       "   Kernel Method - k=3  Val accuracy - k=3  Constant C - k=3  \n",
       "0             SVM_MM61            0.656000             0.690  \n",
       "1              SVM_SP6            0.650000             5.000  \n",
       "2              SVM_SP5            0.647500             2.000  \n",
       "3             SVM_MM62            0.646500             8.000  \n",
       "4              SVM_SP4            0.644500             4.000  \n",
       "5             SVM_MM51            0.641000             5.000  \n",
       "6             SVM_MM41            0.635500             2.000  \n",
       "7              SVM_SP3            0.631000             5.000  \n",
       "8        SVM_LA_e11_d2            0.620000             0.500  \n",
       "9             SVM_MM31            0.618500             1.000  \n",
       "10             SVM_WD5            0.594500             0.007  \n",
       "11            SVM_WD10            0.594500             0.007  \n",
       "12             SVM_WD3            0.555468             0.005  \n",
       "13                 NaN                 NaN               NaN  "
      ]
     },
     "execution_count": 2,
     "metadata": {},
     "output_type": "execute_result"
    }
   ],
   "source": [
    "utils.sort_accuracies() "
   ]
  },
  {
   "cell_type": "markdown",
   "metadata": {
    "ExecuteTime": {
     "end_time": "2019-02-08T20:34:50.571109Z",
     "start_time": "2019-02-08T20:34:50.563765Z"
    }
   },
   "source": [
    "### Cross validation on constant C"
   ]
  },
  {
   "cell_type": "markdown",
   "metadata": {},
   "source": [
    "Perform cross validation for C-SVM for a bunch of kernel methods whose formating is the following : \n",
    "- SPx : spectrum kernel with x = int\n",
    "- WDx : Weight degree kernel with x = int\n",
    "- WDS_dx,sy : Weight degree kernel with x = int (d), y = int (s)\n",
    "- MMxy: mismatch kernel with x = int (k) and y = int (m)\n",
    "- LA_ex_dy_bz_smithX_eigY with x = int (e), y = int (d), z = float (beta), X = 0/1 (smith), Y = 0/1 (eig)\n",
    "\n",
    "Cs can be customed. Otherwise it will be equal to:\n",
    "``Cs = np.sort([i*10**j for (i,j) in product(range(1,10), range(-3,1))])``."
   ]
  },
  {
   "cell_type": "code",
   "execution_count": 3,
   "metadata": {
    "ExecuteTime": {
     "end_time": "2019-02-15T23:53:45.609430Z",
     "start_time": "2019-02-15T23:52:41.727059Z"
    }
   },
   "outputs": [
    {
     "data": {
      "application/vnd.jupyter.widget-view+json": {
       "model_id": "74ed1867d1ea41159ef9a615344a62ae",
       "version_major": 2,
       "version_minor": 0
      },
      "text/plain": [
       "HBox(children=(IntProgress(value=0, max=5), HTML(value='')))"
      ]
     },
     "metadata": {},
     "output_type": "display_data"
    },
    {
     "name": "stdout",
     "output_type": "stream",
     "text": [
      "Fold 1\n",
      "C=0.001, train_acc=0.5094, val_acc=0.5400\n",
      "C=0.002, train_acc=0.5094, val_acc=0.5400\n",
      "C=0.003, train_acc=0.5094, val_acc=0.5400\n",
      "C=0.004, train_acc=0.5094, val_acc=0.5400\n",
      "C=0.005, train_acc=0.5094, val_acc=0.5400\n",
      "C=0.006, train_acc=0.5094, val_acc=0.5400\n",
      "C=0.007, train_acc=0.5094, val_acc=0.5400\n",
      "C=0.008, train_acc=0.5094, val_acc=0.5400\n",
      "C=0.009000000000000001, train_acc=0.5094, val_acc=0.5400\n",
      "C=0.01, train_acc=0.5094, val_acc=0.5400\n",
      "C=0.02, train_acc=0.5094, val_acc=0.5400\n",
      "C=0.03, train_acc=0.5094, val_acc=0.5400\n",
      "C=0.04, train_acc=0.5094, val_acc=0.5400\n",
      "C=0.05, train_acc=0.5094, val_acc=0.5400\n",
      "C=0.06, train_acc=0.5119, val_acc=0.5425\n",
      "C=0.07, train_acc=0.5250, val_acc=0.5525\n",
      "C=0.08, train_acc=0.5431, val_acc=0.5800\n",
      "C=0.09, train_acc=0.5831, val_acc=0.6050\n",
      "C=0.1, train_acc=0.6156, val_acc=0.6225\n",
      "C=0.2, train_acc=0.6925, val_acc=0.6425\n",
      "C=0.30000000000000004, train_acc=0.7113, val_acc=0.6600\n",
      "C=0.4, train_acc=0.7338, val_acc=0.6825\n",
      "C=0.5, train_acc=0.7494, val_acc=0.6600\n",
      "C=0.6000000000000001, train_acc=0.7600, val_acc=0.6600\n",
      "C=0.7000000000000001, train_acc=0.7731, val_acc=0.6575\n",
      "C=0.8, train_acc=0.7837, val_acc=0.6600\n",
      "C=0.9, train_acc=0.7900, val_acc=0.6625\n",
      "C=1.0, train_acc=0.7987, val_acc=0.6550\n",
      "C=2.0, train_acc=0.8344, val_acc=0.6725\n",
      "C=3.0, train_acc=0.8681, val_acc=0.6750\n",
      "C=4.0, train_acc=0.8938, val_acc=0.6425\n",
      "C=5.0, train_acc=0.9044, val_acc=0.6375\n",
      "C=6.0, train_acc=0.9150, val_acc=0.6375\n",
      "C=7.0, train_acc=0.9275, val_acc=0.6300\n",
      "C=8.0, train_acc=0.9306, val_acc=0.6250\n",
      "C=9.0, train_acc=0.9356, val_acc=0.6225\n",
      "Fold 2\n",
      "C=0.001, train_acc=0.5194, val_acc=0.4800\n",
      "C=0.002, train_acc=0.5194, val_acc=0.4800\n",
      "C=0.003, train_acc=0.5194, val_acc=0.4800\n",
      "C=0.004, train_acc=0.5194, val_acc=0.4800\n",
      "C=0.005, train_acc=0.5194, val_acc=0.4800\n",
      "C=0.006, train_acc=0.5194, val_acc=0.4800\n",
      "C=0.007, train_acc=0.5194, val_acc=0.4800\n",
      "C=0.008, train_acc=0.5194, val_acc=0.4800\n",
      "C=0.009000000000000001, train_acc=0.5194, val_acc=0.4800\n",
      "C=0.01, train_acc=0.5194, val_acc=0.4800\n",
      "C=0.02, train_acc=0.5194, val_acc=0.4800\n",
      "C=0.03, train_acc=0.5194, val_acc=0.4800\n",
      "C=0.04, train_acc=0.5194, val_acc=0.4800\n",
      "C=0.05, train_acc=0.5200, val_acc=0.4800\n",
      "C=0.06, train_acc=0.5200, val_acc=0.4800\n",
      "C=0.07, train_acc=0.5281, val_acc=0.4825\n",
      "C=0.08, train_acc=0.5337, val_acc=0.4875\n",
      "C=0.09, train_acc=0.5425, val_acc=0.4925\n",
      "C=0.1, train_acc=0.5587, val_acc=0.4950\n",
      "C=0.2, train_acc=0.7063, val_acc=0.5725\n",
      "C=0.30000000000000004, train_acc=0.7262, val_acc=0.6000\n",
      "C=0.4, train_acc=0.7444, val_acc=0.6100\n",
      "C=0.5, train_acc=0.7619, val_acc=0.6225\n",
      "C=0.6000000000000001, train_acc=0.7694, val_acc=0.6250\n",
      "C=0.7000000000000001, train_acc=0.7831, val_acc=0.6150\n",
      "C=0.8, train_acc=0.7881, val_acc=0.6125\n",
      "C=0.9, train_acc=0.7969, val_acc=0.6125\n",
      "C=1.0, train_acc=0.8031, val_acc=0.6125\n",
      "C=2.0, train_acc=0.8525, val_acc=0.6025\n",
      "C=3.0, train_acc=0.8719, val_acc=0.6100\n",
      "C=4.0, train_acc=0.8888, val_acc=0.5950\n",
      "C=5.0, train_acc=0.9038, val_acc=0.5950\n",
      "C=6.0, train_acc=0.9194, val_acc=0.5875\n",
      "C=7.0, train_acc=0.9294, val_acc=0.5900\n",
      "C=8.0, train_acc=0.9394, val_acc=0.5925\n",
      "C=9.0, train_acc=0.9444, val_acc=0.5950\n",
      "Fold 3\n",
      "C=0.001, train_acc=0.5081, val_acc=0.5275\n",
      "C=0.002, train_acc=0.5081, val_acc=0.5275\n",
      "C=0.003, train_acc=0.5081, val_acc=0.5275\n",
      "C=0.004, train_acc=0.5081, val_acc=0.5275\n",
      "C=0.005, train_acc=0.5081, val_acc=0.5275\n",
      "C=0.006, train_acc=0.5081, val_acc=0.5275\n",
      "C=0.007, train_acc=0.5081, val_acc=0.5275\n",
      "C=0.008, train_acc=0.5081, val_acc=0.5275\n",
      "C=0.009000000000000001, train_acc=0.5081, val_acc=0.5275\n",
      "C=0.01, train_acc=0.5081, val_acc=0.5275\n",
      "C=0.02, train_acc=0.5081, val_acc=0.5275\n",
      "C=0.03, train_acc=0.5081, val_acc=0.5275\n",
      "C=0.04, train_acc=0.5081, val_acc=0.5275\n",
      "C=0.05, train_acc=0.5088, val_acc=0.5275\n",
      "C=0.06, train_acc=0.5144, val_acc=0.5325\n",
      "C=0.07, train_acc=0.5244, val_acc=0.5275\n",
      "C=0.08, train_acc=0.5525, val_acc=0.5350\n",
      "C=0.09, train_acc=0.5913, val_acc=0.5575\n",
      "C=0.1, train_acc=0.6206, val_acc=0.5825\n",
      "C=0.2, train_acc=0.7019, val_acc=0.6050\n",
      "C=0.30000000000000004, train_acc=0.7219, val_acc=0.6150\n",
      "C=0.4, train_acc=0.7419, val_acc=0.6025\n",
      "C=0.5, train_acc=0.7575, val_acc=0.5950\n",
      "C=0.6000000000000001, train_acc=0.7688, val_acc=0.6050\n",
      "C=0.7000000000000001, train_acc=0.7775, val_acc=0.6050\n",
      "C=0.8, train_acc=0.7913, val_acc=0.5975\n",
      "C=0.9, train_acc=0.8025, val_acc=0.6075\n",
      "C=1.0, train_acc=0.8081, val_acc=0.6100\n",
      "C=2.0, train_acc=0.8462, val_acc=0.6175\n",
      "C=3.0, train_acc=0.8781, val_acc=0.6050\n",
      "C=4.0, train_acc=0.8919, val_acc=0.6025\n",
      "C=5.0, train_acc=0.9044, val_acc=0.5950\n",
      "C=6.0, train_acc=0.9144, val_acc=0.5800\n",
      "C=7.0, train_acc=0.9231, val_acc=0.5750\n",
      "C=8.0, train_acc=0.9306, val_acc=0.5725\n",
      "C=9.0, train_acc=0.9369, val_acc=0.5700\n",
      "Fold 4\n",
      "C=0.001, train_acc=0.5094, val_acc=0.5200\n",
      "C=0.002, train_acc=0.5094, val_acc=0.5200\n",
      "C=0.003, train_acc=0.5094, val_acc=0.5200\n",
      "C=0.004, train_acc=0.5094, val_acc=0.5200\n",
      "C=0.005, train_acc=0.5094, val_acc=0.5200\n",
      "C=0.006, train_acc=0.5094, val_acc=0.5200\n",
      "C=0.007, train_acc=0.5094, val_acc=0.5200\n",
      "C=0.008, train_acc=0.5094, val_acc=0.5200\n",
      "C=0.009000000000000001, train_acc=0.5094, val_acc=0.5200\n",
      "C=0.01, train_acc=0.5094, val_acc=0.5200\n",
      "C=0.02, train_acc=0.5094, val_acc=0.5200\n",
      "C=0.03, train_acc=0.5094, val_acc=0.5200\n",
      "C=0.04, train_acc=0.5094, val_acc=0.5200\n",
      "C=0.05, train_acc=0.5119, val_acc=0.5225\n",
      "C=0.06, train_acc=0.5162, val_acc=0.5275\n",
      "C=0.07, train_acc=0.5300, val_acc=0.5300\n",
      "C=0.08, train_acc=0.5531, val_acc=0.5500\n",
      "C=0.09, train_acc=0.5781, val_acc=0.5500\n",
      "C=0.1, train_acc=0.6162, val_acc=0.5650\n",
      "C=0.2, train_acc=0.7056, val_acc=0.5750\n",
      "C=0.30000000000000004, train_acc=0.7256, val_acc=0.5775\n"
     ]
    },
    {
     "ename": "KeyboardInterrupt",
     "evalue": "",
     "output_type": "error",
     "traceback": [
      "\u001b[0;31m---------------------------------------------------------------------------\u001b[0m",
      "\u001b[0;31mKeyboardInterrupt\u001b[0m                         Traceback (most recent call last)",
      "\u001b[0;32m<ipython-input-3-5f7118938db9>\u001b[0m in \u001b[0;36m<module>\u001b[0;34m\u001b[0m\n\u001b[1;32m      6\u001b[0m \u001b[0;31m#                    np.linspace(1, 10, 91),\u001b[0m\u001b[0;34m\u001b[0m\u001b[0;34m\u001b[0m\u001b[0m\n\u001b[1;32m      7\u001b[0m \u001b[0;31m#                   np.linspace(10, 100, 19)))\u001b[0m\u001b[0;34m\u001b[0m\u001b[0;34m\u001b[0m\u001b[0m\n\u001b[0;32m----> 8\u001b[0;31m \u001b[0mC_opts\u001b[0m \u001b[0;34m=\u001b[0m \u001b[0mutils\u001b[0m\u001b[0;34m.\u001b[0m\u001b[0mrun_expe\u001b[0m\u001b[0;34m(\u001b[0m\u001b[0mmethods\u001b[0m\u001b[0;34m)\u001b[0m\u001b[0;31m#, Cs_1=Cs, Cs_2=Cs, Cs_3=Cs)\u001b[0m\u001b[0;34m\u001b[0m\u001b[0m\n\u001b[0m",
      "\u001b[0;32m~/Desktop/MVA/KERNEL/Kernel_methods_MVA/utils.py\u001b[0m in \u001b[0;36mrun_expe\u001b[0;34m(methods, k, kfolds, Cs_1, Cs_2, Cs_3)\u001b[0m\n\u001b[1;32m    274\u001b[0m             \u001b[0mexec\u001b[0m\u001b[0;34m(\u001b[0m\u001b[0;34m\"data_\"\u001b[0m\u001b[0;34m+\u001b[0m\u001b[0mstr\u001b[0m\u001b[0;34m(\u001b[0m\u001b[0mk_\u001b[0m\u001b[0;34m)\u001b[0m\u001b[0;34m+\u001b[0m\u001b[0;34m\" = [X_train_\"\u001b[0m\u001b[0;34m+\u001b[0m\u001b[0mstr\u001b[0m\u001b[0;34m(\u001b[0m\u001b[0mk_\u001b[0m\u001b[0;34m)\u001b[0m\u001b[0;34m+\u001b[0m\u001b[0;34m\", y_train_\"\u001b[0m\u001b[0;34m+\u001b[0m\u001b[0mstr\u001b[0m\u001b[0;34m(\u001b[0m\u001b[0mk_\u001b[0m\u001b[0;34m)\u001b[0m\u001b[0;34m+\u001b[0m\u001b[0;34m\", X_val_\"\u001b[0m\u001b[0;34m+\u001b[0m\u001b[0mstr\u001b[0m\u001b[0;34m(\u001b[0m\u001b[0mk_\u001b[0m\u001b[0;34m)\u001b[0m\u001b[0;34m+\u001b[0m\u001b[0;34m\", y_val_\"\u001b[0m\u001b[0;34m+\u001b[0m\u001b[0mstr\u001b[0m\u001b[0;34m(\u001b[0m\u001b[0mk_\u001b[0m\u001b[0;34m)\u001b[0m\u001b[0;34m+\u001b[0m\u001b[0;34m\"]\"\u001b[0m\u001b[0;34m)\u001b[0m\u001b[0;34m\u001b[0m\u001b[0m\n\u001b[1;32m    275\u001b[0m             \u001b[0mpickleName\u001b[0m \u001b[0;34m=\u001b[0m \u001b[0;34m'cv_C_SVM_'\u001b[0m\u001b[0;34m+\u001b[0m\u001b[0mm\u001b[0m\u001b[0;34m+\u001b[0m\u001b[0;34m'_k'\u001b[0m\u001b[0;34m+\u001b[0m\u001b[0mstr\u001b[0m\u001b[0;34m(\u001b[0m\u001b[0mk_\u001b[0m\u001b[0;34m)\u001b[0m\u001b[0;34m+\u001b[0m\u001b[0;34m'.pkl'\u001b[0m\u001b[0;34m\u001b[0m\u001b[0m\n\u001b[0;32m--> 276\u001b[0;31m             \u001b[0mexec\u001b[0m\u001b[0;34m(\u001b[0m\u001b[0;34m\"C_opt_\"\u001b[0m\u001b[0;34m+\u001b[0m\u001b[0mstr\u001b[0m\u001b[0;34m(\u001b[0m\u001b[0mk_\u001b[0m\u001b[0;34m)\u001b[0m\u001b[0;34m+\u001b[0m\u001b[0;34m\", _, _, _, _ = SVM.cv(Cs=Cs_\"\u001b[0m\u001b[0;34m+\u001b[0m\u001b[0mstr\u001b[0m\u001b[0;34m(\u001b[0m\u001b[0mk_\u001b[0m\u001b[0;34m)\u001b[0m\u001b[0;34m+\u001b[0m\u001b[0;34m\", data=data_\"\u001b[0m\u001b[0;34m+\u001b[0m\u001b[0mstr\u001b[0m\u001b[0;34m(\u001b[0m\u001b[0mk_\u001b[0m\u001b[0;34m)\u001b[0m\u001b[0;34m+\u001b[0m\u001b[0;34m\", kfolds=kfolds, pickleName=pickleName, K=K, ID=ID)\"\u001b[0m\u001b[0;34m)\u001b[0m\u001b[0;34m\u001b[0m\u001b[0m\n\u001b[0m\u001b[1;32m    277\u001b[0m             \u001b[0mexec\u001b[0m\u001b[0;34m(\u001b[0m\u001b[0;34m\"C[m][k_] = C_opt_\"\u001b[0m\u001b[0;34m+\u001b[0m\u001b[0mstr\u001b[0m\u001b[0;34m(\u001b[0m\u001b[0mk_\u001b[0m\u001b[0;34m)\u001b[0m\u001b[0;34m)\u001b[0m\u001b[0;34m\u001b[0m\u001b[0m\n\u001b[1;32m    278\u001b[0m     \u001b[0;32mreturn\u001b[0m \u001b[0mC\u001b[0m\u001b[0;34m\u001b[0m\u001b[0m\n",
      "\u001b[0;32m~/Desktop/MVA/KERNEL/Kernel_methods_MVA/utils.py\u001b[0m in \u001b[0;36m<module>\u001b[0;34m\u001b[0m\n",
      "\u001b[0;32m~/Desktop/MVA/KERNEL/Kernel_methods_MVA/SVM.py\u001b[0m in \u001b[0;36mcv\u001b[0;34m(Cs, data, kfolds, pickleName, **kwargs)\u001b[0m\n\u001b[1;32m    144\u001b[0m         \u001b[0;32mfor\u001b[0m \u001b[0mC\u001b[0m \u001b[0;32min\u001b[0m \u001b[0mCs\u001b[0m\u001b[0;34m:\u001b[0m\u001b[0;34m\u001b[0m\u001b[0m\n\u001b[1;32m    145\u001b[0m             \u001b[0msvm\u001b[0m \u001b[0;34m=\u001b[0m \u001b[0mC_SVM\u001b[0m\u001b[0;34m(\u001b[0m\u001b[0mC\u001b[0m\u001b[0;34m=\u001b[0m\u001b[0mC\u001b[0m\u001b[0;34m,\u001b[0m \u001b[0mprint_callbacks\u001b[0m\u001b[0;34m=\u001b[0m\u001b[0;32mFalse\u001b[0m\u001b[0;34m,\u001b[0m \u001b[0;34m**\u001b[0m\u001b[0mkwargs\u001b[0m\u001b[0;34m)\u001b[0m\u001b[0;34m\u001b[0m\u001b[0m\n\u001b[0;32m--> 146\u001b[0;31m             \u001b[0msvm\u001b[0m\u001b[0;34m.\u001b[0m\u001b[0mfit\u001b[0m\u001b[0;34m(\u001b[0m\u001b[0mX_train\u001b[0m\u001b[0;34m,\u001b[0m \u001b[0my_train\u001b[0m\u001b[0;34m)\u001b[0m\u001b[0;34m\u001b[0m\u001b[0m\n\u001b[0m\u001b[1;32m    147\u001b[0m             \u001b[0mpred_tr\u001b[0m \u001b[0;34m=\u001b[0m \u001b[0msvm\u001b[0m\u001b[0;34m.\u001b[0m\u001b[0mpredict\u001b[0m\u001b[0;34m(\u001b[0m\u001b[0mX_train\u001b[0m\u001b[0;34m)\u001b[0m\u001b[0;34m\u001b[0m\u001b[0m\n\u001b[1;32m    148\u001b[0m             \u001b[0mscore_tr\u001b[0m \u001b[0;34m=\u001b[0m \u001b[0msvm\u001b[0m\u001b[0;34m.\u001b[0m\u001b[0mscore\u001b[0m\u001b[0;34m(\u001b[0m\u001b[0mpred_tr\u001b[0m\u001b[0;34m,\u001b[0m \u001b[0my_train\u001b[0m\u001b[0;34m)\u001b[0m\u001b[0;34m\u001b[0m\u001b[0m\n",
      "\u001b[0;32m~/Desktop/MVA/KERNEL/Kernel_methods_MVA/SVM.py\u001b[0m in \u001b[0;36mfit\u001b[0;34m(self, X, y)\u001b[0m\n\u001b[1;32m     71\u001b[0m         \u001b[0mself\u001b[0m\u001b[0;34m.\u001b[0m\u001b[0mId_fit\u001b[0m \u001b[0;34m=\u001b[0m \u001b[0mnp\u001b[0m\u001b[0;34m.\u001b[0m\u001b[0marray\u001b[0m\u001b[0;34m(\u001b[0m\u001b[0mX\u001b[0m\u001b[0;34m.\u001b[0m\u001b[0mloc\u001b[0m\u001b[0;34m[\u001b[0m\u001b[0;34m:\u001b[0m\u001b[0;34m,\u001b[0m \u001b[0;34m'Id'\u001b[0m\u001b[0;34m]\u001b[0m\u001b[0;34m)\u001b[0m\u001b[0;34m\u001b[0m\u001b[0m\n\u001b[1;32m     72\u001b[0m         \u001b[0mself\u001b[0m\u001b[0;34m.\u001b[0m\u001b[0midx_fit\u001b[0m \u001b[0;34m=\u001b[0m \u001b[0mnp\u001b[0m\u001b[0;34m.\u001b[0m\u001b[0marray\u001b[0m\u001b[0;34m(\u001b[0m\u001b[0;34m[\u001b[0m\u001b[0mnp\u001b[0m\u001b[0;34m.\u001b[0m\u001b[0mwhere\u001b[0m\u001b[0;34m(\u001b[0m\u001b[0mself\u001b[0m\u001b[0;34m.\u001b[0m\u001b[0mID\u001b[0m \u001b[0;34m==\u001b[0m \u001b[0mself\u001b[0m\u001b[0;34m.\u001b[0m\u001b[0mId_fit\u001b[0m\u001b[0;34m[\u001b[0m\u001b[0mi\u001b[0m\u001b[0;34m]\u001b[0m\u001b[0;34m)\u001b[0m\u001b[0;34m[\u001b[0m\u001b[0;36m0\u001b[0m\u001b[0;34m]\u001b[0m \u001b[0;32mfor\u001b[0m \u001b[0mi\u001b[0m \u001b[0;32min\u001b[0m \u001b[0mrange\u001b[0m\u001b[0;34m(\u001b[0m\u001b[0mlen\u001b[0m\u001b[0;34m(\u001b[0m\u001b[0mself\u001b[0m\u001b[0;34m.\u001b[0m\u001b[0mId_fit\u001b[0m\u001b[0;34m)\u001b[0m\u001b[0;34m)\u001b[0m\u001b[0;34m]\u001b[0m\u001b[0;34m)\u001b[0m\u001b[0;34m.\u001b[0m\u001b[0msqueeze\u001b[0m\u001b[0;34m(\u001b[0m\u001b[0;34m)\u001b[0m\u001b[0;34m\u001b[0m\u001b[0m\n\u001b[0;32m---> 73\u001b[0;31m         \u001b[0mself\u001b[0m\u001b[0;34m.\u001b[0m\u001b[0mK_fit\u001b[0m \u001b[0;34m=\u001b[0m \u001b[0mself\u001b[0m\u001b[0;34m.\u001b[0m\u001b[0mK\u001b[0m\u001b[0;34m[\u001b[0m\u001b[0mself\u001b[0m\u001b[0;34m.\u001b[0m\u001b[0midx_fit\u001b[0m\u001b[0;34m]\u001b[0m\u001b[0;34m[\u001b[0m\u001b[0;34m:\u001b[0m\u001b[0;34m,\u001b[0m \u001b[0mself\u001b[0m\u001b[0;34m.\u001b[0m\u001b[0midx_fit\u001b[0m\u001b[0;34m]\u001b[0m\u001b[0;34m\u001b[0m\u001b[0m\n\u001b[0m\u001b[1;32m     74\u001b[0m         \u001b[0mself\u001b[0m\u001b[0;34m.\u001b[0m\u001b[0my_fit\u001b[0m\u001b[0;34m,\u001b[0m \u001b[0mself\u001b[0m\u001b[0;34m.\u001b[0m\u001b[0mX_fit\u001b[0m\u001b[0;34m,\u001b[0m \u001b[0;34m=\u001b[0m \u001b[0mnp\u001b[0m\u001b[0;34m.\u001b[0m\u001b[0marray\u001b[0m\u001b[0;34m(\u001b[0m\u001b[0my\u001b[0m\u001b[0;34m.\u001b[0m\u001b[0mloc\u001b[0m\u001b[0;34m[\u001b[0m\u001b[0;34m:\u001b[0m\u001b[0;34m,\u001b[0m \u001b[0;34m'Bound'\u001b[0m\u001b[0;34m]\u001b[0m\u001b[0;34m)\u001b[0m\u001b[0;34m,\u001b[0m \u001b[0mX\u001b[0m\u001b[0;34m\u001b[0m\u001b[0m\n\u001b[1;32m     75\u001b[0m         \u001b[0mn\u001b[0m \u001b[0;34m=\u001b[0m \u001b[0mself\u001b[0m\u001b[0;34m.\u001b[0m\u001b[0mK_fit\u001b[0m\u001b[0;34m.\u001b[0m\u001b[0mshape\u001b[0m\u001b[0;34m[\u001b[0m\u001b[0;36m0\u001b[0m\u001b[0;34m]\u001b[0m\u001b[0;34m\u001b[0m\u001b[0m\n",
      "\u001b[0;31mKeyboardInterrupt\u001b[0m: "
     ]
    }
   ],
   "source": [
    "#methods = ['LA_e8_d1', 'MM31', 'MM41', 'MM51', 'MM61', 'MM62', 'SP3', 'SP4', \n",
    "#          'SP5', 'SP6', 'WD4', 'WD5', 'WD10']\n",
    "methods = ['MM61']\n",
    "#Cs = np.concatenate((np.linspace(0.01, 0.1, 19),\n",
    "#                    np.linspace(0.1, 1, 91),\n",
    "#                    np.linspace(1, 10, 91),\n",
    "#                   np.linspace(10, 100, 19)))\n",
    "C_opts = utils.run_expe(methods)#, Cs_1=Cs, Cs_2=Cs, Cs_3=Cs)"
   ]
  },
  {
   "cell_type": "markdown",
   "metadata": {},
   "source": [
    "### Predict with best constant C"
   ]
  },
  {
   "cell_type": "markdown",
   "metadata": {},
   "source": [
    "#### Load data and optimal constants"
   ]
  },
  {
   "cell_type": "code",
   "execution_count": 15,
   "metadata": {
    "ExecuteTime": {
     "end_time": "2019-02-15T08:44:02.941135Z",
     "start_time": "2019-02-15T08:44:00.159316Z"
    }
   },
   "outputs": [],
   "source": [
    "method = 'MM61'\n",
    "X_train, y_train, X_val, y_val, X_test, K, ID = utils.get_training_datas(method=method, all=True, replace=False)\n",
    "#K = kernels.normalize_K(K) # Do nothing if already normalized\n",
    "for k in range(1, 4):\n",
    "    exec(\"X_train_\"+str(k)+\", y_train_\"+str(k)+\", X_val_\"+str(k)+\", y_val_\"+str(k)+\", X_test_\"+str(k)+\", K_\"+str(k)+\", id_\"+str(k)+\" = utils.select_k(k, X_train, y_train, X_val, y_val, X_test, K, ID)\")\n",
    "C_opt_1, C_opt_2, C_opt_3 = [_ for _ in C_opts[method].values()]\n",
    "#C_opt_1, C_opt_2, C_opt_3 = 1.5, 4.5, 0.69"
   ]
  },
  {
   "cell_type": "markdown",
   "metadata": {},
   "source": [
    "#### Data set 1"
   ]
  },
  {
   "cell_type": "code",
   "execution_count": 17,
   "metadata": {
    "ExecuteTime": {
     "end_time": "2019-02-15T08:44:18.010973Z",
     "start_time": "2019-02-15T08:44:17.391627Z"
    },
    "scrolled": true
   },
   "outputs": [
    {
     "name": "stdout",
     "output_type": "stream",
     "text": [
      "Accuracy on train set: 0.8512\n",
      "Accuracy on val set: 0.6128\n"
     ]
    }
   ],
   "source": [
    "svm_1 = SVM.C_SVM(K, ID, C=C_opt_1, print_callbacks=False)\n",
    "res = svm_1.fit(X_train_1, y_train_1)\n",
    "pred_tr_1 = svm_1.predict(X_train_1)\n",
    "print('Accuracy on train set: {:0.4f}'.format(svm_1.score(pred_tr_1, y_train_1)))\n",
    "pred_val_1 = svm_1.predict(X_val_1)\n",
    "print('Accuracy on val set: {:0.4f}'.format(svm_1.score(pred_val_1, y_val_1)))"
   ]
  },
  {
   "cell_type": "markdown",
   "metadata": {},
   "source": [
    "#### Data set 2"
   ]
  },
  {
   "cell_type": "code",
   "execution_count": 19,
   "metadata": {
    "ExecuteTime": {
     "end_time": "2019-02-15T08:44:30.403236Z",
     "start_time": "2019-02-15T08:44:29.635857Z"
    }
   },
   "outputs": [
    {
     "name": "stdout",
     "output_type": "stream",
     "text": [
      "Accuracy on train set: 0.9566\n",
      "Accuracy on val set: 0.6986\n"
     ]
    }
   ],
   "source": [
    "svm_2 = SVM.C_SVM(K, ID, C=C_opt_2, print_callbacks=False)\n",
    "res = svm_2.fit(X_train_2, y_train_2)\n",
    "pred_tr_2 = svm_2.predict(X_train_2)\n",
    "print('Accuracy on train set: {:0.4f}'.format(svm_2.score(pred_tr_2, y_train_2)))\n",
    "pred_val_2 = svm_2.predict(X_val_2)\n",
    "print('Accuracy on val set: {:0.4f}'.format(svm_2.score(pred_val_2, y_val_2)))"
   ]
  },
  {
   "cell_type": "markdown",
   "metadata": {},
   "source": [
    "#### Data set 3"
   ]
  },
  {
   "cell_type": "code",
   "execution_count": 21,
   "metadata": {
    "ExecuteTime": {
     "end_time": "2019-02-15T08:44:41.728061Z",
     "start_time": "2019-02-15T08:44:40.851665Z"
    }
   },
   "outputs": [
    {
     "name": "stdout",
     "output_type": "stream",
     "text": [
      "Accuracy on train set: 0.9059\n",
      "Accuracy on val set: 0.6068\n"
     ]
    }
   ],
   "source": [
    "svm_3 = SVM.C_SVM(K, ID, C=C_opt_3, print_callbacks=False)\n",
    "res = svm_3.fit(X_train_3, y_train_3)\n",
    "pred_tr_3 = svm_3.predict(X_train_3)\n",
    "print('Accuracy on train set: {:0.4f}'.format(svm_3.score(pred_tr_3, y_train_3)))\n",
    "pred_val_3 = svm_3.predict(X_val_3)\n",
    "print('Accuracy on val set: {:0.4f}'.format(svm_3.score(pred_val_3, y_val_3)))"
   ]
  },
  {
   "cell_type": "markdown",
   "metadata": {},
   "source": [
    "### Export predictions"
   ]
  },
  {
   "cell_type": "markdown",
   "metadata": {},
   "source": [
    "These predictions are dumped into branch master without being pushed. They can be found in your local repo. Submit here : https://www.kaggle.com/c/kernel-methods-for-machine-learning-2018-2019/submit"
   ]
  },
  {
   "cell_type": "code",
   "execution_count": 93,
   "metadata": {
    "ExecuteTime": {
     "end_time": "2019-02-13T22:42:14.704384Z",
     "start_time": "2019-02-13T22:42:14.414245Z"
    },
    "scrolled": true
   },
   "outputs": [],
   "source": [
    "y_pred_test = utils.export_predictions([svm_1, svm_2, svm_3], [X_test_1, X_test_2, X_test_3])"
   ]
  },
  {
   "cell_type": "markdown",
   "metadata": {},
   "source": [
    "## ALIGNF"
   ]
  },
  {
   "cell_type": "markdown",
   "metadata": {},
   "source": [
    "This algorithm determines the optimal linear combination of kernels (specified by ``methods``) through a convex optimization problem (https://cs.nyu.edu/~mohri/pub/align.pdf)."
   ]
  },
  {
   "cell_type": "code",
   "execution_count": 5,
   "metadata": {
    "ExecuteTime": {
     "end_time": "2019-02-15T23:55:09.651297Z",
     "start_time": "2019-02-15T23:54:36.981838Z"
    },
    "scrolled": true
   },
   "outputs": [
    {
     "name": "stdout",
     "output_type": "stream",
     "text": [
      "Centering kernels...\n",
      "Computing vector a...\n",
      "Computing matrix M...\n",
      "Gradient descent...\n",
      "Iteration  1 : loss=  0.0000\n",
      "Iteration  2 : loss=-1137.5940, tol=1137.5940\n",
      "Iteration  3 : loss=-1359.9853, tol=222.3913\n",
      "Iteration  4 : loss=-1377.8084, tol= 17.8231\n",
      "Iteration  5 : loss=-1424.4412, tol= 46.6328\n",
      "Iteration  6 : loss=-1426.1941, tol=  1.7529\n",
      "Iteration  7 : loss=-1426.2593, tol=  0.0652\n",
      "Iteration  8 : loss=-1426.2595, tol=  0.0002\n",
      "Iteration  9 : loss=-1426.2595, tol=  0.0000\n",
      "Alignment vector :  [0.94237575 0.         0.33455633] \n",
      "-------------------------------------------------------------\n",
      "Centering kernels...\n",
      "Computing vector a...\n",
      "Computing matrix M...\n",
      "Gradient descent...\n",
      "Iteration  1 : loss=  0.0000\n",
      "Iteration  2 : loss=-660.2839, tol=660.2839\n",
      "Iteration  3 : loss=-1455.2818, tol=794.9979\n",
      "Iteration  4 : loss=-1459.2040, tol=  3.9222\n",
      "Iteration  5 : loss=-1502.9929, tol= 43.7889\n",
      "Iteration  6 : loss=-1580.6106, tol= 77.6177\n",
      "Iteration  7 : loss=-1791.8984, tol=211.2878\n",
      "Iteration  8 : loss=-2151.3369, tol=359.4385\n",
      "Iteration  9 : loss=-2511.0553, tol=359.7185\n",
      "Iteration 10 : loss=-2789.3443, tol=278.2889\n",
      "Iteration 11 : loss=-2809.2136, tol= 19.8693\n",
      "Iteration 12 : loss=-2809.9974, tol=  0.7838\n",
      "Iteration 13 : loss=-2810.0013, tol=  0.0039\n",
      "Iteration 14 : loss=-2810.0013, tol=  0.0000\n",
      "Iteration 15 : loss=-2810.0013, tol=  0.0000\n",
      "Alignment vector :  [0.94927591 0.         0.31444436] \n",
      "-------------------------------------------------------------\n",
      "Centering kernels...\n",
      "Computing vector a...\n",
      "Computing matrix M...\n",
      "Gradient descent...\n",
      "Iteration  1 : loss=-4964.1646\n",
      "Iteration  2 : loss=-5538.1242, tol=573.9596\n",
      "Iteration  3 : loss=-7211.6575, tol=1673.5333\n",
      "Iteration  4 : loss=-7213.4889, tol=  1.8313\n",
      "Iteration  5 : loss=-7215.1309, tol=  1.6421\n",
      "Iteration  6 : loss=-7215.1309, tol=  0.0000\n",
      "Alignment vector :  [0.95109386 0.00146306 0.30889857] \n",
      "-------------------------------------------------------------\n"
     ]
    }
   ],
   "source": [
    "methods = ['SP6', 'MM51', 'WD5']\n",
    "data, data1, data2, data3, aligned_k, ID = ALIGNF.aligned_kernels(methods)"
   ]
  },
  {
   "cell_type": "code",
   "execution_count": 6,
   "metadata": {
    "ExecuteTime": {
     "end_time": "2019-02-15T23:56:54.033369Z",
     "start_time": "2019-02-15T23:55:53.908183Z"
    }
   },
   "outputs": [
    {
     "data": {
      "application/vnd.jupyter.widget-view+json": {
       "model_id": "19acf50b840d42cb8416dee3b05d0d55",
       "version_major": 2,
       "version_minor": 0
      },
      "text/plain": [
       "HBox(children=(IntProgress(value=0, max=5), HTML(value='')))"
      ]
     },
     "metadata": {},
     "output_type": "display_data"
    },
    {
     "name": "stdout",
     "output_type": "stream",
     "text": [
      "Fold 1\n",
      "C=1e-05, train_acc=0.0000, val_acc=0.0000\n",
      "C=2e-05, train_acc=0.5744, val_acc=0.5250\n",
      "C=3.0000000000000004e-05, train_acc=0.5744, val_acc=0.5250\n",
      "C=4e-05, train_acc=0.5744, val_acc=0.5250\n",
      "C=5e-05, train_acc=0.5744, val_acc=0.5250\n",
      "C=6.000000000000001e-05, train_acc=0.5744, val_acc=0.5250\n",
      "C=7.000000000000001e-05, train_acc=0.5744, val_acc=0.5250\n",
      "C=8e-05, train_acc=0.5744, val_acc=0.5250\n",
      "C=9e-05, train_acc=0.5744, val_acc=0.5250\n",
      "C=0.0001, train_acc=0.5744, val_acc=0.5250\n",
      "C=0.0002, train_acc=0.5744, val_acc=0.5250\n",
      "C=0.00030000000000000003, train_acc=0.5744, val_acc=0.5250\n",
      "C=0.0004, train_acc=0.5988, val_acc=0.5275\n",
      "C=0.0005, train_acc=0.6531, val_acc=0.5550\n",
      "C=0.0006000000000000001, train_acc=0.7100, val_acc=0.5850\n",
      "C=0.0007, train_acc=0.7681, val_acc=0.5825\n",
      "C=0.0008, train_acc=0.7994, val_acc=0.5700\n",
      "C=0.0009000000000000001, train_acc=0.8100, val_acc=0.5875\n",
      "C=0.001, train_acc=0.8125, val_acc=0.6100\n",
      "C=0.002, train_acc=0.7669, val_acc=0.5600\n",
      "C=0.003, train_acc=0.8394, val_acc=0.6100\n",
      "C=0.004, train_acc=0.8694, val_acc=0.6125\n",
      "C=0.005, train_acc=0.8869, val_acc=0.6150\n",
      "C=0.006, train_acc=0.9044, val_acc=0.6125\n",
      "C=0.007, train_acc=0.9175, val_acc=0.6150\n",
      "C=0.008, train_acc=0.9250, val_acc=0.6125\n",
      "C=0.009000000000000001, train_acc=0.9319, val_acc=0.6100\n",
      "C=0.01, train_acc=0.9394, val_acc=0.6200\n",
      "C=0.02, train_acc=0.9775, val_acc=0.6225\n",
      "C=0.03, train_acc=0.9881, val_acc=0.6075\n",
      "C=0.04, train_acc=0.9938, val_acc=0.6000\n",
      "C=0.05, train_acc=0.9969, val_acc=0.6100\n",
      "C=0.06, train_acc=0.9981, val_acc=0.6075\n",
      "C=0.07, train_acc=0.9988, val_acc=0.6125\n",
      "C=0.08, train_acc=0.9988, val_acc=0.6125\n",
      "C=0.09, train_acc=0.9994, val_acc=0.6125\n",
      "C=0.1, train_acc=0.9994, val_acc=0.6125\n",
      "C=0.2, train_acc=1.0000, val_acc=0.6050\n",
      "C=0.30000000000000004, train_acc=1.0000, val_acc=0.5975\n",
      "C=0.4, train_acc=1.0000, val_acc=0.5975\n",
      "C=0.5, train_acc=1.0000, val_acc=0.5975\n",
      "C=0.6000000000000001, train_acc=1.0000, val_acc=0.5950\n",
      "C=0.7000000000000001, train_acc=1.0000, val_acc=0.5975\n",
      "C=0.8, train_acc=1.0000, val_acc=0.5975\n",
      "C=0.9, train_acc=1.0000, val_acc=0.5975\n",
      "C=1.0, train_acc=1.0000, val_acc=0.5975\n",
      "C=2.0, train_acc=1.0000, val_acc=0.5975\n",
      "C=3.0, train_acc=1.0000, val_acc=0.5975\n",
      "C=4.0, train_acc=1.0000, val_acc=0.5975\n",
      "C=5.0, train_acc=1.0000, val_acc=0.5975\n",
      "C=6.0, train_acc=1.0000, val_acc=0.5975\n",
      "C=7.0, train_acc=1.0000, val_acc=0.5975\n",
      "C=8.0, train_acc=1.0000, val_acc=0.5975\n",
      "C=9.0, train_acc=1.0000, val_acc=0.5975\n",
      "C=10.0, train_acc=1.0000, val_acc=0.5975\n",
      "C=20.0, train_acc=1.0000, val_acc=0.5950\n",
      "C=30.0, train_acc=1.0000, val_acc=0.5975\n",
      "C=40.0, train_acc=1.0000, val_acc=0.5975\n",
      "C=50.0, train_acc=1.0000, val_acc=0.5975\n",
      "C=60.0, train_acc=1.0000, val_acc=0.5975\n",
      "C=70.0, train_acc=1.0000, val_acc=0.5975\n",
      "C=80.0, train_acc=1.0000, val_acc=0.5975\n",
      "C=90.0, train_acc=1.0000, val_acc=0.5975\n",
      "Fold 2\n",
      "C=1e-05, train_acc=0.0000, val_acc=0.0000\n",
      "C=2e-05, train_acc=0.6175, val_acc=0.5300\n",
      "C=3.0000000000000004e-05, train_acc=0.6175, val_acc=0.5300\n",
      "C=4e-05, train_acc=0.6175, val_acc=0.5300\n",
      "C=5e-05, train_acc=0.6175, val_acc=0.5300\n",
      "C=6.000000000000001e-05, train_acc=0.6175, val_acc=0.5300\n",
      "C=7.000000000000001e-05, train_acc=0.6175, val_acc=0.5300\n",
      "C=8e-05, train_acc=0.6175, val_acc=0.5300\n",
      "C=9e-05, train_acc=0.6175, val_acc=0.5300\n",
      "C=0.0001, train_acc=0.6175, val_acc=0.5300\n",
      "C=0.0002, train_acc=0.6175, val_acc=0.5300\n",
      "C=0.00030000000000000003, train_acc=0.6175, val_acc=0.5300\n",
      "C=0.0004, train_acc=0.6238, val_acc=0.5325\n",
      "C=0.0005, train_acc=0.6706, val_acc=0.5300\n",
      "C=0.0006000000000000001, train_acc=0.7312, val_acc=0.5325\n",
      "C=0.0007, train_acc=0.7850, val_acc=0.5600\n",
      "C=0.0008, train_acc=0.8037, val_acc=0.5725\n",
      "C=0.0009000000000000001, train_acc=0.8144, val_acc=0.5750\n",
      "C=0.001, train_acc=0.8219, val_acc=0.5875\n",
      "C=0.002, train_acc=0.7969, val_acc=0.5700\n",
      "C=0.003, train_acc=0.8494, val_acc=0.6025\n",
      "C=0.004, train_acc=0.8750, val_acc=0.5850\n",
      "C=0.005, train_acc=0.8931, val_acc=0.6000\n",
      "C=0.006, train_acc=0.9087, val_acc=0.5975\n",
      "C=0.007, train_acc=0.9231, val_acc=0.5850\n",
      "C=0.008, train_acc=0.9319, val_acc=0.5800\n",
      "C=0.009000000000000001, train_acc=0.9413, val_acc=0.5850\n",
      "C=0.01, train_acc=0.9419, val_acc=0.5800\n",
      "C=0.02, train_acc=0.9819, val_acc=0.5800\n",
      "C=0.03, train_acc=0.9925, val_acc=0.5775\n",
      "C=0.04, train_acc=0.9962, val_acc=0.5675\n",
      "C=0.05, train_acc=0.9975, val_acc=0.5750\n",
      "C=0.06, train_acc=0.9988, val_acc=0.5800\n",
      "C=0.07, train_acc=0.9988, val_acc=0.5800\n",
      "C=0.08, train_acc=0.9994, val_acc=0.5800\n",
      "C=0.09, train_acc=0.9994, val_acc=0.5800\n",
      "C=0.1, train_acc=0.9994, val_acc=0.5750\n",
      "C=0.2, train_acc=1.0000, val_acc=0.5800\n",
      "C=0.30000000000000004, train_acc=1.0000, val_acc=0.5800\n",
      "C=0.4, train_acc=1.0000, val_acc=0.5800\n",
      "C=0.5, train_acc=1.0000, val_acc=0.5800\n",
      "C=0.6000000000000001, train_acc=1.0000, val_acc=0.5800\n",
      "C=0.7000000000000001, train_acc=1.0000, val_acc=0.5800\n",
      "C=0.8, train_acc=1.0000, val_acc=0.5800\n",
      "C=0.9, train_acc=1.0000, val_acc=0.5800\n",
      "C=1.0, train_acc=1.0000, val_acc=0.5800\n",
      "C=2.0, train_acc=1.0000, val_acc=0.5800\n",
      "C=3.0, train_acc=1.0000, val_acc=0.5800\n",
      "C=4.0, train_acc=1.0000, val_acc=0.5800\n",
      "C=5.0, train_acc=1.0000, val_acc=0.5800\n",
      "C=6.0, train_acc=1.0000, val_acc=0.5800\n",
      "C=7.0, train_acc=1.0000, val_acc=0.5800\n",
      "C=8.0, train_acc=1.0000, val_acc=0.5800\n",
      "C=9.0, train_acc=1.0000, val_acc=0.5800\n"
     ]
    },
    {
     "ename": "KeyboardInterrupt",
     "evalue": "",
     "output_type": "error",
     "traceback": [
      "\u001b[0;31m---------------------------------------------------------------------------\u001b[0m",
      "\u001b[0;31mKeyboardInterrupt\u001b[0m                         Traceback (most recent call last)",
      "\u001b[0;32m<ipython-input-6-b1bbef97339e>\u001b[0m in \u001b[0;36m<module>\u001b[0;34m\u001b[0m\n\u001b[1;32m      1\u001b[0m \u001b[0mCs\u001b[0m\u001b[0;34m=\u001b[0m \u001b[0mnp\u001b[0m\u001b[0;34m.\u001b[0m\u001b[0msort\u001b[0m\u001b[0;34m(\u001b[0m\u001b[0;34m[\u001b[0m\u001b[0mi\u001b[0m\u001b[0;34m*\u001b[0m\u001b[0;36m10\u001b[0m\u001b[0;34m**\u001b[0m\u001b[0mj\u001b[0m \u001b[0;32mfor\u001b[0m \u001b[0;34m(\u001b[0m\u001b[0mi\u001b[0m\u001b[0;34m,\u001b[0m\u001b[0mj\u001b[0m\u001b[0;34m)\u001b[0m \u001b[0;32min\u001b[0m \u001b[0mproduct\u001b[0m\u001b[0;34m(\u001b[0m\u001b[0mrange\u001b[0m\u001b[0;34m(\u001b[0m\u001b[0;36m1\u001b[0m\u001b[0;34m,\u001b[0m\u001b[0;36m10\u001b[0m\u001b[0;34m)\u001b[0m\u001b[0;34m,\u001b[0m \u001b[0mrange\u001b[0m\u001b[0;34m(\u001b[0m\u001b[0;34m-\u001b[0m\u001b[0;36m5\u001b[0m\u001b[0;34m,\u001b[0m\u001b[0;36m2\u001b[0m\u001b[0;34m)\u001b[0m\u001b[0;34m)\u001b[0m\u001b[0;34m]\u001b[0m\u001b[0;34m)\u001b[0m\u001b[0;34m\u001b[0m\u001b[0m\n\u001b[0;32m----> 2\u001b[0;31m \u001b[0mSVM\u001b[0m\u001b[0;34m.\u001b[0m\u001b[0mcv\u001b[0m\u001b[0;34m(\u001b[0m\u001b[0mCs\u001b[0m\u001b[0;34m=\u001b[0m\u001b[0mCs\u001b[0m\u001b[0;34m,\u001b[0m \u001b[0mdata\u001b[0m\u001b[0;34m=\u001b[0m\u001b[0mdata1\u001b[0m\u001b[0;34m,\u001b[0m \u001b[0mkfolds\u001b[0m\u001b[0;34m=\u001b[0m\u001b[0;36m5\u001b[0m\u001b[0;34m,\u001b[0m \u001b[0mpickleName\u001b[0m\u001b[0;34m=\u001b[0m\u001b[0;34m'cv_C_SVM_k1_alignf'\u001b[0m\u001b[0;34m,\u001b[0m \u001b[0mK\u001b[0m\u001b[0;34m=\u001b[0m\u001b[0maligned_k\u001b[0m\u001b[0;34m[\u001b[0m\u001b[0;36m0\u001b[0m\u001b[0;34m]\u001b[0m\u001b[0;34m,\u001b[0m \u001b[0mID\u001b[0m\u001b[0;34m=\u001b[0m\u001b[0mID\u001b[0m\u001b[0;34m)\u001b[0m\u001b[0;34m\u001b[0m\u001b[0m\n\u001b[0m\u001b[1;32m      3\u001b[0m \u001b[0mSVM\u001b[0m\u001b[0;34m.\u001b[0m\u001b[0mcv\u001b[0m\u001b[0;34m(\u001b[0m\u001b[0mCs\u001b[0m\u001b[0;34m=\u001b[0m\u001b[0mCs\u001b[0m\u001b[0;34m,\u001b[0m \u001b[0mdata\u001b[0m\u001b[0;34m=\u001b[0m\u001b[0mdata2\u001b[0m\u001b[0;34m,\u001b[0m \u001b[0mkfolds\u001b[0m\u001b[0;34m=\u001b[0m\u001b[0;36m5\u001b[0m\u001b[0;34m,\u001b[0m \u001b[0mpickleName\u001b[0m\u001b[0;34m=\u001b[0m\u001b[0;34m'cv_C_SVM_k2_alignf'\u001b[0m\u001b[0;34m,\u001b[0m \u001b[0mK\u001b[0m\u001b[0;34m=\u001b[0m\u001b[0maligned_k\u001b[0m\u001b[0;34m[\u001b[0m\u001b[0;36m1\u001b[0m\u001b[0;34m]\u001b[0m\u001b[0;34m,\u001b[0m \u001b[0mID\u001b[0m\u001b[0;34m=\u001b[0m\u001b[0mID\u001b[0m\u001b[0;34m)\u001b[0m\u001b[0;34m\u001b[0m\u001b[0m\n\u001b[1;32m      4\u001b[0m \u001b[0mSVM\u001b[0m\u001b[0;34m.\u001b[0m\u001b[0mcv\u001b[0m\u001b[0;34m(\u001b[0m\u001b[0mCs\u001b[0m\u001b[0;34m=\u001b[0m\u001b[0mCs\u001b[0m\u001b[0;34m,\u001b[0m \u001b[0mdata\u001b[0m\u001b[0;34m=\u001b[0m\u001b[0mdata3\u001b[0m\u001b[0;34m,\u001b[0m \u001b[0mkfolds\u001b[0m\u001b[0;34m=\u001b[0m\u001b[0;36m5\u001b[0m\u001b[0;34m,\u001b[0m \u001b[0mpickleName\u001b[0m\u001b[0;34m=\u001b[0m\u001b[0;34m'cv_C_SVM_k3_alignf'\u001b[0m\u001b[0;34m,\u001b[0m \u001b[0mK\u001b[0m\u001b[0;34m=\u001b[0m\u001b[0maligned_k\u001b[0m\u001b[0;34m[\u001b[0m\u001b[0;36m2\u001b[0m\u001b[0;34m]\u001b[0m\u001b[0;34m,\u001b[0m \u001b[0mID\u001b[0m\u001b[0;34m=\u001b[0m\u001b[0mID\u001b[0m\u001b[0;34m)\u001b[0m\u001b[0;34m\u001b[0m\u001b[0m\n",
      "\u001b[0;32m~/Desktop/MVA/KERNEL/Kernel_methods_MVA/SVM.py\u001b[0m in \u001b[0;36mcv\u001b[0;34m(Cs, data, kfolds, pickleName, **kwargs)\u001b[0m\n\u001b[1;32m    144\u001b[0m         \u001b[0;32mfor\u001b[0m \u001b[0mC\u001b[0m \u001b[0;32min\u001b[0m \u001b[0mCs\u001b[0m\u001b[0;34m:\u001b[0m\u001b[0;34m\u001b[0m\u001b[0m\n\u001b[1;32m    145\u001b[0m             \u001b[0msvm\u001b[0m \u001b[0;34m=\u001b[0m \u001b[0mC_SVM\u001b[0m\u001b[0;34m(\u001b[0m\u001b[0mC\u001b[0m\u001b[0;34m=\u001b[0m\u001b[0mC\u001b[0m\u001b[0;34m,\u001b[0m \u001b[0mprint_callbacks\u001b[0m\u001b[0;34m=\u001b[0m\u001b[0;32mFalse\u001b[0m\u001b[0;34m,\u001b[0m \u001b[0;34m**\u001b[0m\u001b[0mkwargs\u001b[0m\u001b[0;34m)\u001b[0m\u001b[0;34m\u001b[0m\u001b[0m\n\u001b[0;32m--> 146\u001b[0;31m             \u001b[0msvm\u001b[0m\u001b[0;34m.\u001b[0m\u001b[0mfit\u001b[0m\u001b[0;34m(\u001b[0m\u001b[0mX_train\u001b[0m\u001b[0;34m,\u001b[0m \u001b[0my_train\u001b[0m\u001b[0;34m)\u001b[0m\u001b[0;34m\u001b[0m\u001b[0m\n\u001b[0m\u001b[1;32m    147\u001b[0m             \u001b[0mpred_tr\u001b[0m \u001b[0;34m=\u001b[0m \u001b[0msvm\u001b[0m\u001b[0;34m.\u001b[0m\u001b[0mpredict\u001b[0m\u001b[0;34m(\u001b[0m\u001b[0mX_train\u001b[0m\u001b[0;34m)\u001b[0m\u001b[0;34m\u001b[0m\u001b[0m\n\u001b[1;32m    148\u001b[0m             \u001b[0mscore_tr\u001b[0m \u001b[0;34m=\u001b[0m \u001b[0msvm\u001b[0m\u001b[0;34m.\u001b[0m\u001b[0mscore\u001b[0m\u001b[0;34m(\u001b[0m\u001b[0mpred_tr\u001b[0m\u001b[0;34m,\u001b[0m \u001b[0my_train\u001b[0m\u001b[0;34m)\u001b[0m\u001b[0;34m\u001b[0m\u001b[0m\n",
      "\u001b[0;32m~/Desktop/MVA/KERNEL/Kernel_methods_MVA/SVM.py\u001b[0m in \u001b[0;36mfit\u001b[0;34m(self, X, y)\u001b[0m\n\u001b[1;32m     80\u001b[0m         \u001b[0mbounds_up\u001b[0m \u001b[0;34m=\u001b[0m \u001b[0;34m[\u001b[0m\u001b[0;34m+\u001b[0m\u001b[0mself\u001b[0m\u001b[0;34m.\u001b[0m\u001b[0mC\u001b[0m \u001b[0;32mif\u001b[0m \u001b[0mself\u001b[0m\u001b[0;34m.\u001b[0m\u001b[0my_fit\u001b[0m\u001b[0;34m[\u001b[0m\u001b[0mi\u001b[0m\u001b[0;34m]\u001b[0m \u001b[0;34m>=\u001b[0m \u001b[0;36m0\u001b[0m \u001b[0;32melse\u001b[0m \u001b[0;36m0\u001b[0m \u001b[0;32mfor\u001b[0m \u001b[0mi\u001b[0m \u001b[0;32min\u001b[0m \u001b[0mrange\u001b[0m\u001b[0;34m(\u001b[0m\u001b[0mn\u001b[0m\u001b[0;34m)\u001b[0m\u001b[0;34m]\u001b[0m\u001b[0;34m\u001b[0m\u001b[0m\n\u001b[1;32m     81\u001b[0m         \u001b[0mbounds\u001b[0m \u001b[0;34m=\u001b[0m \u001b[0;34m[\u001b[0m\u001b[0;34m[\u001b[0m\u001b[0mbounds_down\u001b[0m\u001b[0;34m[\u001b[0m\u001b[0mi\u001b[0m\u001b[0;34m]\u001b[0m\u001b[0;34m,\u001b[0m \u001b[0mbounds_up\u001b[0m\u001b[0;34m[\u001b[0m\u001b[0mi\u001b[0m\u001b[0;34m]\u001b[0m\u001b[0;34m]\u001b[0m \u001b[0;32mfor\u001b[0m \u001b[0mi\u001b[0m \u001b[0;32min\u001b[0m \u001b[0mrange\u001b[0m\u001b[0;34m(\u001b[0m\u001b[0mn\u001b[0m\u001b[0;34m)\u001b[0m\u001b[0;34m]\u001b[0m\u001b[0;34m\u001b[0m\u001b[0m\n\u001b[0;32m---> 82\u001b[0;31m         \u001b[0mres\u001b[0m \u001b[0;34m=\u001b[0m \u001b[0mfmin_l_bfgs_b\u001b[0m\u001b[0;34m(\u001b[0m\u001b[0mself\u001b[0m\u001b[0;34m.\u001b[0m\u001b[0mloss\u001b[0m\u001b[0;34m,\u001b[0m \u001b[0ma0\u001b[0m\u001b[0;34m,\u001b[0m \u001b[0mfprime\u001b[0m\u001b[0;34m=\u001b[0m\u001b[0mself\u001b[0m\u001b[0;34m.\u001b[0m\u001b[0mjac\u001b[0m\u001b[0;34m,\u001b[0m \u001b[0mbounds\u001b[0m\u001b[0;34m=\u001b[0m\u001b[0mbounds\u001b[0m\u001b[0;34m,\u001b[0m \u001b[0mcallback\u001b[0m\u001b[0;34m=\u001b[0m\u001b[0mself\u001b[0m\u001b[0;34m.\u001b[0m\u001b[0mcallbackF\u001b[0m\u001b[0;34m)\u001b[0m\u001b[0;34m\u001b[0m\u001b[0m\n\u001b[0m\u001b[1;32m     83\u001b[0m         \u001b[0;31m# Align support vectors index with index from fit set\u001b[0m\u001b[0;34m\u001b[0m\u001b[0;34m\u001b[0m\u001b[0m\n\u001b[1;32m     84\u001b[0m         \u001b[0mself\u001b[0m\u001b[0;34m.\u001b[0m\u001b[0midx_sv\u001b[0m \u001b[0;34m=\u001b[0m \u001b[0mnp\u001b[0m\u001b[0;34m.\u001b[0m\u001b[0mwhere\u001b[0m\u001b[0;34m(\u001b[0m\u001b[0mnp\u001b[0m\u001b[0;34m.\u001b[0m\u001b[0mabs\u001b[0m\u001b[0;34m(\u001b[0m\u001b[0mres\u001b[0m\u001b[0;34m[\u001b[0m\u001b[0;36m0\u001b[0m\u001b[0;34m]\u001b[0m\u001b[0;34m)\u001b[0m \u001b[0;34m>\u001b[0m \u001b[0mself\u001b[0m\u001b[0;34m.\u001b[0m\u001b[0meps\u001b[0m\u001b[0;34m)\u001b[0m\u001b[0;34m\u001b[0m\u001b[0m\n",
      "\u001b[0;32m~/anaconda3/lib/python3.6/site-packages/scipy/optimize/lbfgsb.py\u001b[0m in \u001b[0;36mfmin_l_bfgs_b\u001b[0;34m(func, x0, fprime, args, approx_grad, bounds, m, factr, pgtol, epsilon, iprint, maxfun, maxiter, disp, callback, maxls)\u001b[0m\n\u001b[1;32m    197\u001b[0m \u001b[0;34m\u001b[0m\u001b[0m\n\u001b[1;32m    198\u001b[0m     res = _minimize_lbfgsb(fun, x0, args=args, jac=jac, bounds=bounds,\n\u001b[0;32m--> 199\u001b[0;31m                            **opts)\n\u001b[0m\u001b[1;32m    200\u001b[0m     d = {'grad': res['jac'],\n\u001b[1;32m    201\u001b[0m          \u001b[0;34m'task'\u001b[0m\u001b[0;34m:\u001b[0m \u001b[0mres\u001b[0m\u001b[0;34m[\u001b[0m\u001b[0;34m'message'\u001b[0m\u001b[0;34m]\u001b[0m\u001b[0;34m,\u001b[0m\u001b[0;34m\u001b[0m\u001b[0m\n",
      "\u001b[0;32m~/anaconda3/lib/python3.6/site-packages/scipy/optimize/lbfgsb.py\u001b[0m in \u001b[0;36m_minimize_lbfgsb\u001b[0;34m(fun, x0, args, jac, bounds, disp, maxcor, ftol, gtol, eps, maxfun, maxiter, iprint, callback, maxls, **unknown_options)\u001b[0m\n\u001b[1;32m    326\u001b[0m         _lbfgsb.setulb(m, x, low_bnd, upper_bnd, nbd, f, g, factr,\n\u001b[1;32m    327\u001b[0m                        \u001b[0mpgtol\u001b[0m\u001b[0;34m,\u001b[0m \u001b[0mwa\u001b[0m\u001b[0;34m,\u001b[0m \u001b[0miwa\u001b[0m\u001b[0;34m,\u001b[0m \u001b[0mtask\u001b[0m\u001b[0;34m,\u001b[0m \u001b[0miprint\u001b[0m\u001b[0;34m,\u001b[0m \u001b[0mcsave\u001b[0m\u001b[0;34m,\u001b[0m \u001b[0mlsave\u001b[0m\u001b[0;34m,\u001b[0m\u001b[0;34m\u001b[0m\u001b[0m\n\u001b[0;32m--> 328\u001b[0;31m                        isave, dsave, maxls)\n\u001b[0m\u001b[1;32m    329\u001b[0m         \u001b[0mtask_str\u001b[0m \u001b[0;34m=\u001b[0m \u001b[0mtask\u001b[0m\u001b[0;34m.\u001b[0m\u001b[0mtostring\u001b[0m\u001b[0;34m(\u001b[0m\u001b[0;34m)\u001b[0m\u001b[0;34m\u001b[0m\u001b[0m\n\u001b[1;32m    330\u001b[0m         \u001b[0;32mif\u001b[0m \u001b[0mtask_str\u001b[0m\u001b[0;34m.\u001b[0m\u001b[0mstartswith\u001b[0m\u001b[0;34m(\u001b[0m\u001b[0;34mb'FG'\u001b[0m\u001b[0;34m)\u001b[0m\u001b[0;34m:\u001b[0m\u001b[0;34m\u001b[0m\u001b[0m\n",
      "\u001b[0;31mKeyboardInterrupt\u001b[0m: "
     ]
    }
   ],
   "source": [
    "Cs= np.sort([i*10**j for (i,j) in product(range(1,10), range(-5,2))])\n",
    "SVM.cv(Cs=Cs, data=data1, kfolds=5, pickleName='cv_C_SVM_k1_alignf', K=aligned_k[0], ID=ID)\n",
    "SVM.cv(Cs=Cs, data=data2, kfolds=5, pickleName='cv_C_SVM_k2_alignf', K=aligned_k[1], ID=ID)\n",
    "SVM.cv(Cs=Cs, data=data3, kfolds=5, pickleName='cv_C_SVM_k3_alignf', K=aligned_k[2], ID=ID)"
   ]
  },
  {
   "cell_type": "code",
   "execution_count": null,
   "metadata": {},
   "outputs": [],
   "source": []
  }
 ],
 "metadata": {
  "hide_input": false,
  "kernelspec": {
   "display_name": "Python 3",
   "language": "python",
   "name": "python3"
  },
  "language_info": {
   "codemirror_mode": {
    "name": "ipython",
    "version": 3
   },
   "file_extension": ".py",
   "mimetype": "text/x-python",
   "name": "python",
   "nbconvert_exporter": "python",
   "pygments_lexer": "ipython3",
   "version": "3.6.6"
  },
  "latex_envs": {
   "LaTeX_envs_menu_present": true,
   "autoclose": false,
   "autocomplete": true,
   "bibliofile": "biblio.bib",
   "cite_by": "apalike",
   "current_citInitial": 1,
   "eqLabelWithNumbers": true,
   "eqNumInitial": 1,
   "hotkeys": {
    "equation": "Ctrl-E",
    "itemize": "Ctrl-I"
   },
   "labels_anchors": false,
   "latex_user_defs": false,
   "report_style_numbering": false,
   "user_envs_cfg": false
  },
  "toc": {
   "base_numbering": 1,
   "nav_menu": {},
   "number_sections": false,
   "sideBar": true,
   "skip_h1_title": false,
   "title_cell": "Table of Contents",
   "title_sidebar": "Contents",
   "toc_cell": false,
   "toc_position": {},
   "toc_section_display": true,
   "toc_window_display": true
  }
 },
 "nbformat": 4,
 "nbformat_minor": 2
}
