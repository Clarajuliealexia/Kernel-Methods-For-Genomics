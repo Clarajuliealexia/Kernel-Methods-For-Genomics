{
 "cells": [
  {
   "cell_type": "markdown",
   "metadata": {
    "ExecuteTime": {
     "end_time": "2019-02-07T16:47:51.714676Z",
     "start_time": "2019-02-07T16:47:51.710445Z"
    }
   },
   "source": [
    "# Kernel methods : Data Challenge (TF)"
   ]
  },
  {
   "cell_type": "markdown",
   "metadata": {},
   "source": [
    "Meilleures accuracy :\n",
    "- Mismatch (k=6, m=1)\n",
    "- Weight Degree (d=6)\n",
    "- Local Alignment (e=11, d=2)"
   ]
  },
  {
   "cell_type": "markdown",
   "metadata": {},
   "source": [
    "## Packages import"
   ]
  },
  {
   "cell_type": "code",
   "execution_count": 1,
   "metadata": {
    "ExecuteTime": {
     "end_time": "2019-02-14T16:45:46.835005Z",
     "start_time": "2019-02-14T16:45:45.704039Z"
    }
   },
   "outputs": [],
   "source": [
    "import os\n",
    "import datetime\n",
    "import utils  \n",
    "import kernels\n",
    "import SVM\n",
    "import SVM2\n",
    "import numpy as np\n",
    "from itertools import product"
   ]
  },
  {
   "cell_type": "markdown",
   "metadata": {},
   "source": [
    "## C-SVM"
   ]
  },
  {
   "cell_type": "markdown",
   "metadata": {},
   "source": [
    "### Accuracies obtained so far for each methods"
   ]
  },
  {
   "cell_type": "code",
   "execution_count": 2,
   "metadata": {
    "ExecuteTime": {
     "end_time": "2019-02-14T16:39:43.271314Z",
     "start_time": "2019-02-14T16:39:43.179885Z"
    }
   },
   "outputs": [
    {
     "data": {
      "text/html": [
       "<div>\n",
       "<style scoped>\n",
       "    .dataframe tbody tr th:only-of-type {\n",
       "        vertical-align: middle;\n",
       "    }\n",
       "\n",
       "    .dataframe tbody tr th {\n",
       "        vertical-align: top;\n",
       "    }\n",
       "\n",
       "    .dataframe thead th {\n",
       "        text-align: right;\n",
       "    }\n",
       "</style>\n",
       "<table border=\"1\" class=\"dataframe\">\n",
       "  <thead>\n",
       "    <tr style=\"text-align: right;\">\n",
       "      <th></th>\n",
       "      <th>Kernel Method - k=1</th>\n",
       "      <th>Val accuracy - k=1</th>\n",
       "      <th>Constant C - k=1</th>\n",
       "      <th>Kernel Method - k=2</th>\n",
       "      <th>Val accuracy - k=2</th>\n",
       "      <th>Constant C - k=2</th>\n",
       "      <th>Kernel Method - k=3</th>\n",
       "      <th>Val accuracy - k=3</th>\n",
       "      <th>Constant C - k=3</th>\n",
       "    </tr>\n",
       "  </thead>\n",
       "  <tbody>\n",
       "    <tr>\n",
       "      <th>0</th>\n",
       "      <td>SVM_MM61</td>\n",
       "      <td>0.648000</td>\n",
       "      <td>1.500</td>\n",
       "      <td>SVM_MM61</td>\n",
       "      <td>0.732000</td>\n",
       "      <td>4.50</td>\n",
       "      <td>SVM_MM61</td>\n",
       "      <td>0.656000</td>\n",
       "      <td>0.690</td>\n",
       "    </tr>\n",
       "    <tr>\n",
       "      <th>1</th>\n",
       "      <td>SVM_SP6</td>\n",
       "      <td>0.637000</td>\n",
       "      <td>0.700</td>\n",
       "      <td>SVM_SP6</td>\n",
       "      <td>0.730000</td>\n",
       "      <td>0.60</td>\n",
       "      <td>SVM_SP6</td>\n",
       "      <td>0.650000</td>\n",
       "      <td>5.000</td>\n",
       "    </tr>\n",
       "    <tr>\n",
       "      <th>2</th>\n",
       "      <td>SVM_WD10</td>\n",
       "      <td>0.636500</td>\n",
       "      <td>0.030</td>\n",
       "      <td>SVM_MM62</td>\n",
       "      <td>0.728000</td>\n",
       "      <td>8.00</td>\n",
       "      <td>SVM_SP5</td>\n",
       "      <td>0.647500</td>\n",
       "      <td>2.000</td>\n",
       "    </tr>\n",
       "    <tr>\n",
       "      <th>3</th>\n",
       "      <td>SVM_SP5</td>\n",
       "      <td>0.633500</td>\n",
       "      <td>0.500</td>\n",
       "      <td>SVM_LA_e11_d2</td>\n",
       "      <td>0.714500</td>\n",
       "      <td>0.50</td>\n",
       "      <td>SVM_MM62</td>\n",
       "      <td>0.646500</td>\n",
       "      <td>8.000</td>\n",
       "    </tr>\n",
       "    <tr>\n",
       "      <th>4</th>\n",
       "      <td>SVM_LA_e11_d2</td>\n",
       "      <td>0.628500</td>\n",
       "      <td>0.700</td>\n",
       "      <td>SVM_MM51</td>\n",
       "      <td>0.703000</td>\n",
       "      <td>6.00</td>\n",
       "      <td>SVM_SP4</td>\n",
       "      <td>0.644500</td>\n",
       "      <td>4.000</td>\n",
       "    </tr>\n",
       "    <tr>\n",
       "      <th>5</th>\n",
       "      <td>SVM_MM62</td>\n",
       "      <td>0.627000</td>\n",
       "      <td>9.000</td>\n",
       "      <td>SVM_SP5</td>\n",
       "      <td>0.703000</td>\n",
       "      <td>0.30</td>\n",
       "      <td>SVM_MM51</td>\n",
       "      <td>0.641000</td>\n",
       "      <td>5.000</td>\n",
       "    </tr>\n",
       "    <tr>\n",
       "      <th>6</th>\n",
       "      <td>SVM_LA_e8_d1</td>\n",
       "      <td>0.624000</td>\n",
       "      <td>0.600</td>\n",
       "      <td>SVM_WD5</td>\n",
       "      <td>0.677000</td>\n",
       "      <td>0.02</td>\n",
       "      <td>SVM_MM41</td>\n",
       "      <td>0.635500</td>\n",
       "      <td>2.000</td>\n",
       "    </tr>\n",
       "    <tr>\n",
       "      <th>7</th>\n",
       "      <td>SVM_MM51</td>\n",
       "      <td>0.620000</td>\n",
       "      <td>2.000</td>\n",
       "      <td>SVM_WD10</td>\n",
       "      <td>0.677000</td>\n",
       "      <td>0.02</td>\n",
       "      <td>SVM_SP3</td>\n",
       "      <td>0.631000</td>\n",
       "      <td>5.000</td>\n",
       "    </tr>\n",
       "    <tr>\n",
       "      <th>8</th>\n",
       "      <td>SVM_SP4</td>\n",
       "      <td>0.619500</td>\n",
       "      <td>0.400</td>\n",
       "      <td>SVM_SP4</td>\n",
       "      <td>0.674500</td>\n",
       "      <td>0.50</td>\n",
       "      <td>SVM_LA_e11_d2</td>\n",
       "      <td>0.620000</td>\n",
       "      <td>0.500</td>\n",
       "    </tr>\n",
       "    <tr>\n",
       "      <th>9</th>\n",
       "      <td>SVM_MM41</td>\n",
       "      <td>0.611000</td>\n",
       "      <td>2.000</td>\n",
       "      <td>SVM_MM41</td>\n",
       "      <td>0.660000</td>\n",
       "      <td>5.00</td>\n",
       "      <td>SVM_MM31</td>\n",
       "      <td>0.618500</td>\n",
       "      <td>1.000</td>\n",
       "    </tr>\n",
       "    <tr>\n",
       "      <th>10</th>\n",
       "      <td>SVM_SP3</td>\n",
       "      <td>0.608000</td>\n",
       "      <td>0.600</td>\n",
       "      <td>SVM_SP3</td>\n",
       "      <td>0.647500</td>\n",
       "      <td>0.90</td>\n",
       "      <td>SVM_WD5</td>\n",
       "      <td>0.594500</td>\n",
       "      <td>0.007</td>\n",
       "    </tr>\n",
       "    <tr>\n",
       "      <th>11</th>\n",
       "      <td>SVM_MM31</td>\n",
       "      <td>0.593000</td>\n",
       "      <td>9.000</td>\n",
       "      <td>SVM_MM31</td>\n",
       "      <td>0.631500</td>\n",
       "      <td>6.00</td>\n",
       "      <td>SVM_WD10</td>\n",
       "      <td>0.594500</td>\n",
       "      <td>0.007</td>\n",
       "    </tr>\n",
       "    <tr>\n",
       "      <th>12</th>\n",
       "      <td>SVM_WD5</td>\n",
       "      <td>0.590000</td>\n",
       "      <td>0.005</td>\n",
       "      <td>SVM_WD3</td>\n",
       "      <td>0.582403</td>\n",
       "      <td>5.00</td>\n",
       "      <td>SVM_WD3</td>\n",
       "      <td>0.555468</td>\n",
       "      <td>0.005</td>\n",
       "    </tr>\n",
       "    <tr>\n",
       "      <th>13</th>\n",
       "      <td>SVM_WD3</td>\n",
       "      <td>0.575408</td>\n",
       "      <td>0.010</td>\n",
       "      <td>NaN</td>\n",
       "      <td>NaN</td>\n",
       "      <td>NaN</td>\n",
       "      <td>NaN</td>\n",
       "      <td>NaN</td>\n",
       "      <td>NaN</td>\n",
       "    </tr>\n",
       "  </tbody>\n",
       "</table>\n",
       "</div>"
      ],
      "text/plain": [
       "   Kernel Method - k=1  Val accuracy - k=1  Constant C - k=1  \\\n",
       "0             SVM_MM61            0.648000             1.500   \n",
       "1              SVM_SP6            0.637000             0.700   \n",
       "2             SVM_WD10            0.636500             0.030   \n",
       "3              SVM_SP5            0.633500             0.500   \n",
       "4        SVM_LA_e11_d2            0.628500             0.700   \n",
       "5             SVM_MM62            0.627000             9.000   \n",
       "6         SVM_LA_e8_d1            0.624000             0.600   \n",
       "7             SVM_MM51            0.620000             2.000   \n",
       "8              SVM_SP4            0.619500             0.400   \n",
       "9             SVM_MM41            0.611000             2.000   \n",
       "10             SVM_SP3            0.608000             0.600   \n",
       "11            SVM_MM31            0.593000             9.000   \n",
       "12             SVM_WD5            0.590000             0.005   \n",
       "13             SVM_WD3            0.575408             0.010   \n",
       "\n",
       "   Kernel Method - k=2  Val accuracy - k=2  Constant C - k=2  \\\n",
       "0             SVM_MM61            0.732000              4.50   \n",
       "1              SVM_SP6            0.730000              0.60   \n",
       "2             SVM_MM62            0.728000              8.00   \n",
       "3        SVM_LA_e11_d2            0.714500              0.50   \n",
       "4             SVM_MM51            0.703000              6.00   \n",
       "5              SVM_SP5            0.703000              0.30   \n",
       "6              SVM_WD5            0.677000              0.02   \n",
       "7             SVM_WD10            0.677000              0.02   \n",
       "8              SVM_SP4            0.674500              0.50   \n",
       "9             SVM_MM41            0.660000              5.00   \n",
       "10             SVM_SP3            0.647500              0.90   \n",
       "11            SVM_MM31            0.631500              6.00   \n",
       "12             SVM_WD3            0.582403              5.00   \n",
       "13                 NaN                 NaN               NaN   \n",
       "\n",
       "   Kernel Method - k=3  Val accuracy - k=3  Constant C - k=3  \n",
       "0             SVM_MM61            0.656000             0.690  \n",
       "1              SVM_SP6            0.650000             5.000  \n",
       "2              SVM_SP5            0.647500             2.000  \n",
       "3             SVM_MM62            0.646500             8.000  \n",
       "4              SVM_SP4            0.644500             4.000  \n",
       "5             SVM_MM51            0.641000             5.000  \n",
       "6             SVM_MM41            0.635500             2.000  \n",
       "7              SVM_SP3            0.631000             5.000  \n",
       "8        SVM_LA_e11_d2            0.620000             0.500  \n",
       "9             SVM_MM31            0.618500             1.000  \n",
       "10             SVM_WD5            0.594500             0.007  \n",
       "11            SVM_WD10            0.594500             0.007  \n",
       "12             SVM_WD3            0.555468             0.005  \n",
       "13                 NaN                 NaN               NaN  "
      ]
     },
     "execution_count": 2,
     "metadata": {},
     "output_type": "execute_result"
    }
   ],
   "source": [
    "utils.sort_accuracies() "
   ]
  },
  {
   "cell_type": "markdown",
   "metadata": {
    "ExecuteTime": {
     "end_time": "2019-02-08T20:34:50.571109Z",
     "start_time": "2019-02-08T20:34:50.563765Z"
    }
   },
   "source": [
    "### Cross validation on constant C"
   ]
  },
  {
   "cell_type": "markdown",
   "metadata": {},
   "source": [
    "Perform cross validation for C-SVM for a bunch of kernel methods whose formating is the following : \n",
    "- SPx : spectrum kernel with x = int\n",
    "- WDx : Weight degree kernel with x = int\n",
    "- WDS_dx,sy : Weight degree kernel with x = int (d), y = int (s)\n",
    "- MMxy: mismatch kernel with x = int (k) and y = int (m)\n",
    "- LA_ex_dy_bz_smithX_eigY with x = int (e), y = int (d), z = float (beta), X = 0/1 (smith), Y = 0/1 (eig)\n",
    "\n",
    "Cs can be customed. Otherwise it will be equal to:\n",
    "``Cs = np.sort([i*10**j for (i,j) in product(range(1,10), range(-3,1))])``."
   ]
  },
  {
   "cell_type": "code",
   "execution_count": 2,
   "metadata": {
    "ExecuteTime": {
     "end_time": "2019-02-14T16:46:48.235016Z",
     "start_time": "2019-02-14T16:45:53.068242Z"
    },
    "scrolled": true
   },
   "outputs": [
    {
     "data": {
      "application/vnd.jupyter.widget-view+json": {
       "model_id": "a07001757f87456a8c89dbd309b12aa0",
       "version_major": 2,
       "version_minor": 0
      },
      "text/plain": [
       "HBox(children=(IntProgress(value=0, max=5), HTML(value='')))"
      ]
     },
     "metadata": {},
     "output_type": "display_data"
    },
    {
     "name": "stdout",
     "output_type": "stream",
     "text": [
      "Fold 1\n",
      "C=0.1, best accuracy on train (0.9994) and val (0.6125)\n",
      "Fold 2\n",
      "C=0.1, best accuracy on train (0.9169) and val (0.6300)\n",
      "Fold 3\n",
      "C=0.1, best accuracy on train (0.6044) and val (0.5750)\n",
      "Fold 4\n",
      "C=0.1, best accuracy on train (0.9056) and val (0.5975)\n",
      "Fold 5\n",
      "C=0.1, best accuracy on train (0.8825) and val (0.6400)\n",
      "\n",
      "Best constant C: 0.1, accuracy on val 0.6110\n"
     ]
    },
    {
     "name": "stderr",
     "output_type": "stream",
     "text": [
      "/Users/bfiliot/Desktop/MVA/KERNEL/Kernel_methods_MVA/SVM.py:218: ResourceWarning: unclosed file <_io.BufferedWriter name='./Data/CrossVals/cv_C_SVM_WD5_k1_max_iter500_solver_BFGS_full.pkl'>\n",
      "  open(os.path.join('./Data/CrossVals/', pickleName), 'wb'))\n"
     ]
    },
    {
     "data": {
      "application/vnd.jupyter.widget-view+json": {
       "model_id": "75aa55887f3f43e2be1154a03cfb5cfd",
       "version_major": 2,
       "version_minor": 0
      },
      "text/plain": [
       "HBox(children=(IntProgress(value=0, max=5), HTML(value='')))"
      ]
     },
     "metadata": {},
     "output_type": "display_data"
    },
    {
     "name": "stdout",
     "output_type": "stream",
     "text": [
      "Fold 1\n",
      "C=0.1, best accuracy on train (1.0000) and val (0.6600)\n",
      "Fold 2\n",
      "C=0.1, best accuracy on train (1.0000) and val (0.6550)\n",
      "Fold 3\n",
      "C=0.1, best accuracy on train (1.0000) and val (0.6625)\n",
      "Fold 4\n",
      "C=0.1, best accuracy on train (0.9881) and val (0.7225)\n",
      "Fold 5\n",
      "C=0.1, best accuracy on train (0.9950) and val (0.6500)\n",
      "\n",
      "Best constant C: 0.1, accuracy on val 0.6700\n"
     ]
    },
    {
     "name": "stderr",
     "output_type": "stream",
     "text": [
      "/Users/bfiliot/Desktop/MVA/KERNEL/Kernel_methods_MVA/SVM.py:218: ResourceWarning: unclosed file <_io.BufferedWriter name='./Data/CrossVals/cv_C_SVM_WD5_k2_max_iter500_solver_BFGS_full.pkl'>\n",
      "  open(os.path.join('./Data/CrossVals/', pickleName), 'wb'))\n"
     ]
    },
    {
     "data": {
      "application/vnd.jupyter.widget-view+json": {
       "model_id": "a4b6c012be364b6f95b4a4b677a3db0f",
       "version_major": 2,
       "version_minor": 0
      },
      "text/plain": [
       "HBox(children=(IntProgress(value=0, max=5), HTML(value='')))"
      ]
     },
     "metadata": {},
     "output_type": "display_data"
    },
    {
     "name": "stdout",
     "output_type": "stream",
     "text": [
      "Fold 1\n",
      "C=0.1, best accuracy on train (0.9994) and val (0.5725)\n",
      "Fold 2\n",
      "C=0.1, best accuracy on train (0.9969) and val (0.5750)\n",
      "Fold 3\n",
      "C=0.1, best accuracy on train (0.5863) and val (0.6150)\n",
      "Fold 4\n",
      "C=0.1, best accuracy on train (0.6725) and val (0.5475)\n",
      "Fold 5\n",
      "C=0.1, best accuracy on train (0.9869) and val (0.5975)\n",
      "\n",
      "Best constant C: 0.1, accuracy on val 0.5815\n"
     ]
    },
    {
     "name": "stderr",
     "output_type": "stream",
     "text": [
      "/Users/bfiliot/Desktop/MVA/KERNEL/Kernel_methods_MVA/SVM.py:218: ResourceWarning: unclosed file <_io.BufferedWriter name='./Data/CrossVals/cv_C_SVM_WD5_k3_max_iter500_solver_BFGS_full.pkl'>\n",
      "  open(os.path.join('./Data/CrossVals/', pickleName), 'wb'))\n"
     ]
    },
    {
     "data": {
      "text/plain": [
       "{'WD5': {1: 0.1, 2: 0.1, 3: 0.1}}"
      ]
     },
     "execution_count": 2,
     "metadata": {},
     "output_type": "execute_result"
    }
   ],
   "source": [
    "methods = ['WD10']\n",
    "Cs = np.concatenate((np.linspace(0.01, 0.1, 19),\n",
    "                    np.linspace(0.1, 1, 91),\n",
    "                    np.linspace(1, 10, 19)))\n",
    "C_opts = utils.run_expe(methods, Cs_1=Cs, Cs_2=Cs, Cs_3=Cs)"
   ]
  },
  {
   "cell_type": "markdown",
   "metadata": {},
   "source": [
    "### Predict with best constant C"
   ]
  },
  {
   "cell_type": "markdown",
   "metadata": {},
   "source": [
    "#### Load data and optimal constants"
   ]
  },
  {
   "cell_type": "code",
   "execution_count": 56,
   "metadata": {
    "ExecuteTime": {
     "end_time": "2019-02-14T15:43:46.887907Z",
     "start_time": "2019-02-14T15:43:44.076539Z"
    }
   },
   "outputs": [],
   "source": [
    "method = 'MM61'\n",
    "X_train, y_train, X_val, y_val, X_test, K, ID = utils.get_training_datas(method='MM61', all=True, replace=False)\n",
    "K = kernels.normalize_K(K) # Do nothing if already normalized\n",
    "for k in range(1, 4):\n",
    "    exec(\"X_train_\"+str(k)+\", y_train_\"+str(k)+\", X_val_\"+str(k)+\", y_val_\"+str(k)+\", X_test_\"+str(k)+\", K_\"+str(k)+\", id_\"+str(k)+\" = utils.select_k(k, X_train, y_train, X_val, y_val, X_test, K, ID)\")\n",
    "C_opt_1, C_opt_2, C_opt_3 = [_ for _ in C_opts[method].values()]"
   ]
  },
  {
   "cell_type": "markdown",
   "metadata": {},
   "source": [
    "#### Data set 1"
   ]
  },
  {
   "cell_type": "code",
   "execution_count": 58,
   "metadata": {
    "ExecuteTime": {
     "end_time": "2019-02-14T15:44:07.623695Z",
     "start_time": "2019-02-14T15:44:04.588594Z"
    },
    "scrolled": true
   },
   "outputs": [
    {
     "name": "stdout",
     "output_type": "stream",
     "text": [
      "Accuracy on train set: 0.8312\n",
      "Accuracy on val set: 0.6307\n"
     ]
    }
   ],
   "source": [
    "svm_1 = SVM.C_SVM(K, ID, C=C_opt_1, maxiter=500, method='BFGS', print_callbacks=False)\n",
    "res = svm_1.fit(X_train_1, y_train_1, X_val_1, y_val_1)\n",
    "pred_tr_1 = svm_1.predict(X_train_1)\n",
    "print('Accuracy on train set: {:0.4f}'.format(svm_1.score(pred_tr_1, y_train_1)))\n",
    "pred_val_1 = svm_1.predict(X_val_1)\n",
    "print('Accuracy on val set: {:0.4f}'.format(svm_1.score(pred_val_1, y_val_1)))"
   ]
  },
  {
   "cell_type": "markdown",
   "metadata": {},
   "source": [
    "#### Data set 2"
   ]
  },
  {
   "cell_type": "code",
   "execution_count": 59,
   "metadata": {
    "ExecuteTime": {
     "end_time": "2019-02-14T15:44:11.779237Z",
     "start_time": "2019-02-14T15:44:07.627392Z"
    }
   },
   "outputs": [
    {
     "name": "stdout",
     "output_type": "stream",
     "text": [
      "Accuracy on train set: 0.9453\n",
      "Accuracy on val set: 0.7166\n"
     ]
    }
   ],
   "source": [
    "svm_2 = SVM.C_SVM(K, ID, C=C_opt_2, maxiter=500, method='BFGS', print_callbacks=False)\n",
    "res = svm_2.fit(X_train_2, y_train_2, X_val_2, y_val_2)\n",
    "pred_tr_2 = svm_2.predict(X_train_2)\n",
    "print('Accuracy on train set: {:0.4f}'.format(svm_2.score(pred_tr_2, y_train_2)))\n",
    "pred_val_2 = svm_2.predict(X_val_2)\n",
    "print('Accuracy on val set: {:0.4f}'.format(svm_2.score(pred_val_2, y_val_2)))"
   ]
  },
  {
   "cell_type": "markdown",
   "metadata": {},
   "source": [
    "#### Data set 3"
   ]
  },
  {
   "cell_type": "code",
   "execution_count": 60,
   "metadata": {
    "ExecuteTime": {
     "end_time": "2019-02-14T15:44:14.602840Z",
     "start_time": "2019-02-14T15:44:11.783118Z"
    }
   },
   "outputs": [
    {
     "name": "stdout",
     "output_type": "stream",
     "text": [
      "Accuracy on train set: 0.7625\n",
      "Accuracy on val set: 0.6248\n"
     ]
    }
   ],
   "source": [
    "svm_3 = SVM.C_SVM(K, ID, C=C_opt_3, maxiter=500, method='BFGS', print_callbacks=False)\n",
    "res = svm_3.fit(X_train_3, y_train_3, X_val_3, y_val_3)\n",
    "pred_tr_3 = svm_3.predict(X_train_3)\n",
    "print('Accuracy on train set: {:0.4f}'.format(svm_3.score(pred_tr_3, y_train_3)))\n",
    "pred_val_3 = svm_3.predict(X_val_3)\n",
    "print('Accuracy on val set: {:0.4f}'.format(svm_3.score(pred_val_3, y_val_3)))"
   ]
  },
  {
   "cell_type": "markdown",
   "metadata": {},
   "source": [
    "### Export predictions"
   ]
  },
  {
   "cell_type": "markdown",
   "metadata": {},
   "source": [
    "These predictions are dumped into branch master without being pushed. They can be found in your local repo. Submit here : https://www.kaggle.com/c/kernel-methods-for-machine-learning-2018-2019/submit"
   ]
  },
  {
   "cell_type": "code",
   "execution_count": 93,
   "metadata": {
    "ExecuteTime": {
     "end_time": "2019-02-13T22:42:14.704384Z",
     "start_time": "2019-02-13T22:42:14.414245Z"
    },
    "scrolled": true
   },
   "outputs": [],
   "source": [
    "y_pred_test = utils.export_predictions([svm_1, svm_2, svm_3], [X_test_1, X_test_2, X_test_3])"
   ]
  },
  {
   "cell_type": "markdown",
   "metadata": {
    "heading_collapsed": true
   },
   "source": [
    "## 2-SVM with Weighted Degree Kernel (WDK)"
   ]
  },
  {
   "cell_type": "markdown",
   "metadata": {
    "hidden": true
   },
   "source": [
    "### Cross validation on constant $\\lambda$"
   ]
  },
  {
   "cell_type": "markdown",
   "metadata": {
    "hidden": true
   },
   "source": [
    "#### Data set 1"
   ]
  },
  {
   "cell_type": "code",
   "execution_count": 33,
   "metadata": {
    "ExecuteTime": {
     "end_time": "2019-02-13T10:01:24.111699Z",
     "start_time": "2019-02-13T09:57:33.204826Z"
    },
    "hidden": true,
    "scrolled": true
   },
   "outputs": [
    {
     "data": {
      "application/vnd.jupyter.widget-view+json": {
       "model_id": "1ba7ae80e98e4b769f88ae699bcf8885",
       "version_major": 2,
       "version_minor": 0
      },
      "text/plain": [
       "HBox(children=(IntProgress(value=0, max=5), HTML(value='')))"
      ]
     },
     "metadata": {},
     "output_type": "display_data"
    },
    {
     "name": "stdout",
     "output_type": "stream",
     "text": [
      "Fold 1\n",
      "Lambda=1e-05, best accuracy on train (0.7650) and val (0.5850)\n",
      "Lambda=2e-05, best accuracy on train (0.9356) and val (0.5850)\n",
      "Lambda=5e-05, best accuracy on train (0.7344) and val (0.5900)\n",
      "Lambda=7.000000000000001e-05, best accuracy on train (0.6138) and val (0.5850)\n",
      "Lambda=0.0001, best accuracy on train (0.6338) and val (0.5950)\n",
      "Lambda=0.0002, best accuracy on train (0.8025) and val (0.5950)\n",
      "Lambda=0.0005, best accuracy on train (0.6837) and val (0.6050)\n",
      "Lambda=0.0007, best accuracy on train (0.7500) and val (0.6050)\n",
      "Lambda=0.001, best accuracy on train (0.9469) and val (0.6000)\n",
      "Lambda=0.002, best accuracy on train (0.7875) and val (0.6050)\n",
      "Lambda=0.005, best accuracy on train (0.7475) and val (0.5775)\n",
      "Lambda=0.007, best accuracy on train (0.7256) and val (0.5950)\n",
      "Lambda=0.01, best accuracy on train (0.6987) and val (0.5950)\n",
      "Lambda=0.02, best accuracy on train (0.7781) and val (0.5875)\n",
      "Lambda=0.05, best accuracy on train (0.6394) and val (0.5850)\n",
      "Lambda=0.07, best accuracy on train (0.6850) and val (0.5825)\n",
      "Lambda=0.1, best accuracy on train (0.7294) and val (0.5850)\n",
      "Lambda=0.2, best accuracy on train (0.6694) and val (0.5600)\n",
      "Lambda=0.5, best accuracy on train (0.6050) and val (0.5450)\n",
      "Lambda=0.7000000000000001, best accuracy on train (0.6062) and val (0.5550)\n",
      "Lambda=1.0, best accuracy on train (0.7238) and val (0.5800)\n",
      "Lambda=2.0, best accuracy on train (0.6269) and val (0.5775)\n",
      "Lambda=5.0, best accuracy on train (0.7000) and val (0.5825)\n",
      "Lambda=7.0, best accuracy on train (0.6175) and val (0.5800)\n",
      "Lambda=10.0, best accuracy on train (0.7125) and val (0.6000)\n",
      "Lambda=20.0, best accuracy on train (0.7619) and val (0.6200)\n",
      "Lambda=50.0, best accuracy on train (0.6644) and val (0.5575)\n",
      "Lambda=70.0, best accuracy on train (0.7312) and val (0.5950)\n",
      "Fold 2\n",
      "Lambda=1e-05, best accuracy on train (0.8219) and val (0.6075)\n"
     ]
    },
    {
     "ename": "KeyboardInterrupt",
     "evalue": "",
     "output_type": "error",
     "traceback": [
      "\u001b[0;31m---------------------------------------------------------------------------\u001b[0m",
      "\u001b[0;31mKeyboardInterrupt\u001b[0m                         Traceback (most recent call last)",
      "\u001b[0;32m<ipython-input-33-10687692387e>\u001b[0m in \u001b[0;36m<module>\u001b[0;34m\u001b[0m\n\u001b[1;32m      5\u001b[0m l_opt_1, _, _, _, _ = SVM2.cv(Ls=Ls_1, data=data_1, kfolds=kfolds,\n\u001b[1;32m      6\u001b[0m                              \u001b[0mpickleName\u001b[0m\u001b[0;34m=\u001b[0m\u001b[0mpickleName\u001b[0m\u001b[0;34m,\u001b[0m \u001b[0mK\u001b[0m\u001b[0;34m=\u001b[0m\u001b[0mK\u001b[0m\u001b[0;34m,\u001b[0m \u001b[0mID\u001b[0m\u001b[0;34m=\u001b[0m\u001b[0mID\u001b[0m\u001b[0;34m,\u001b[0m \u001b[0mmaxiter\u001b[0m\u001b[0;34m=\u001b[0m\u001b[0;36m100\u001b[0m\u001b[0;34m,\u001b[0m\u001b[0;34m\u001b[0m\u001b[0m\n\u001b[0;32m----> 7\u001b[0;31m                              method='BFGS')\n\u001b[0m",
      "\u001b[0;32m~/Desktop/MVA/KERNEL/Kernel_methods_MVA/SVM2.py\u001b[0m in \u001b[0;36mcv\u001b[0;34m(Ls, data, kfolds, pickleName, **kwargs)\u001b[0m\n\u001b[1;32m    141\u001b[0m         \u001b[0;32mfor\u001b[0m \u001b[0ml\u001b[0m \u001b[0;32min\u001b[0m \u001b[0mLs\u001b[0m\u001b[0;34m:\u001b[0m\u001b[0;34m\u001b[0m\u001b[0m\n\u001b[1;32m    142\u001b[0m             \u001b[0msvm\u001b[0m \u001b[0;34m=\u001b[0m \u001b[0mSVM2\u001b[0m\u001b[0;34m(\u001b[0m\u001b[0mlbda\u001b[0m\u001b[0;34m=\u001b[0m\u001b[0ml\u001b[0m\u001b[0;34m,\u001b[0m \u001b[0mprint_callbacks\u001b[0m\u001b[0;34m=\u001b[0m\u001b[0;32mFalse\u001b[0m\u001b[0;34m,\u001b[0m \u001b[0;34m**\u001b[0m\u001b[0mkwargs\u001b[0m\u001b[0;34m)\u001b[0m\u001b[0;34m\u001b[0m\u001b[0m\n\u001b[0;32m--> 143\u001b[0;31m             \u001b[0msvm\u001b[0m\u001b[0;34m.\u001b[0m\u001b[0mfit\u001b[0m\u001b[0;34m(\u001b[0m\u001b[0mX_train\u001b[0m\u001b[0;34m,\u001b[0m \u001b[0my_train\u001b[0m\u001b[0;34m,\u001b[0m \u001b[0mX_val\u001b[0m\u001b[0;34m,\u001b[0m \u001b[0my_val\u001b[0m\u001b[0;34m)\u001b[0m\u001b[0;34m\u001b[0m\u001b[0m\n\u001b[0m\u001b[1;32m    144\u001b[0m             \u001b[0mpred_tr\u001b[0m \u001b[0;34m=\u001b[0m \u001b[0msvm\u001b[0m\u001b[0;34m.\u001b[0m\u001b[0mpredict\u001b[0m\u001b[0;34m(\u001b[0m\u001b[0mX_train\u001b[0m\u001b[0;34m)\u001b[0m\u001b[0;34m\u001b[0m\u001b[0m\n\u001b[1;32m    145\u001b[0m             \u001b[0mscore_tr\u001b[0m \u001b[0;34m=\u001b[0m \u001b[0msvm\u001b[0m\u001b[0;34m.\u001b[0m\u001b[0mscore\u001b[0m\u001b[0;34m(\u001b[0m\u001b[0mpred_tr\u001b[0m\u001b[0;34m,\u001b[0m \u001b[0my_train\u001b[0m\u001b[0;34m)\u001b[0m\u001b[0;34m\u001b[0m\u001b[0m\n",
      "\u001b[0;32m~/Desktop/MVA/KERNEL/Kernel_methods_MVA/SVM2.py\u001b[0m in \u001b[0;36mfit\u001b[0;34m(self, X, y, X_pred, y_pred)\u001b[0m\n\u001b[1;32m     89\u001b[0m                            \u001b[0mbounds\u001b[0m\u001b[0;34m=\u001b[0m\u001b[0mbounds\u001b[0m\u001b[0;34m,\u001b[0m \u001b[0mmethod\u001b[0m\u001b[0;34m=\u001b[0m\u001b[0;34m'L-BFGS-B'\u001b[0m\u001b[0;34m,\u001b[0m\u001b[0;34m\u001b[0m\u001b[0m\n\u001b[1;32m     90\u001b[0m                            \u001b[0mcallback\u001b[0m\u001b[0;34m=\u001b[0m\u001b[0mself\u001b[0m\u001b[0;34m.\u001b[0m\u001b[0mcallbackF\u001b[0m\u001b[0;34m,\u001b[0m\u001b[0;34m\u001b[0m\u001b[0m\n\u001b[0;32m---> 91\u001b[0;31m                            tol=self.tol, options={'maxiter': self.maxiter})\n\u001b[0m\u001b[1;32m     92\u001b[0m         \u001b[0;32melif\u001b[0m \u001b[0mself\u001b[0m\u001b[0;34m.\u001b[0m\u001b[0mmethod\u001b[0m \u001b[0;34m==\u001b[0m \u001b[0;34m\"Newton\"\u001b[0m\u001b[0;34m:\u001b[0m\u001b[0;34m\u001b[0m\u001b[0m\n\u001b[1;32m     93\u001b[0m             bounds = Bounds(np.array([0 if self.y_fit[i] >= 0 else float('-inf') for i in range(self.n)]),\n",
      "\u001b[0;32m~/anaconda3/lib/python3.6/site-packages/scipy/optimize/_minimize.py\u001b[0m in \u001b[0;36mminimize\u001b[0;34m(fun, x0, args, method, jac, hess, hessp, bounds, constraints, tol, callback, options)\u001b[0m\n\u001b[1;32m    601\u001b[0m     \u001b[0;32melif\u001b[0m \u001b[0mmeth\u001b[0m \u001b[0;34m==\u001b[0m \u001b[0;34m'l-bfgs-b'\u001b[0m\u001b[0;34m:\u001b[0m\u001b[0;34m\u001b[0m\u001b[0m\n\u001b[1;32m    602\u001b[0m         return _minimize_lbfgsb(fun, x0, args, jac, bounds,\n\u001b[0;32m--> 603\u001b[0;31m                                 callback=callback, **options)\n\u001b[0m\u001b[1;32m    604\u001b[0m     \u001b[0;32melif\u001b[0m \u001b[0mmeth\u001b[0m \u001b[0;34m==\u001b[0m \u001b[0;34m'tnc'\u001b[0m\u001b[0;34m:\u001b[0m\u001b[0;34m\u001b[0m\u001b[0m\n\u001b[1;32m    605\u001b[0m         return _minimize_tnc(fun, x0, args, jac, bounds, callback=callback,\n",
      "\u001b[0;32m~/anaconda3/lib/python3.6/site-packages/scipy/optimize/lbfgsb.py\u001b[0m in \u001b[0;36m_minimize_lbfgsb\u001b[0;34m(fun, x0, args, jac, bounds, disp, maxcor, ftol, gtol, eps, maxfun, maxiter, iprint, callback, maxls, **unknown_options)\u001b[0m\n\u001b[1;32m    338\u001b[0m             \u001b[0mn_iterations\u001b[0m \u001b[0;34m+=\u001b[0m \u001b[0;36m1\u001b[0m\u001b[0;34m\u001b[0m\u001b[0m\n\u001b[1;32m    339\u001b[0m             \u001b[0;32mif\u001b[0m \u001b[0mcallback\u001b[0m \u001b[0;32mis\u001b[0m \u001b[0;32mnot\u001b[0m \u001b[0;32mNone\u001b[0m\u001b[0;34m:\u001b[0m\u001b[0;34m\u001b[0m\u001b[0m\n\u001b[0;32m--> 340\u001b[0;31m                 \u001b[0mcallback\u001b[0m\u001b[0;34m(\u001b[0m\u001b[0mnp\u001b[0m\u001b[0;34m.\u001b[0m\u001b[0mcopy\u001b[0m\u001b[0;34m(\u001b[0m\u001b[0mx\u001b[0m\u001b[0;34m)\u001b[0m\u001b[0;34m)\u001b[0m\u001b[0;34m\u001b[0m\u001b[0m\n\u001b[0m\u001b[1;32m    341\u001b[0m \u001b[0;34m\u001b[0m\u001b[0m\n\u001b[1;32m    342\u001b[0m             \u001b[0;32mif\u001b[0m \u001b[0mn_iterations\u001b[0m \u001b[0;34m>=\u001b[0m \u001b[0mmaxiter\u001b[0m\u001b[0;34m:\u001b[0m\u001b[0;34m\u001b[0m\u001b[0m\n",
      "\u001b[0;32m~/Desktop/MVA/KERNEL/Kernel_methods_MVA/SVM2.py\u001b[0m in \u001b[0;36mcallbackF\u001b[0;34m(self, Xi, Yi)\u001b[0m\n\u001b[1;32m     45\u001b[0m             \u001b[0mval_acc\u001b[0m \u001b[0;34m=\u001b[0m \u001b[0;36m0\u001b[0m\u001b[0;34m\u001b[0m\u001b[0m\n\u001b[1;32m     46\u001b[0m         \u001b[0;32melse\u001b[0m\u001b[0;34m:\u001b[0m\u001b[0;34m\u001b[0m\u001b[0m\n\u001b[0;32m---> 47\u001b[0;31m             \u001b[0mval_acc\u001b[0m \u001b[0;34m=\u001b[0m \u001b[0mself\u001b[0m\u001b[0;34m.\u001b[0m\u001b[0mscore\u001b[0m\u001b[0;34m(\u001b[0m\u001b[0mself\u001b[0m\u001b[0;34m.\u001b[0m\u001b[0mpredict\u001b[0m\u001b[0;34m(\u001b[0m\u001b[0mself\u001b[0m\u001b[0;34m.\u001b[0m\u001b[0mX_pred\u001b[0m\u001b[0;34m)\u001b[0m\u001b[0;34m,\u001b[0m \u001b[0mself\u001b[0m\u001b[0;34m.\u001b[0m\u001b[0my_pred\u001b[0m\u001b[0;34m)\u001b[0m\u001b[0;34m\u001b[0m\u001b[0m\n\u001b[0m\u001b[1;32m     48\u001b[0m             \u001b[0mself\u001b[0m\u001b[0;34m.\u001b[0m\u001b[0mval_accuracies\u001b[0m\u001b[0;34m.\u001b[0m\u001b[0mappend\u001b[0m\u001b[0;34m(\u001b[0m\u001b[0mval_acc\u001b[0m\u001b[0;34m)\u001b[0m\u001b[0;34m\u001b[0m\u001b[0m\n\u001b[1;32m     49\u001b[0m         \u001b[0mself\u001b[0m\u001b[0;34m.\u001b[0m\u001b[0msvS\u001b[0m\u001b[0;34m.\u001b[0m\u001b[0mappend\u001b[0m\u001b[0;34m(\u001b[0m\u001b[0mself\u001b[0m\u001b[0;34m.\u001b[0m\u001b[0msv\u001b[0m\u001b[0;34m)\u001b[0m\u001b[0;34m\u001b[0m\u001b[0m\n",
      "\u001b[0;32m~/Desktop/MVA/KERNEL/Kernel_methods_MVA/SVM2.py\u001b[0m in \u001b[0;36mpredict\u001b[0;34m(self, X)\u001b[0m\n\u001b[1;32m    109\u001b[0m         \u001b[0mpred\u001b[0m \u001b[0;34m=\u001b[0m \u001b[0;34m[\u001b[0m\u001b[0;34m]\u001b[0m\u001b[0;34m\u001b[0m\u001b[0m\n\u001b[1;32m    110\u001b[0m         \u001b[0;32mfor\u001b[0m \u001b[0mi\u001b[0m \u001b[0;32min\u001b[0m \u001b[0mself\u001b[0m\u001b[0;34m.\u001b[0m\u001b[0midx_pred\u001b[0m\u001b[0;34m:\u001b[0m\u001b[0;34m\u001b[0m\u001b[0m\n\u001b[0;32m--> 111\u001b[0;31m             \u001b[0mpred\u001b[0m\u001b[0;34m.\u001b[0m\u001b[0mappend\u001b[0m\u001b[0;34m(\u001b[0m\u001b[0mnp\u001b[0m\u001b[0;34m.\u001b[0m\u001b[0msign\u001b[0m\u001b[0;34m(\u001b[0m\u001b[0mnp\u001b[0m\u001b[0;34m.\u001b[0m\u001b[0mdot\u001b[0m\u001b[0;34m(\u001b[0m\u001b[0mself\u001b[0m\u001b[0;34m.\u001b[0m\u001b[0msv\u001b[0m\u001b[0;34m,\u001b[0m \u001b[0mself\u001b[0m\u001b[0;34m.\u001b[0m\u001b[0mK\u001b[0m\u001b[0;34m[\u001b[0m\u001b[0mself\u001b[0m\u001b[0;34m.\u001b[0m\u001b[0midx_sv\u001b[0m\u001b[0;34m,\u001b[0m \u001b[0mi\u001b[0m\u001b[0;34m]\u001b[0m\u001b[0;34m.\u001b[0m\u001b[0msqueeze\u001b[0m\u001b[0;34m(\u001b[0m\u001b[0;34m)\u001b[0m\u001b[0;34m)\u001b[0m\u001b[0;34m)\u001b[0m\u001b[0;34m)\u001b[0m\u001b[0;34m\u001b[0m\u001b[0m\n\u001b[0m\u001b[1;32m    112\u001b[0m         \u001b[0;32mreturn\u001b[0m \u001b[0mnp\u001b[0m\u001b[0;34m.\u001b[0m\u001b[0marray\u001b[0m\u001b[0;34m(\u001b[0m\u001b[0mpred\u001b[0m\u001b[0;34m)\u001b[0m\u001b[0;34m\u001b[0m\u001b[0m\n\u001b[1;32m    113\u001b[0m \u001b[0;34m\u001b[0m\u001b[0m\n",
      "\u001b[0;31mKeyboardInterrupt\u001b[0m: "
     ]
    }
   ],
   "source": [
    "Ls_1 = np.sort([i*10**j for (i,j) in product([1, 2, 5, 7], range(-5,2))])\n",
    "data_1 = [X_train_1, y_train_1, X_val_1, y_val_1]\n",
    "pickleName = 'cv_SVM2_MM61_k1_max_iter100_solver_BFGS_full.pkl'\n",
    "kfolds = 5\n",
    "l_opt_1, _, _, _, _ = SVM2.cv(Ls=Ls_1, data=data_1, kfolds=kfolds,\n",
    "                             pickleName=pickleName, K=K, ID=ID, maxiter=100,\n",
    "                             method='BFGS')"
   ]
  },
  {
   "cell_type": "markdown",
   "metadata": {
    "heading_collapsed": true,
    "hidden": true
   },
   "source": [
    "#### Data set 2"
   ]
  },
  {
   "cell_type": "code",
   "execution_count": 6,
   "metadata": {
    "ExecuteTime": {
     "end_time": "2019-02-11T19:17:22.391822Z",
     "start_time": "2019-02-11T19:09:10.210380Z"
    },
    "hidden": true
   },
   "outputs": [
    {
     "data": {
      "application/vnd.jupyter.widget-view+json": {
       "model_id": "d23178ce7e254049997088b00753eb8b",
       "version_major": 2,
       "version_minor": 0
      },
      "text/plain": [
       "HBox(children=(IntProgress(value=0, max=5), HTML(value='')))"
      ]
     },
     "metadata": {},
     "output_type": "display_data"
    },
    {
     "name": "stdout",
     "output_type": "stream",
     "text": [
      "Fold 1\n",
      "Lambda=1e-05, best accuracy on train (1.0000) and val (0.6525)\n",
      "Lambda=2e-05, best accuracy on train (1.0000) and val (0.6525)\n",
      "Lambda=5e-05, best accuracy on train (1.0000) and val (0.6550)\n",
      "Lambda=7.000000000000001e-05, best accuracy on train (1.0000) and val (0.6575)\n",
      "Lambda=0.0001, best accuracy on train (0.9994) and val (0.6550)\n",
      "Lambda=0.0002, best accuracy on train (0.9994) and val (0.6600)\n",
      "Lambda=0.0005, best accuracy on train (0.9500) and val (0.6475)\n",
      "Lambda=0.0007, best accuracy on train (1.0000) and val (0.6525)\n",
      "Lambda=0.001, best accuracy on train (0.9994) and val (0.6725)\n",
      "Lambda=0.002, best accuracy on train (0.9806) and val (0.6625)\n",
      "Lambda=0.005, best accuracy on train (0.9825) and val (0.6650)\n",
      "Lambda=0.007, best accuracy on train (0.9875) and val (0.6700)\n",
      "Lambda=0.01, best accuracy on train (1.0000) and val (0.6625)\n",
      "Lambda=0.02, best accuracy on train (0.9956) and val (0.6625)\n",
      "Lambda=0.05, best accuracy on train (0.9900) and val (0.6800)\n",
      "Lambda=0.07, best accuracy on train (0.9650) and val (0.6700)\n",
      "Lambda=0.1, best accuracy on train (0.9769) and val (0.6750)\n",
      "Lambda=0.2, best accuracy on train (0.9962) and val (0.6825)\n",
      "Lambda=0.5, best accuracy on train (0.9962) and val (0.6700)\n",
      "Lambda=0.7000000000000001, best accuracy on train (0.9919) and val (0.6750)\n",
      "Lambda=1.0, best accuracy on train (0.9944) and val (0.6700)\n",
      "Lambda=2.0, best accuracy on train (0.7856) and val (0.6325)\n",
      "Lambda=5.0, best accuracy on train (0.8738) and val (0.6350)\n",
      "Lambda=7.0, best accuracy on train (0.8650) and val (0.6350)\n",
      "Lambda=10.0, best accuracy on train (0.8712) and val (0.6375)\n",
      "Lambda=20.0, best accuracy on train (0.8788) and val (0.6425)\n",
      "Lambda=50.0, best accuracy on train (0.8694) and val (0.6450)\n",
      "Lambda=70.0, best accuracy on train (0.8681) and val (0.6450)\n",
      "Fold 2\n",
      "Lambda=1e-05, best accuracy on train (1.0000) and val (0.6550)\n",
      "Lambda=2e-05, best accuracy on train (1.0000) and val (0.6550)\n",
      "Lambda=5e-05, best accuracy on train (1.0000) and val (0.6600)\n",
      "Lambda=7.000000000000001e-05, best accuracy on train (1.0000) and val (0.6625)\n",
      "Lambda=0.0001, best accuracy on train (0.9981) and val (0.6650)\n",
      "Lambda=0.0002, best accuracy on train (1.0000) and val (0.6525)\n",
      "Lambda=0.0005, best accuracy on train (0.9994) and val (0.6600)\n",
      "Lambda=0.0007, best accuracy on train (1.0000) and val (0.6625)\n",
      "Lambda=0.001, best accuracy on train (0.9956) and val (0.6650)\n",
      "Lambda=0.002, best accuracy on train (0.9975) and val (0.6675)\n",
      "Lambda=0.005, best accuracy on train (0.9944) and val (0.6650)\n",
      "Lambda=0.007, best accuracy on train (0.9919) and val (0.6675)\n",
      "Lambda=0.01, best accuracy on train (1.0000) and val (0.6675)\n",
      "Lambda=0.02, best accuracy on train (0.9663) and val (0.6625)\n",
      "Lambda=0.05, best accuracy on train (0.9912) and val (0.6625)\n",
      "Lambda=0.07, best accuracy on train (1.0000) and val (0.6600)\n",
      "Lambda=0.1, best accuracy on train (0.9956) and val (0.6775)\n",
      "Lambda=0.2, best accuracy on train (0.9944) and val (0.6800)\n",
      "Lambda=0.5, best accuracy on train (0.9625) and val (0.6625)\n",
      "Lambda=0.7000000000000001, best accuracy on train (0.9206) and val (0.6725)\n",
      "Lambda=1.0, best accuracy on train (0.9950) and val (0.6750)\n",
      "Lambda=2.0, best accuracy on train (0.9194) and val (0.6525)\n",
      "Lambda=5.0, best accuracy on train (0.9394) and val (0.6700)\n",
      "Lambda=7.0, best accuracy on train (0.7756) and val (0.6225)\n",
      "Lambda=10.0, best accuracy on train (0.8081) and val (0.6100)\n",
      "Lambda=20.0, best accuracy on train (0.7887) and val (0.6175)\n",
      "Lambda=50.0, best accuracy on train (0.7350) and val (0.6075)\n",
      "Lambda=70.0, best accuracy on train (0.8781) and val (0.6125)\n",
      "Fold 3\n",
      "Lambda=1e-05, best accuracy on train (1.0000) and val (0.6625)\n",
      "Lambda=2e-05, best accuracy on train (1.0000) and val (0.6625)\n",
      "Lambda=5e-05, best accuracy on train (1.0000) and val (0.6600)\n",
      "Lambda=7.000000000000001e-05, best accuracy on train (1.0000) and val (0.6600)\n",
      "Lambda=0.0001, best accuracy on train (1.0000) and val (0.6600)\n",
      "Lambda=0.0002, best accuracy on train (1.0000) and val (0.6600)\n",
      "Lambda=0.0005, best accuracy on train (1.0000) and val (0.6600)\n",
      "Lambda=0.0007, best accuracy on train (1.0000) and val (0.6625)\n",
      "Lambda=0.001, best accuracy on train (1.0000) and val (0.6625)\n",
      "Lambda=0.002, best accuracy on train (1.0000) and val (0.6650)\n",
      "Lambda=0.005, best accuracy on train (1.0000) and val (0.6775)\n",
      "Lambda=0.007, best accuracy on train (0.9900) and val (0.6675)\n",
      "Lambda=0.01, best accuracy on train (0.9975) and val (0.6650)\n",
      "Lambda=0.02, best accuracy on train (1.0000) and val (0.6675)\n",
      "Lambda=0.05, best accuracy on train (1.0000) and val (0.6725)\n",
      "Lambda=0.07, best accuracy on train (0.9688) and val (0.6700)\n",
      "Lambda=0.1, best accuracy on train (0.9525) and val (0.6800)\n",
      "Lambda=0.2, best accuracy on train (0.9513) and val (0.6800)\n",
      "Lambda=0.5, best accuracy on train (0.9506) and val (0.6900)\n",
      "Lambda=0.7000000000000001, best accuracy on train (0.9537) and val (0.6825)\n",
      "Lambda=1.0, best accuracy on train (0.9594) and val (0.6725)\n",
      "Lambda=2.0, best accuracy on train (0.9463) and val (0.6650)\n",
      "Lambda=5.0, best accuracy on train (0.8337) and val (0.6100)\n",
      "Lambda=7.0, best accuracy on train (0.9269) and val (0.6275)\n",
      "Lambda=10.0, best accuracy on train (0.8694) and val (0.6275)\n",
      "Lambda=20.0, best accuracy on train (0.8631) and val (0.6200)\n",
      "Lambda=50.0, best accuracy on train (0.8050) and val (0.6150)\n",
      "Lambda=70.0, best accuracy on train (0.8656) and val (0.6325)\n",
      "Fold 4\n",
      "Lambda=1e-05, best accuracy on train (0.9881) and val (0.7225)\n",
      "Lambda=2e-05, best accuracy on train (0.9881) and val (0.7225)\n",
      "Lambda=5e-05, best accuracy on train (0.9881) and val (0.7225)\n",
      "Lambda=7.000000000000001e-05, best accuracy on train (0.9881) and val (0.7225)\n",
      "Lambda=0.0001, best accuracy on train (1.0000) and val (0.7225)\n",
      "Lambda=0.0002, best accuracy on train (0.9881) and val (0.7225)\n",
      "Lambda=0.0005, best accuracy on train (0.9881) and val (0.7225)\n",
      "Lambda=0.0007, best accuracy on train (0.9894) and val (0.7225)\n",
      "Lambda=0.001, best accuracy on train (0.9906) and val (0.7225)\n",
      "Lambda=0.002, best accuracy on train (0.9912) and val (0.7050)\n",
      "Lambda=0.005, best accuracy on train (0.9931) and val (0.7175)\n",
      "Lambda=0.007, best accuracy on train (0.9888) and val (0.7150)\n",
      "Lambda=0.01, best accuracy on train (0.9919) and val (0.7225)\n",
      "Lambda=0.02, best accuracy on train (1.0000) and val (0.7000)\n",
      "Lambda=0.05, best accuracy on train (0.9762) and val (0.7250)\n",
      "Lambda=0.07, best accuracy on train (0.9450) and val (0.7225)\n",
      "Lambda=0.1, best accuracy on train (0.9750) and val (0.7100)\n",
      "Lambda=0.2, best accuracy on train (0.9712) and val (0.7125)\n",
      "Lambda=0.5, best accuracy on train (0.9919) and val (0.7075)\n",
      "Lambda=0.7000000000000001, best accuracy on train (0.9769) and val (0.7150)\n",
      "Lambda=1.0, best accuracy on train (0.9925) and val (0.7100)\n",
      "Lambda=2.0, best accuracy on train (0.9431) and val (0.6725)\n",
      "Lambda=5.0, best accuracy on train (0.9387) and val (0.6325)\n",
      "Lambda=7.0, best accuracy on train (0.8944) and val (0.6075)\n",
      "Lambda=10.0, best accuracy on train (0.9025) and val (0.6525)\n",
      "Lambda=20.0, best accuracy on train (0.8894) and val (0.5975)\n",
      "Lambda=50.0, best accuracy on train (0.8794) and val (0.6000)\n",
      "Lambda=70.0, best accuracy on train (0.8850) and val (0.5975)\n",
      "Fold 5\n",
      "Lambda=1e-05, best accuracy on train (0.9950) and val (0.6500)\n",
      "Lambda=2e-05, best accuracy on train (0.9950) and val (0.6500)\n",
      "Lambda=5e-05, best accuracy on train (0.9938) and val (0.6450)\n",
      "Lambda=7.000000000000001e-05, best accuracy on train (0.9938) and val (0.6450)\n",
      "Lambda=0.0001, best accuracy on train (0.9950) and val (0.6475)\n",
      "Lambda=0.0002, best accuracy on train (0.9994) and val (0.6475)\n",
      "Lambda=0.0005, best accuracy on train (1.0000) and val (0.6350)\n",
      "Lambda=0.0007, best accuracy on train (1.0000) and val (0.6400)\n",
      "Lambda=0.001, best accuracy on train (1.0000) and val (0.6425)\n",
      "Lambda=0.002, best accuracy on train (1.0000) and val (0.6450)\n",
      "Lambda=0.005, best accuracy on train (0.9994) and val (0.6475)\n",
      "Lambda=0.007, best accuracy on train (0.9469) and val (0.6575)\n",
      "Lambda=0.01, best accuracy on train (1.0000) and val (0.6400)\n",
      "Lambda=0.02, best accuracy on train (0.9950) and val (0.6475)\n",
      "Lambda=0.05, best accuracy on train (1.0000) and val (0.6600)\n",
      "Lambda=0.07, best accuracy on train (0.9869) and val (0.6500)\n",
      "Lambda=0.1, best accuracy on train (1.0000) and val (0.6475)\n"
     ]
    },
    {
     "name": "stdout",
     "output_type": "stream",
     "text": [
      "Lambda=0.2, best accuracy on train (0.9975) and val (0.6525)\n",
      "Lambda=0.5, best accuracy on train (1.0000) and val (0.6475)\n",
      "Lambda=0.7000000000000001, best accuracy on train (0.9875) and val (0.6525)\n",
      "Lambda=1.0, best accuracy on train (0.9881) and val (0.6500)\n",
      "Lambda=2.0, best accuracy on train (0.7825) and val (0.6300)\n",
      "Lambda=5.0, best accuracy on train (0.7800) and val (0.6325)\n",
      "Lambda=7.0, best accuracy on train (0.7913) and val (0.6150)\n",
      "Lambda=10.0, best accuracy on train (0.9669) and val (0.6300)\n",
      "Lambda=20.0, best accuracy on train (0.7850) and val (0.6125)\n",
      "Lambda=50.0, best accuracy on train (0.7887) and val (0.6125)\n",
      "Lambda=70.0, best accuracy on train (0.7881) and val (0.6125)\n",
      "Best constant C: 0.2, accuracy on val 0.6815\n"
     ]
    },
    {
     "name": "stderr",
     "output_type": "stream",
     "text": [
      "/Users/bfiliot/Desktop/MVA/KERNEL/Kernel_methods_MVA/SVM2.py:156: ResourceWarning: unclosed file <_io.BufferedWriter name='./Data/cv_SVM2_WD5_k2_max_iter100_solver_BFGS_full.pkl'>\n",
      "  open(os.path.join('./Data', pickleName), 'wb'))\n"
     ]
    }
   ],
   "source": [
    "Ls_2 = Ls_1\n",
    "data_2 = [X_train_2, y_train_2, X_val_2, y_val_2]\n",
    "pickleName = 'cv_SVM2_WD5_k2_max_iter100_solver_BFGS_full.pkl'\n",
    "kfolds = 5\n",
    "l_opt_2, _, _, _, _ = SVM2.cv(Ls=Ls_2, data=data_2, kfolds=kfolds,\n",
    "                             pickleName=pickleName, K=K, ID=ID, maxiter=100,\n",
    "                             method='BFGS')"
   ]
  },
  {
   "cell_type": "markdown",
   "metadata": {
    "heading_collapsed": true,
    "hidden": true
   },
   "source": [
    "#### Data set 3"
   ]
  },
  {
   "cell_type": "code",
   "execution_count": 7,
   "metadata": {
    "ExecuteTime": {
     "end_time": "2019-02-11T19:29:30.128928Z",
     "start_time": "2019-02-11T19:17:22.395937Z"
    },
    "hidden": true,
    "scrolled": true
   },
   "outputs": [
    {
     "data": {
      "application/vnd.jupyter.widget-view+json": {
       "model_id": "732dc3bef22c40648924337241996a32",
       "version_major": 2,
       "version_minor": 0
      },
      "text/plain": [
       "HBox(children=(IntProgress(value=0, max=5), HTML(value='')))"
      ]
     },
     "metadata": {},
     "output_type": "display_data"
    },
    {
     "name": "stdout",
     "output_type": "stream",
     "text": [
      "Fold 1\n",
      "Lambda=1e-05, best accuracy on train (0.9944) and val (0.5700)\n",
      "Lambda=2e-05, best accuracy on train (0.9950) and val (0.5675)\n",
      "Lambda=5e-05, best accuracy on train (0.9938) and val (0.5675)\n",
      "Lambda=7.000000000000001e-05, best accuracy on train (1.0000) and val (0.5625)\n",
      "Lambda=0.0001, best accuracy on train (1.0000) and val (0.5650)\n",
      "Lambda=0.0002, best accuracy on train (0.9938) and val (0.5625)\n",
      "Lambda=0.0005, best accuracy on train (0.6900) and val (0.5650)\n",
      "Lambda=0.0007, best accuracy on train (0.9994) and val (0.5700)\n",
      "Lambda=0.001, best accuracy on train (0.6856) and val (0.5650)\n",
      "Lambda=0.002, best accuracy on train (0.6963) and val (0.5700)\n",
      "Lambda=0.005, best accuracy on train (0.6913) and val (0.5725)\n",
      "Lambda=0.007, best accuracy on train (0.9406) and val (0.5775)\n",
      "Lambda=0.01, best accuracy on train (0.7506) and val (0.5775)\n",
      "Lambda=0.02, best accuracy on train (0.9981) and val (0.5725)\n",
      "Lambda=0.05, best accuracy on train (0.9762) and val (0.5825)\n",
      "Lambda=0.07, best accuracy on train (0.9994) and val (0.5725)\n",
      "Lambda=0.1, best accuracy on train (0.9163) and val (0.5750)\n",
      "Lambda=0.2, best accuracy on train (0.9575) and val (0.5900)\n",
      "Lambda=0.5, best accuracy on train (0.7900) and val (0.5800)\n",
      "Lambda=0.7000000000000001, best accuracy on train (0.8100) and val (0.5850)\n",
      "Lambda=1.0, best accuracy on train (0.9244) and val (0.5750)\n",
      "Lambda=2.0, best accuracy on train (0.7694) and val (0.5775)\n",
      "Lambda=5.0, best accuracy on train (0.7931) and val (0.5725)\n",
      "Lambda=7.0, best accuracy on train (0.7894) and val (0.5750)\n",
      "Lambda=10.0, best accuracy on train (0.7887) and val (0.5700)\n",
      "Lambda=20.0, best accuracy on train (0.7956) and val (0.5725)\n",
      "Lambda=50.0, best accuracy on train (0.8125) and val (0.5750)\n",
      "Lambda=70.0, best accuracy on train (0.8025) and val (0.5725)\n",
      "Fold 2\n",
      "Lambda=1e-05, best accuracy on train (0.9850) and val (0.5725)\n",
      "Lambda=2e-05, best accuracy on train (0.9850) and val (0.5725)\n",
      "Lambda=5e-05, best accuracy on train (0.9850) and val (0.5725)\n",
      "Lambda=7.000000000000001e-05, best accuracy on train (0.9856) and val (0.5725)\n",
      "Lambda=0.0001, best accuracy on train (0.9850) and val (0.5700)\n",
      "Lambda=0.0002, best accuracy on train (0.9850) and val (0.5700)\n",
      "Lambda=0.0005, best accuracy on train (0.9838) and val (0.5975)\n",
      "Lambda=0.0007, best accuracy on train (1.0000) and val (0.5775)\n",
      "Lambda=0.001, best accuracy on train (0.9969) and val (0.6000)\n",
      "Lambda=0.002, best accuracy on train (0.6806) and val (0.6100)\n",
      "Lambda=0.005, best accuracy on train (0.6869) and val (0.6025)\n",
      "Lambda=0.007, best accuracy on train (0.6981) and val (0.6025)\n",
      "Lambda=0.01, best accuracy on train (1.0000) and val (0.5925)\n",
      "Lambda=0.02, best accuracy on train (1.0000) and val (0.5900)\n",
      "Lambda=0.05, best accuracy on train (0.9994) and val (0.5750)\n",
      "Lambda=0.07, best accuracy on train (0.9981) and val (0.5975)\n",
      "Lambda=0.1, best accuracy on train (0.8350) and val (0.5800)\n",
      "Lambda=0.2, best accuracy on train (0.9869) and val (0.5850)\n",
      "Lambda=0.5, best accuracy on train (0.8738) and val (0.5900)\n",
      "Lambda=0.7000000000000001, best accuracy on train (0.8644) and val (0.5800)\n",
      "Lambda=1.0, best accuracy on train (0.7937) and val (0.5950)\n",
      "Lambda=2.0, best accuracy on train (0.7881) and val (0.5975)\n",
      "Lambda=5.0, best accuracy on train (0.9519) and val (0.5900)\n",
      "Lambda=7.0, best accuracy on train (0.8600) and val (0.5950)\n",
      "Lambda=10.0, best accuracy on train (0.8013) and val (0.5925)\n",
      "Lambda=20.0, best accuracy on train (0.7688) and val (0.5875)\n",
      "Lambda=50.0, best accuracy on train (0.7744) and val (0.5900)\n",
      "Lambda=70.0, best accuracy on train (0.7688) and val (0.5875)\n",
      "Fold 3\n",
      "Lambda=1e-05, best accuracy on train (0.5863) and val (0.6150)\n",
      "Lambda=2e-05, best accuracy on train (0.5863) and val (0.6150)\n",
      "Lambda=5e-05, best accuracy on train (0.5875) and val (0.6150)\n",
      "Lambda=7.000000000000001e-05, best accuracy on train (0.5875) and val (0.6150)\n",
      "Lambda=0.0001, best accuracy on train (0.5887) and val (0.6150)\n",
      "Lambda=0.0002, best accuracy on train (0.5919) and val (0.6150)\n",
      "Lambda=0.0005, best accuracy on train (0.6019) and val (0.6225)\n",
      "Lambda=0.0007, best accuracy on train (0.6038) and val (0.6200)\n",
      "Lambda=0.001, best accuracy on train (0.6125) and val (0.6275)\n",
      "Lambda=0.002, best accuracy on train (0.6325) and val (0.6175)\n",
      "Lambda=0.005, best accuracy on train (0.6875) and val (0.5950)\n",
      "Lambda=0.007, best accuracy on train (0.7412) and val (0.5900)\n",
      "Lambda=0.01, best accuracy on train (0.8063) and val (0.5975)\n",
      "Lambda=0.02, best accuracy on train (0.7919) and val (0.5800)\n",
      "Lambda=0.05, best accuracy on train (1.0000) and val (0.5900)\n",
      "Lambda=0.07, best accuracy on train (0.9888) and val (0.5925)\n",
      "Lambda=0.1, best accuracy on train (1.0000) and val (0.5950)\n",
      "Lambda=0.2, best accuracy on train (0.9981) and val (0.5825)\n",
      "Lambda=0.5, best accuracy on train (0.8163) and val (0.5975)\n",
      "Lambda=0.7000000000000001, best accuracy on train (0.8119) and val (0.5875)\n",
      "Lambda=1.0, best accuracy on train (0.8275) and val (0.6150)\n",
      "Lambda=2.0, best accuracy on train (0.8175) and val (0.5850)\n",
      "Lambda=5.0, best accuracy on train (0.8294) and val (0.6025)\n",
      "Lambda=7.0, best accuracy on train (0.8181) and val (0.5775)\n",
      "Lambda=10.0, best accuracy on train (0.8206) and val (0.5850)\n",
      "Lambda=20.0, best accuracy on train (0.8325) and val (0.6025)\n",
      "Lambda=50.0, best accuracy on train (0.8294) and val (0.5950)\n",
      "Lambda=70.0, best accuracy on train (0.8300) and val (0.6000)\n",
      "Fold 4\n",
      "Lambda=1e-05, best accuracy on train (1.0000) and val (0.5550)\n",
      "Lambda=2e-05, best accuracy on train (0.6725) and val (0.5475)\n",
      "Lambda=5e-05, best accuracy on train (1.0000) and val (0.5550)\n",
      "Lambda=7.000000000000001e-05, best accuracy on train (0.9587) and val (0.5500)\n",
      "Lambda=0.0001, best accuracy on train (0.9594) and val (0.5550)\n",
      "Lambda=0.0002, best accuracy on train (0.9594) and val (0.5500)\n",
      "Lambda=0.0005, best accuracy on train (0.9556) and val (0.5500)\n",
      "Lambda=0.0007, best accuracy on train (0.9663) and val (0.5500)\n",
      "Lambda=0.001, best accuracy on train (0.9600) and val (0.5575)\n",
      "Lambda=0.002, best accuracy on train (0.9663) and val (0.5500)\n",
      "Lambda=0.005, best accuracy on train (0.9938) and val (0.5500)\n",
      "Lambda=0.007, best accuracy on train (0.7219) and val (0.5550)\n",
      "Lambda=0.01, best accuracy on train (0.9994) and val (0.5600)\n",
      "Lambda=0.02, best accuracy on train (0.9994) and val (0.5650)\n",
      "Lambda=0.05, best accuracy on train (0.7725) and val (0.5600)\n",
      "Lambda=0.07, best accuracy on train (0.9988) and val (0.5600)\n",
      "Lambda=0.1, best accuracy on train (0.7881) and val (0.5600)\n",
      "Lambda=0.2, best accuracy on train (0.8975) and val (0.5600)\n",
      "Lambda=0.5, best accuracy on train (0.8000) and val (0.5775)\n",
      "Lambda=0.7000000000000001, best accuracy on train (0.7969) and val (0.5775)\n",
      "Lambda=1.0, best accuracy on train (0.7369) and val (0.5550)\n",
      "Lambda=2.0, best accuracy on train (0.7975) and val (0.5625)\n",
      "Lambda=5.0, best accuracy on train (0.8137) and val (0.5675)\n",
      "Lambda=7.0, best accuracy on train (0.8156) and val (0.5725)\n",
      "Lambda=10.0, best accuracy on train (0.8006) and val (0.5650)\n",
      "Lambda=20.0, best accuracy on train (0.8175) and val (0.5675)\n",
      "Lambda=50.0, best accuracy on train (0.8063) and val (0.5675)\n",
      "Lambda=70.0, best accuracy on train (0.8181) and val (0.5725)\n",
      "Fold 5\n",
      "Lambda=1e-05, best accuracy on train (0.9838) and val (0.6000)\n",
      "Lambda=2e-05, best accuracy on train (0.9850) and val (0.5925)\n",
      "Lambda=5e-05, best accuracy on train (0.9894) and val (0.5725)\n",
      "Lambda=7.000000000000001e-05, best accuracy on train (0.9900) and val (0.5775)\n",
      "Lambda=0.0001, best accuracy on train (0.9912) and val (0.5800)\n",
      "Lambda=0.0002, best accuracy on train (0.9788) and val (0.5975)\n",
      "Lambda=0.0005, best accuracy on train (0.9769) and val (0.5800)\n",
      "Lambda=0.0007, best accuracy on train (0.9888) and val (0.5850)\n",
      "Lambda=0.001, best accuracy on train (0.9819) and val (0.5800)\n",
      "Lambda=0.002, best accuracy on train (0.9738) and val (0.5700)\n",
      "Lambda=0.005, best accuracy on train (0.9094) and val (0.5775)\n",
      "Lambda=0.007, best accuracy on train (0.9906) and val (0.5750)\n",
      "Lambda=0.01, best accuracy on train (0.9888) and val (0.5850)\n",
      "Lambda=0.02, best accuracy on train (0.9756) and val (0.5775)\n",
      "Lambda=0.05, best accuracy on train (0.9394) and val (0.5950)\n",
      "Lambda=0.07, best accuracy on train (0.8213) and val (0.5800)\n",
      "Lambda=0.1, best accuracy on train (0.7544) and val (0.5800)\n"
     ]
    },
    {
     "name": "stdout",
     "output_type": "stream",
     "text": [
      "Lambda=0.2, best accuracy on train (0.9981) and val (0.5875)\n",
      "Lambda=0.5, best accuracy on train (0.9694) and val (0.5925)\n",
      "Lambda=0.7000000000000001, best accuracy on train (0.7825) and val (0.5850)\n",
      "Lambda=1.0, best accuracy on train (0.7538) and val (0.5800)\n",
      "Lambda=2.0, best accuracy on train (0.9900) and val (0.5925)\n",
      "Lambda=5.0, best accuracy on train (0.7544) and val (0.5800)\n",
      "Lambda=7.0, best accuracy on train (0.7581) and val (0.5850)\n",
      "Lambda=10.0, best accuracy on train (0.7544) and val (0.5800)\n",
      "Lambda=20.0, best accuracy on train (0.7638) and val (0.5900)\n",
      "Lambda=50.0, best accuracy on train (0.7856) and val (0.5875)\n",
      "Lambda=70.0, best accuracy on train (0.7837) and val (0.5850)\n",
      "Best constant C: 0.5, accuracy on val 0.5875\n"
     ]
    },
    {
     "name": "stderr",
     "output_type": "stream",
     "text": [
      "/Users/bfiliot/Desktop/MVA/KERNEL/Kernel_methods_MVA/SVM2.py:156: ResourceWarning: unclosed file <_io.BufferedWriter name='./Data/cv_SVM2_WD5_k3_max_iter100_solver_BFGS_full.pkl'>\n",
      "  open(os.path.join('./Data', pickleName), 'wb'))\n"
     ]
    }
   ],
   "source": [
    "Ls_3 = Ls_1\n",
    "data_3 = [X_train_3, y_train_3, X_val_3, y_val_3]\n",
    "pickleName = 'cv_SVM2_WD5_k3_max_iter100_solver_BFGS_full.pkl'\n",
    "kfolds = 5\n",
    "l_opt_3, _, _, _, _ = SVM2.cv(Ls=Ls_3, data=data_3, kfolds=kfolds,\n",
    "                             pickleName=pickleName, K=K, ID=ID, maxiter=100,\n",
    "                             method='BFGS')"
   ]
  },
  {
   "cell_type": "markdown",
   "metadata": {
    "heading_collapsed": true,
    "hidden": true
   },
   "source": [
    "### Predict with best constant $\\lambda$"
   ]
  },
  {
   "cell_type": "markdown",
   "metadata": {
    "heading_collapsed": true,
    "hidden": true
   },
   "source": [
    "#### Data set 1"
   ]
  },
  {
   "cell_type": "code",
   "execution_count": 10,
   "metadata": {
    "ExecuteTime": {
     "end_time": "2019-02-11T19:34:09.246888Z",
     "start_time": "2019-02-11T19:33:58.345938Z"
    },
    "hidden": true
   },
   "outputs": [
    {
     "name": "stdout",
     "output_type": "stream",
     "text": [
      "Accuracy on train set: 0.9546\n",
      "Accuracy on val set: 0.6287\n"
     ]
    }
   ],
   "source": [
    "svm2_1 = SVM2.SVM2(K, ID, lbda=l_opt_1, maxiter=100, method='BFGS', print_callbacks=False)\n",
    "res = svm2_1.fit(X_train_1, y_train_1, X_val_1, y_val_1)\n",
    "pred_tr_1 = svm2_1.predict(X_train_1)\n",
    "print('Accuracy on train set: {:0.4f}'.format(svm2_1.score(pred_tr_1, y_train_1)))\n",
    "pred_val_1 = svm2_1.predict(X_val_1)\n",
    "print('Accuracy on val set: {:0.4f}'.format(svm2_1.score(pred_val_1, y_val_1)))"
   ]
  },
  {
   "cell_type": "markdown",
   "metadata": {
    "hidden": true
   },
   "source": [
    "#### Data set 2"
   ]
  },
  {
   "cell_type": "code",
   "execution_count": 11,
   "metadata": {
    "ExecuteTime": {
     "end_time": "2019-02-11T19:34:15.268256Z",
     "start_time": "2019-02-11T19:34:09.251041Z"
    },
    "hidden": true
   },
   "outputs": [
    {
     "name": "stdout",
     "output_type": "stream",
     "text": [
      "Accuracy on train set: 1.0000\n",
      "Accuracy on val set: 0.6667\n"
     ]
    }
   ],
   "source": [
    "svm2_2 = SVM2.SVM2(K, ID, lbda=l_opt_2, maxiter=100, method='BFGS', print_callbacks=False)\n",
    "res = svm2_2.fit(X_train_2, y_train_2, X_val_2, y_val_2)\n",
    "pred_tr_2 = svm2_2.predict(X_train_2)\n",
    "print('Accuracy on train set: {:0.4f}'.format(svm2_2.score(pred_tr_2, y_train_2)))\n",
    "pred_val_2 = svm2_2.predict(X_val_2)\n",
    "print('Accuracy on val set: {:0.4f}'.format(svm2_2.score(pred_val_2, y_val_2)))"
   ]
  },
  {
   "cell_type": "markdown",
   "metadata": {
    "hidden": true
   },
   "source": [
    "#### Data set 3"
   ]
  },
  {
   "cell_type": "code",
   "execution_count": 12,
   "metadata": {
    "ExecuteTime": {
     "end_time": "2019-02-11T19:34:56.769490Z",
     "start_time": "2019-02-11T19:34:46.882038Z"
    },
    "hidden": true
   },
   "outputs": [
    {
     "name": "stdout",
     "output_type": "stream",
     "text": [
      "Accuracy on train set: 0.9873\n",
      "Accuracy on val set: 0.5968\n"
     ]
    }
   ],
   "source": [
    "svm2_3 = SVM2.SVM2(K, ID, lbda=l_opt_3, maxiter=100, method='BFGS', print_callbacks=False)\n",
    "res = svm2_3.fit(X_train_3, y_train_3, X_val_3, y_val_3)\n",
    "pred_tr_3 = svm2_3.predict(X_train_3)\n",
    "print('Accuracy on train set: {:0.4f}'.format(svm2_3.score(pred_tr_3, y_train_3)))\n",
    "pred_val_3 = svm2_3.predict(X_val_3)\n",
    "print('Accuracy on val set: {:0.4f}'.format(svm2_3.score(pred_val_3, y_val_3)))"
   ]
  },
  {
   "cell_type": "markdown",
   "metadata": {
    "hidden": true
   },
   "source": [
    "### Export predictions"
   ]
  },
  {
   "cell_type": "code",
   "execution_count": 15,
   "metadata": {
    "ExecuteTime": {
     "end_time": "2019-02-11T19:36:46.204821Z",
     "start_time": "2019-02-11T19:36:46.021136Z"
    },
    "hidden": true
   },
   "outputs": [
    {
     "name": "stdout",
     "output_type": "stream",
     "text": [
      "20:36:46.179189\n"
     ]
    }
   ],
   "source": [
    "y_pred_test = utils.export_predictions([svm_1, svm_2, svm_3], [X_test_1, X_test_2, X_test_3])"
   ]
  },
  {
   "cell_type": "markdown",
   "metadata": {},
   "source": [
    "## Vrac"
   ]
  },
  {
   "cell_type": "code",
   "execution_count": null,
   "metadata": {},
   "outputs": [],
   "source": []
  }
 ],
 "metadata": {
  "hide_input": false,
  "kernelspec": {
   "display_name": "Python 3",
   "language": "python",
   "name": "python3"
  },
  "language_info": {
   "codemirror_mode": {
    "name": "ipython",
    "version": 3
   },
   "file_extension": ".py",
   "mimetype": "text/x-python",
   "name": "python",
   "nbconvert_exporter": "python",
   "pygments_lexer": "ipython3",
   "version": "3.6.6"
  },
  "latex_envs": {
   "LaTeX_envs_menu_present": true,
   "autoclose": false,
   "autocomplete": true,
   "bibliofile": "biblio.bib",
   "cite_by": "apalike",
   "current_citInitial": 1,
   "eqLabelWithNumbers": true,
   "eqNumInitial": 1,
   "hotkeys": {
    "equation": "Ctrl-E",
    "itemize": "Ctrl-I"
   },
   "labels_anchors": false,
   "latex_user_defs": false,
   "report_style_numbering": false,
   "user_envs_cfg": false
  },
  "toc": {
   "base_numbering": 1,
   "nav_menu": {},
   "number_sections": false,
   "sideBar": true,
   "skip_h1_title": false,
   "title_cell": "Table of Contents",
   "title_sidebar": "Contents",
   "toc_cell": false,
   "toc_position": {},
   "toc_section_display": true,
   "toc_window_display": true
  }
 },
 "nbformat": 4,
 "nbformat_minor": 2
}
