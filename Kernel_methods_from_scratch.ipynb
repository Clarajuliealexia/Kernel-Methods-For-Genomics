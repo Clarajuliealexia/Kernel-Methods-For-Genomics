{
 "cells": [
  {
   "cell_type": "markdown",
   "metadata": {
    "ExecuteTime": {
     "end_time": "2019-02-07T16:47:51.714676Z",
     "start_time": "2019-02-07T16:47:51.710445Z"
    }
   },
   "source": [
    "# Kernel methods : Data Challenge (TF)"
   ]
  },
  {
   "cell_type": "markdown",
   "metadata": {
    "heading_collapsed": true
   },
   "source": [
    "## Packages import"
   ]
  },
  {
   "cell_type": "code",
   "execution_count": 1,
   "metadata": {
    "ExecuteTime": {
     "end_time": "2019-02-13T16:23:56.586102Z",
     "start_time": "2019-02-13T16:23:53.567305Z"
    },
    "hidden": true
   },
   "outputs": [],
   "source": [
    "import pandas as pd\n",
    "import numpy as np\n",
    "from tqdm import tqdm_notebook as tqdm\n",
    "import os\n",
    "import datetime\n",
    "import pickle as pkl\n",
    "import warnings\n",
    "warnings.filterwarnings('ignore')\n",
    "from itertools import product\n",
    "\n",
    "import utils  \n",
    "import kernels\n",
    "import SVM\n",
    "import SVM2\n",
    "from scipy.optimize import minimize\n",
    "\n",
    "param = {'WD1': 1, 'WD2': 2, 'WD3': 3, 'WD4': 4, 'WD5': 5}"
   ]
  },
  {
   "cell_type": "markdown",
   "metadata": {},
   "source": [
    "## Getting training data"
   ]
  },
  {
   "cell_type": "markdown",
   "metadata": {},
   "source": [
    "If you have not generated the data yet, please select ``all=True``. Once the data have been created, running the same line of code will allow you to directly pick the data into the file where it was stored."
   ]
  },
  {
   "cell_type": "code",
   "execution_count": 25,
   "metadata": {
    "ExecuteTime": {
     "end_time": "2019-02-13T16:33:55.483782Z",
     "start_time": "2019-02-13T16:33:42.698472Z"
    }
   },
   "outputs": [],
   "source": [
    "method = \"WD10\"\n",
    "X_train, y_train, X_val, y_val, X_test, K_WD, ID = utils.get_training_datas(method=method, all=True, replace=False)\n",
    "X_train_1, y_train_1, X_val_1, y_val_1, X_test_1, K_1, id_1 = utils.select_k(1, X_train, y_train, X_val, y_val, X_test, K, ID)\n",
    "X_train_2, y_train_2, X_val_2, y_val_2, X_test_2, K_2, id_2 = utils.select_k(2, X_train, y_train, X_val, y_val, X_test, K, ID)\n",
    "X_train_3, y_train_3, X_val_3, y_val_3, X_test_3, K_3, id_3 = utils.select_k(3, X_train, y_train, X_val, y_val, X_test, K, ID)"
   ]
  },
  {
   "cell_type": "markdown",
   "metadata": {},
   "source": [
    "## C-SVM with Weighted Degree Kernel (WDK)"
   ]
  },
  {
   "cell_type": "markdown",
   "metadata": {
    "ExecuteTime": {
     "end_time": "2019-02-08T20:34:50.571109Z",
     "start_time": "2019-02-08T20:34:50.563765Z"
    }
   },
   "source": [
    "### Cross validation on constant C"
   ]
  },
  {
   "cell_type": "markdown",
   "metadata": {},
   "source": [
    "#### Data set 1"
   ]
  },
  {
   "cell_type": "code",
   "execution_count": 26,
   "metadata": {
    "ExecuteTime": {
     "end_time": "2019-02-13T16:34:43.092881Z",
     "start_time": "2019-02-13T16:33:56.875660Z"
    },
    "scrolled": true
   },
   "outputs": [
    {
     "data": {
      "application/vnd.jupyter.widget-view+json": {
       "model_id": "4855b493745d4d869ace5c6de0c6a1b0",
       "version_major": 2,
       "version_minor": 0
      },
      "text/plain": [
       "HBox(children=(IntProgress(value=0, max=5), HTML(value='')))"
      ]
     },
     "metadata": {},
     "output_type": "display_data"
    },
    {
     "name": "stdout",
     "output_type": "stream",
     "text": [
      "Fold 1\n",
      "C=0.001, best accuracy on train (0.7087) and val (0.5575)\n",
      "C=0.002, best accuracy on train (0.7087) and val (0.5575)\n",
      "C=0.003, best accuracy on train (0.7087) and val (0.5575)\n",
      "C=0.004, best accuracy on train (0.8350) and val (0.5650)\n",
      "C=0.005, best accuracy on train (0.8850) and val (0.6025)\n",
      "C=0.006, best accuracy on train (0.9019) and val (0.6300)\n",
      "C=0.007, best accuracy on train (0.8688) and val (0.6150)\n",
      "C=0.008, best accuracy on train (0.9325) and val (0.6125)\n",
      "C=0.009000000000000001, best accuracy on train (0.8950) and val (0.6150)\n",
      "C=0.01, best accuracy on train (0.9550) and val (0.6275)\n",
      "C=0.02, best accuracy on train (0.9850) and val (0.6275)\n",
      "C=0.03, best accuracy on train (0.9888) and val (0.6400)\n",
      "C=0.04, best accuracy on train (0.9894) and val (0.6300)\n",
      "C=0.05, best accuracy on train (0.9994) and val (0.6350)\n",
      "C=0.06, best accuracy on train (0.9988) and val (0.6500)\n",
      "C=0.07, best accuracy on train (0.9988) and val (0.6475)\n",
      "C=0.08, best accuracy on train (0.9988) and val (0.6475)\n",
      "C=0.09, best accuracy on train (0.9988) and val (0.6475)\n"
     ]
    },
    {
     "ename": "KeyboardInterrupt",
     "evalue": "",
     "output_type": "error",
     "traceback": [
      "\u001b[0;31m---------------------------------------------------------------------------\u001b[0m",
      "\u001b[0;31mKeyboardInterrupt\u001b[0m                         Traceback (most recent call last)",
      "\u001b[0;32m<ipython-input-26-41c7835caeca>\u001b[0m in \u001b[0;36m<module>\u001b[0;34m\u001b[0m\n\u001b[1;32m      5\u001b[0m C_opt_1, _, _, _, _ = SVM.cv(Cs=Cs_1, data=data_1, kfolds=kfolds,\n\u001b[1;32m      6\u001b[0m                              \u001b[0mpickleName\u001b[0m\u001b[0;34m=\u001b[0m\u001b[0mpickleName\u001b[0m\u001b[0;34m,\u001b[0m \u001b[0mK\u001b[0m\u001b[0;34m=\u001b[0m\u001b[0mK\u001b[0m\u001b[0;34m,\u001b[0m \u001b[0mID\u001b[0m\u001b[0;34m=\u001b[0m\u001b[0mID\u001b[0m\u001b[0;34m,\u001b[0m \u001b[0mmaxiter\u001b[0m\u001b[0;34m=\u001b[0m\u001b[0;36m500\u001b[0m\u001b[0;34m,\u001b[0m\u001b[0;34m\u001b[0m\u001b[0m\n\u001b[0;32m----> 7\u001b[0;31m                              method='BFGS')\n\u001b[0m",
      "\u001b[0;32m~/Desktop/MVA/KERNEL/Kernel_methods_MVA/SVM.py\u001b[0m in \u001b[0;36mcv\u001b[0;34m(Cs, data, kfolds, pickleName, **kwargs)\u001b[0m\n\u001b[1;32m    203\u001b[0m         \u001b[0;32mfor\u001b[0m \u001b[0mC\u001b[0m \u001b[0;32min\u001b[0m \u001b[0mCs\u001b[0m\u001b[0;34m:\u001b[0m\u001b[0;34m\u001b[0m\u001b[0m\n\u001b[1;32m    204\u001b[0m             \u001b[0msvm\u001b[0m \u001b[0;34m=\u001b[0m \u001b[0mC_SVM\u001b[0m\u001b[0;34m(\u001b[0m\u001b[0mC\u001b[0m\u001b[0;34m=\u001b[0m\u001b[0mC\u001b[0m\u001b[0;34m,\u001b[0m \u001b[0mprint_callbacks\u001b[0m\u001b[0;34m=\u001b[0m\u001b[0;32mFalse\u001b[0m\u001b[0;34m,\u001b[0m \u001b[0;34m**\u001b[0m\u001b[0mkwargs\u001b[0m\u001b[0;34m)\u001b[0m\u001b[0;34m\u001b[0m\u001b[0m\n\u001b[0;32m--> 205\u001b[0;31m             \u001b[0msvm\u001b[0m\u001b[0;34m.\u001b[0m\u001b[0mfit\u001b[0m\u001b[0;34m(\u001b[0m\u001b[0mX_train\u001b[0m\u001b[0;34m,\u001b[0m \u001b[0my_train\u001b[0m\u001b[0;34m,\u001b[0m \u001b[0mX_val\u001b[0m\u001b[0;34m,\u001b[0m \u001b[0my_val\u001b[0m\u001b[0;34m)\u001b[0m\u001b[0;34m\u001b[0m\u001b[0m\n\u001b[0m\u001b[1;32m    206\u001b[0m             \u001b[0mpred_tr\u001b[0m \u001b[0;34m=\u001b[0m \u001b[0msvm\u001b[0m\u001b[0;34m.\u001b[0m\u001b[0mpredict\u001b[0m\u001b[0;34m(\u001b[0m\u001b[0mX_train\u001b[0m\u001b[0;34m)\u001b[0m\u001b[0;34m\u001b[0m\u001b[0m\n\u001b[1;32m    207\u001b[0m             \u001b[0mscore_tr\u001b[0m \u001b[0;34m=\u001b[0m \u001b[0msvm\u001b[0m\u001b[0;34m.\u001b[0m\u001b[0mscore\u001b[0m\u001b[0;34m(\u001b[0m\u001b[0mpred_tr\u001b[0m\u001b[0;34m,\u001b[0m \u001b[0my_train\u001b[0m\u001b[0;34m)\u001b[0m\u001b[0;34m\u001b[0m\u001b[0m\n",
      "\u001b[0;32m~/Desktop/MVA/KERNEL/Kernel_methods_MVA/SVM.py\u001b[0m in \u001b[0;36mfit\u001b[0;34m(self, X, y, X_pred, y_pred)\u001b[0m\n\u001b[1;32m    127\u001b[0m                            \u001b[0mbounds\u001b[0m\u001b[0;34m=\u001b[0m\u001b[0mbounds\u001b[0m\u001b[0;34m,\u001b[0m \u001b[0mmethod\u001b[0m\u001b[0;34m=\u001b[0m\u001b[0;34m'L-BFGS-B'\u001b[0m\u001b[0;34m,\u001b[0m\u001b[0;34m\u001b[0m\u001b[0m\n\u001b[1;32m    128\u001b[0m                            \u001b[0mcallback\u001b[0m\u001b[0;34m=\u001b[0m\u001b[0mself\u001b[0m\u001b[0;34m.\u001b[0m\u001b[0mcallbackF\u001b[0m\u001b[0;34m,\u001b[0m\u001b[0;34m\u001b[0m\u001b[0m\n\u001b[0;32m--> 129\u001b[0;31m                            tol=self.tol, options={'maxiter': self.maxiter})\n\u001b[0m\u001b[1;32m    130\u001b[0m         \u001b[0;32melif\u001b[0m \u001b[0mself\u001b[0m\u001b[0;34m.\u001b[0m\u001b[0mmethod\u001b[0m \u001b[0;34m==\u001b[0m \u001b[0;34m\"Newton\"\u001b[0m\u001b[0;34m:\u001b[0m\u001b[0;34m\u001b[0m\u001b[0m\n\u001b[1;32m    131\u001b[0m             bounds = Bounds(np.array([-self.C if self.y_fit[i] <= 0 else 0 for i in range(n)]),\n",
      "\u001b[0;32m~/anaconda3/lib/python3.6/site-packages/scipy/optimize/_minimize.py\u001b[0m in \u001b[0;36mminimize\u001b[0;34m(fun, x0, args, method, jac, hess, hessp, bounds, constraints, tol, callback, options)\u001b[0m\n\u001b[1;32m    601\u001b[0m     \u001b[0;32melif\u001b[0m \u001b[0mmeth\u001b[0m \u001b[0;34m==\u001b[0m \u001b[0;34m'l-bfgs-b'\u001b[0m\u001b[0;34m:\u001b[0m\u001b[0;34m\u001b[0m\u001b[0m\n\u001b[1;32m    602\u001b[0m         return _minimize_lbfgsb(fun, x0, args, jac, bounds,\n\u001b[0;32m--> 603\u001b[0;31m                                 callback=callback, **options)\n\u001b[0m\u001b[1;32m    604\u001b[0m     \u001b[0;32melif\u001b[0m \u001b[0mmeth\u001b[0m \u001b[0;34m==\u001b[0m \u001b[0;34m'tnc'\u001b[0m\u001b[0;34m:\u001b[0m\u001b[0;34m\u001b[0m\u001b[0m\n\u001b[1;32m    605\u001b[0m         return _minimize_tnc(fun, x0, args, jac, bounds, callback=callback,\n",
      "\u001b[0;32m~/anaconda3/lib/python3.6/site-packages/scipy/optimize/lbfgsb.py\u001b[0m in \u001b[0;36m_minimize_lbfgsb\u001b[0;34m(fun, x0, args, jac, bounds, disp, maxcor, ftol, gtol, eps, maxfun, maxiter, iprint, callback, maxls, **unknown_options)\u001b[0m\n\u001b[1;32m    338\u001b[0m             \u001b[0mn_iterations\u001b[0m \u001b[0;34m+=\u001b[0m \u001b[0;36m1\u001b[0m\u001b[0;34m\u001b[0m\u001b[0m\n\u001b[1;32m    339\u001b[0m             \u001b[0;32mif\u001b[0m \u001b[0mcallback\u001b[0m \u001b[0;32mis\u001b[0m \u001b[0;32mnot\u001b[0m \u001b[0;32mNone\u001b[0m\u001b[0;34m:\u001b[0m\u001b[0;34m\u001b[0m\u001b[0m\n\u001b[0;32m--> 340\u001b[0;31m                 \u001b[0mcallback\u001b[0m\u001b[0;34m(\u001b[0m\u001b[0mnp\u001b[0m\u001b[0;34m.\u001b[0m\u001b[0mcopy\u001b[0m\u001b[0;34m(\u001b[0m\u001b[0mx\u001b[0m\u001b[0;34m)\u001b[0m\u001b[0;34m)\u001b[0m\u001b[0;34m\u001b[0m\u001b[0m\n\u001b[0m\u001b[1;32m    341\u001b[0m \u001b[0;34m\u001b[0m\u001b[0m\n\u001b[1;32m    342\u001b[0m             \u001b[0;32mif\u001b[0m \u001b[0mn_iterations\u001b[0m \u001b[0;34m>=\u001b[0m \u001b[0mmaxiter\u001b[0m\u001b[0;34m:\u001b[0m\u001b[0;34m\u001b[0m\u001b[0m\n",
      "\u001b[0;32m~/Desktop/MVA/KERNEL/Kernel_methods_MVA/SVM.py\u001b[0m in \u001b[0;36mcallbackF\u001b[0;34m(self, Xi, Yi)\u001b[0m\n\u001b[1;32m     70\u001b[0m         \u001b[0mself\u001b[0m\u001b[0;34m.\u001b[0m\u001b[0msv\u001b[0m \u001b[0;34m=\u001b[0m \u001b[0mXi\u001b[0m\u001b[0;34m[\u001b[0m\u001b[0mself\u001b[0m\u001b[0;34m.\u001b[0m\u001b[0midx_sv\u001b[0m\u001b[0;34m]\u001b[0m\u001b[0;34m\u001b[0m\u001b[0m\n\u001b[1;32m     71\u001b[0m         \u001b[0mself\u001b[0m\u001b[0;34m.\u001b[0m\u001b[0midx_sv\u001b[0m \u001b[0;34m=\u001b[0m \u001b[0mself\u001b[0m\u001b[0;34m.\u001b[0m\u001b[0midx_fit\u001b[0m\u001b[0;34m[\u001b[0m\u001b[0mself\u001b[0m\u001b[0;34m.\u001b[0m\u001b[0midx_sv\u001b[0m\u001b[0;34m]\u001b[0m\u001b[0;34m\u001b[0m\u001b[0m\n\u001b[0;32m---> 72\u001b[0;31m         \u001b[0mtrain_acc\u001b[0m \u001b[0;34m=\u001b[0m \u001b[0mself\u001b[0m\u001b[0;34m.\u001b[0m\u001b[0mscore\u001b[0m\u001b[0;34m(\u001b[0m\u001b[0mself\u001b[0m\u001b[0;34m.\u001b[0m\u001b[0mpredict\u001b[0m\u001b[0;34m(\u001b[0m\u001b[0mself\u001b[0m\u001b[0;34m.\u001b[0m\u001b[0mX_fit\u001b[0m\u001b[0;34m)\u001b[0m\u001b[0;34m,\u001b[0m \u001b[0mself\u001b[0m\u001b[0;34m.\u001b[0m\u001b[0my_fit\u001b[0m\u001b[0;34m)\u001b[0m\u001b[0;34m\u001b[0m\u001b[0m\n\u001b[0m\u001b[1;32m     73\u001b[0m         \u001b[0;32mif\u001b[0m \u001b[0mself\u001b[0m\u001b[0;34m.\u001b[0m\u001b[0mX_pred\u001b[0m \u001b[0;32mis\u001b[0m \u001b[0;32mNone\u001b[0m\u001b[0;34m:\u001b[0m\u001b[0;34m\u001b[0m\u001b[0m\n\u001b[1;32m     74\u001b[0m             \u001b[0mval_acc\u001b[0m \u001b[0;34m=\u001b[0m \u001b[0;36m0\u001b[0m\u001b[0;34m\u001b[0m\u001b[0m\n",
      "\u001b[0;32m~/Desktop/MVA/KERNEL/Kernel_methods_MVA/SVM.py\u001b[0m in \u001b[0;36mpredict\u001b[0;34m(self, X)\u001b[0m\n\u001b[1;32m    152\u001b[0m         \u001b[0mpred\u001b[0m \u001b[0;34m=\u001b[0m \u001b[0;34m[\u001b[0m\u001b[0;34m]\u001b[0m\u001b[0;34m\u001b[0m\u001b[0m\n\u001b[1;32m    153\u001b[0m         \u001b[0;32mfor\u001b[0m \u001b[0mi\u001b[0m \u001b[0;32min\u001b[0m \u001b[0mself\u001b[0m\u001b[0;34m.\u001b[0m\u001b[0midx_pred\u001b[0m\u001b[0;34m:\u001b[0m\u001b[0;34m\u001b[0m\u001b[0m\n\u001b[0;32m--> 154\u001b[0;31m             \u001b[0mpred\u001b[0m\u001b[0;34m.\u001b[0m\u001b[0mappend\u001b[0m\u001b[0;34m(\u001b[0m\u001b[0mnp\u001b[0m\u001b[0;34m.\u001b[0m\u001b[0msign\u001b[0m\u001b[0;34m(\u001b[0m\u001b[0mnp\u001b[0m\u001b[0;34m.\u001b[0m\u001b[0mdot\u001b[0m\u001b[0;34m(\u001b[0m\u001b[0mself\u001b[0m\u001b[0;34m.\u001b[0m\u001b[0msv\u001b[0m\u001b[0;34m,\u001b[0m \u001b[0mself\u001b[0m\u001b[0;34m.\u001b[0m\u001b[0mK\u001b[0m\u001b[0;34m[\u001b[0m\u001b[0mself\u001b[0m\u001b[0;34m.\u001b[0m\u001b[0midx_sv\u001b[0m\u001b[0;34m,\u001b[0m \u001b[0mi\u001b[0m\u001b[0;34m]\u001b[0m\u001b[0;34m.\u001b[0m\u001b[0msqueeze\u001b[0m\u001b[0;34m(\u001b[0m\u001b[0;34m)\u001b[0m\u001b[0;34m)\u001b[0m\u001b[0;34m)\u001b[0m\u001b[0;34m)\u001b[0m\u001b[0;34m\u001b[0m\u001b[0m\n\u001b[0m\u001b[1;32m    155\u001b[0m         \u001b[0;32mreturn\u001b[0m \u001b[0mnp\u001b[0m\u001b[0;34m.\u001b[0m\u001b[0marray\u001b[0m\u001b[0;34m(\u001b[0m\u001b[0mpred\u001b[0m\u001b[0;34m)\u001b[0m\u001b[0;34m\u001b[0m\u001b[0m\n\u001b[1;32m    156\u001b[0m \u001b[0;34m\u001b[0m\u001b[0m\n",
      "\u001b[0;31mKeyboardInterrupt\u001b[0m: "
     ]
    }
   ],
   "source": [
    "Cs_1 = np.sort([i*10**j for (i,j) in product(range(1,10), range(-3,2))])\n",
    "data_1 = [X_train_1, y_train_1, X_val_1, y_val_1]\n",
    "pickleName = 'cv_C_SVM_LA_e11_d2_k1_max_iter500_solver_BFGS_full.pkl'\n",
    "kfolds = 5\n",
    "C_opt_1, _, _, _, _ = SVM.cv(Cs=Cs_1, data=data_1, kfolds=kfolds,\n",
    "                             pickleName=pickleName, K=K, ID=ID, maxiter=500,\n",
    "                             method='BFGS')"
   ]
  },
  {
   "cell_type": "markdown",
   "metadata": {},
   "source": [
    "#### Data set 2"
   ]
  },
  {
   "cell_type": "code",
   "execution_count": 45,
   "metadata": {
    "ExecuteTime": {
     "end_time": "2019-02-13T15:41:41.224241Z",
     "start_time": "2019-02-13T15:29:20.140976Z"
    },
    "scrolled": true
   },
   "outputs": [
    {
     "data": {
      "application/vnd.jupyter.widget-view+json": {
       "model_id": "ff3ae172e93e480eb977fd7c5d288fe6",
       "version_major": 2,
       "version_minor": 0
      },
      "text/plain": [
       "HBox(children=(IntProgress(value=0, max=5), HTML(value='')))"
      ]
     },
     "metadata": {},
     "output_type": "display_data"
    },
    {
     "name": "stdout",
     "output_type": "stream",
     "text": [
      "Fold 1\n",
      "C=0.001, best accuracy on train (0.5069) and val (0.4675)\n",
      "C=0.002, best accuracy on train (0.5069) and val (0.4675)\n",
      "C=0.003, best accuracy on train (0.5069) and val (0.4675)\n",
      "C=0.004, best accuracy on train (0.5069) and val (0.4675)\n",
      "C=0.005, best accuracy on train (0.5069) and val (0.4675)\n",
      "C=0.006, best accuracy on train (0.5069) and val (0.4675)\n",
      "C=0.007, best accuracy on train (0.5069) and val (0.4675)\n",
      "C=0.008, best accuracy on train (0.5069) and val (0.4675)\n",
      "C=0.009000000000000001, best accuracy on train (0.5069) and val (0.4675)\n",
      "C=0.01, best accuracy on train (0.5069) and val (0.4675)\n",
      "C=0.02, best accuracy on train (0.6863) and val (0.5925)\n",
      "C=0.03, best accuracy on train (0.7400) and val (0.7500)\n",
      "C=0.04, best accuracy on train (0.7606) and val (0.7350)\n",
      "C=0.05, best accuracy on train (0.7425) and val (0.7325)\n",
      "C=0.06, best accuracy on train (0.7606) and val (0.7450)\n",
      "C=0.07, best accuracy on train (0.7594) and val (0.7350)\n",
      "C=0.08, best accuracy on train (0.7575) and val (0.7350)\n",
      "C=0.09, best accuracy on train (0.7681) and val (0.7350)\n",
      "C=0.1, best accuracy on train (0.7512) and val (0.7300)\n",
      "C=0.2, best accuracy on train (0.7669) and val (0.7400)\n",
      "C=0.30000000000000004, best accuracy on train (0.7762) and val (0.7450)\n",
      "C=0.4, best accuracy on train (0.7762) and val (0.7450)\n",
      "C=0.5, best accuracy on train (0.7762) and val (0.7450)\n",
      "C=0.6000000000000001, best accuracy on train (0.7762) and val (0.7450)\n",
      "C=0.7000000000000001, best accuracy on train (0.7762) and val (0.7450)\n",
      "C=0.8, best accuracy on train (0.7762) and val (0.7450)\n",
      "C=0.9, best accuracy on train (0.7762) and val (0.7450)\n",
      "C=1.0, best accuracy on train (0.7762) and val (0.7450)\n",
      "C=2.0, best accuracy on train (0.7762) and val (0.7450)\n",
      "C=3.0, best accuracy on train (0.7762) and val (0.7450)\n",
      "C=4.0, best accuracy on train (0.7762) and val (0.7450)\n",
      "C=5.0, best accuracy on train (0.7762) and val (0.7450)\n",
      "C=6.0, best accuracy on train (0.7762) and val (0.7450)\n",
      "C=7.0, best accuracy on train (0.7762) and val (0.7450)\n",
      "C=8.0, best accuracy on train (0.7762) and val (0.7450)\n",
      "C=9.0, best accuracy on train (0.7762) and val (0.7450)\n",
      "C=10.0, best accuracy on train (0.7762) and val (0.7450)\n",
      "C=20.0, best accuracy on train (0.7762) and val (0.7450)\n",
      "C=30.0, best accuracy on train (0.7762) and val (0.7450)\n",
      "C=40.0, best accuracy on train (0.7762) and val (0.7450)\n",
      "C=50.0, best accuracy on train (0.7762) and val (0.7450)\n",
      "C=60.0, best accuracy on train (0.7762) and val (0.7450)\n",
      "C=70.0, best accuracy on train (0.7762) and val (0.7450)\n",
      "C=80.0, best accuracy on train (0.7762) and val (0.7450)\n",
      "C=90.0, best accuracy on train (0.7762) and val (0.7450)\n",
      "Fold 2\n",
      "C=0.001, best accuracy on train (0.5219) and val (0.4925)\n",
      "C=0.002, best accuracy on train (0.5219) and val (0.4925)\n",
      "C=0.003, best accuracy on train (0.5219) and val (0.4925)\n",
      "C=0.004, best accuracy on train (0.5219) and val (0.4925)\n",
      "C=0.005, best accuracy on train (0.5219) and val (0.4925)\n",
      "C=0.006, best accuracy on train (0.5219) and val (0.4925)\n",
      "C=0.007, best accuracy on train (0.5219) and val (0.4925)\n",
      "C=0.008, best accuracy on train (0.5219) and val (0.4925)\n",
      "C=0.009000000000000001, best accuracy on train (0.5219) and val (0.4925)\n",
      "C=0.01, best accuracy on train (0.5219) and val (0.4925)\n",
      "C=0.02, best accuracy on train (0.6681) and val (0.6025)\n",
      "C=0.03, best accuracy on train (0.7694) and val (0.7025)\n",
      "C=0.04, best accuracy on train (0.7644) and val (0.7000)\n",
      "C=0.05, best accuracy on train (0.7612) and val (0.7200)\n",
      "C=0.06, best accuracy on train (0.7488) and val (0.7125)\n",
      "C=0.07, best accuracy on train (0.7619) and val (0.7125)\n",
      "C=0.08, best accuracy on train (0.7481) and val (0.7025)\n",
      "C=0.09, best accuracy on train (0.7500) and val (0.7025)\n",
      "C=0.1, best accuracy on train (0.7538) and val (0.7000)\n",
      "C=0.2, best accuracy on train (0.7388) and val (0.6875)\n",
      "C=0.30000000000000004, best accuracy on train (0.7494) and val (0.6925)\n",
      "C=0.4, best accuracy on train (0.7531) and val (0.6925)\n",
      "C=0.5, best accuracy on train (0.7531) and val (0.6925)\n",
      "C=0.6000000000000001, best accuracy on train (0.7531) and val (0.6925)\n",
      "C=0.7000000000000001, best accuracy on train (0.7531) and val (0.6925)\n",
      "C=0.8, best accuracy on train (0.7531) and val (0.6925)\n",
      "C=0.9, best accuracy on train (0.7531) and val (0.6925)\n",
      "C=1.0, best accuracy on train (0.7531) and val (0.6925)\n",
      "C=2.0, best accuracy on train (0.7531) and val (0.6925)\n",
      "C=3.0, best accuracy on train (0.7531) and val (0.6925)\n",
      "C=4.0, best accuracy on train (0.7531) and val (0.6925)\n",
      "C=5.0, best accuracy on train (0.7531) and val (0.6925)\n",
      "C=6.0, best accuracy on train (0.7531) and val (0.6925)\n",
      "C=7.0, best accuracy on train (0.7531) and val (0.6925)\n",
      "C=8.0, best accuracy on train (0.7531) and val (0.6925)\n",
      "C=9.0, best accuracy on train (0.7531) and val (0.6925)\n",
      "C=10.0, best accuracy on train (0.7531) and val (0.6925)\n",
      "C=20.0, best accuracy on train (0.7531) and val (0.6925)\n",
      "C=30.0, best accuracy on train (0.7531) and val (0.6925)\n",
      "C=40.0, best accuracy on train (0.7531) and val (0.6925)\n",
      "C=50.0, best accuracy on train (0.7531) and val (0.6925)\n",
      "C=60.0, best accuracy on train (0.7531) and val (0.6925)\n",
      "C=70.0, best accuracy on train (0.7531) and val (0.6925)\n",
      "C=80.0, best accuracy on train (0.7531) and val (0.6925)\n",
      "C=90.0, best accuracy on train (0.7531) and val (0.6925)\n",
      "Fold 3\n",
      "C=0.001, best accuracy on train (0.5112) and val (0.4825)\n",
      "C=0.002, best accuracy on train (0.5112) and val (0.4825)\n",
      "C=0.003, best accuracy on train (0.5112) and val (0.4825)\n",
      "C=0.004, best accuracy on train (0.5112) and val (0.4825)\n",
      "C=0.005, best accuracy on train (0.5112) and val (0.4825)\n",
      "C=0.006, best accuracy on train (0.5112) and val (0.4825)\n",
      "C=0.007, best accuracy on train (0.5112) and val (0.4825)\n",
      "C=0.008, best accuracy on train (0.5112) and val (0.4825)\n",
      "C=0.009000000000000001, best accuracy on train (0.5112) and val (0.4825)\n",
      "C=0.01, best accuracy on train (0.5112) and val (0.4825)\n",
      "C=0.02, best accuracy on train (0.5787) and val (0.5475)\n",
      "C=0.03, best accuracy on train (0.7831) and val (0.6725)\n",
      "C=0.04, best accuracy on train (0.7750) and val (0.6775)\n",
      "C=0.05, best accuracy on train (0.7600) and val (0.6675)\n",
      "C=0.06, best accuracy on train (0.7694) and val (0.6750)\n",
      "C=0.07, best accuracy on train (0.7662) and val (0.6900)\n",
      "C=0.08, best accuracy on train (0.7700) and val (0.7025)\n",
      "C=0.09, best accuracy on train (0.7656) and val (0.6900)\n",
      "C=0.1, best accuracy on train (0.7650) and val (0.6925)\n",
      "C=0.2, best accuracy on train (0.7794) and val (0.6800)\n",
      "C=0.30000000000000004, best accuracy on train (0.7806) and val (0.6650)\n",
      "C=0.4, best accuracy on train (0.7619) and val (0.6750)\n",
      "C=0.5, best accuracy on train (0.7806) and val (0.6650)\n",
      "C=0.6000000000000001, best accuracy on train (0.7806) and val (0.6650)\n",
      "C=0.7000000000000001, best accuracy on train (0.7806) and val (0.6650)\n",
      "C=0.8, best accuracy on train (0.7806) and val (0.6650)\n",
      "C=0.9, best accuracy on train (0.7806) and val (0.6650)\n",
      "C=1.0, best accuracy on train (0.7806) and val (0.6650)\n",
      "C=2.0, best accuracy on train (0.7806) and val (0.6650)\n",
      "C=3.0, best accuracy on train (0.7806) and val (0.6650)\n",
      "C=4.0, best accuracy on train (0.7806) and val (0.6650)\n",
      "C=5.0, best accuracy on train (0.7806) and val (0.6650)\n",
      "C=6.0, best accuracy on train (0.7806) and val (0.6650)\n",
      "C=7.0, best accuracy on train (0.7806) and val (0.6650)\n",
      "C=8.0, best accuracy on train (0.7806) and val (0.6650)\n",
      "C=9.0, best accuracy on train (0.7806) and val (0.6650)\n",
      "C=10.0, best accuracy on train (0.7806) and val (0.6650)\n",
      "C=20.0, best accuracy on train (0.7806) and val (0.6650)\n",
      "C=30.0, best accuracy on train (0.7806) and val (0.6650)\n",
      "C=40.0, best accuracy on train (0.7806) and val (0.6650)\n",
      "C=50.0, best accuracy on train (0.7806) and val (0.6650)\n",
      "C=60.0, best accuracy on train (0.7806) and val (0.6650)\n",
      "C=70.0, best accuracy on train (0.7806) and val (0.6650)\n",
      "C=80.0, best accuracy on train (0.7806) and val (0.6650)\n",
      "C=90.0, best accuracy on train (0.7806) and val (0.6650)\n",
      "Fold 4\n",
      "C=0.001, best accuracy on train (0.5375) and val (0.5300)\n",
      "C=0.002, best accuracy on train (0.5375) and val (0.5300)\n",
      "C=0.003, best accuracy on train (0.5375) and val (0.5300)\n",
      "C=0.004, best accuracy on train (0.5375) and val (0.5300)\n",
      "C=0.005, best accuracy on train (0.5375) and val (0.5300)\n",
      "C=0.006, best accuracy on train (0.5375) and val (0.5300)\n"
     ]
    },
    {
     "name": "stdout",
     "output_type": "stream",
     "text": [
      "C=0.007, best accuracy on train (0.5375) and val (0.5300)\n",
      "C=0.008, best accuracy on train (0.5375) and val (0.5300)\n",
      "C=0.009000000000000001, best accuracy on train (0.5375) and val (0.5300)\n",
      "C=0.01, best accuracy on train (0.5375) and val (0.5300)\n",
      "C=0.02, best accuracy on train (0.6512) and val (0.6025)\n",
      "C=0.03, best accuracy on train (0.7588) and val (0.7075)\n",
      "C=0.04, best accuracy on train (0.7588) and val (0.7075)\n",
      "C=0.05, best accuracy on train (0.7706) and val (0.7075)\n",
      "C=0.06, best accuracy on train (0.7725) and val (0.7000)\n",
      "C=0.07, best accuracy on train (0.7706) and val (0.6950)\n",
      "C=0.08, best accuracy on train (0.7762) and val (0.7025)\n",
      "C=0.09, best accuracy on train (0.7669) and val (0.7050)\n",
      "C=0.1, best accuracy on train (0.7669) and val (0.7100)\n",
      "C=0.2, best accuracy on train (0.7675) and val (0.7075)\n",
      "C=0.30000000000000004, best accuracy on train (0.7681) and val (0.7050)\n",
      "C=0.4, best accuracy on train (0.7681) and val (0.7050)\n",
      "C=0.5, best accuracy on train (0.7681) and val (0.7050)\n",
      "C=0.6000000000000001, best accuracy on train (0.7681) and val (0.7050)\n",
      "C=0.7000000000000001, best accuracy on train (0.7681) and val (0.7050)\n",
      "C=0.8, best accuracy on train (0.7681) and val (0.7050)\n",
      "C=0.9, best accuracy on train (0.7681) and val (0.7050)\n",
      "C=1.0, best accuracy on train (0.7681) and val (0.7050)\n",
      "C=2.0, best accuracy on train (0.7681) and val (0.7050)\n",
      "C=3.0, best accuracy on train (0.7681) and val (0.7050)\n",
      "C=4.0, best accuracy on train (0.7681) and val (0.7050)\n",
      "C=5.0, best accuracy on train (0.7681) and val (0.7050)\n",
      "C=6.0, best accuracy on train (0.7681) and val (0.7050)\n",
      "C=7.0, best accuracy on train (0.7681) and val (0.7050)\n",
      "C=8.0, best accuracy on train (0.7681) and val (0.7050)\n",
      "C=9.0, best accuracy on train (0.7681) and val (0.7050)\n",
      "C=10.0, best accuracy on train (0.7681) and val (0.7050)\n",
      "C=20.0, best accuracy on train (0.7681) and val (0.7050)\n",
      "C=30.0, best accuracy on train (0.7681) and val (0.7050)\n",
      "C=40.0, best accuracy on train (0.7681) and val (0.7050)\n",
      "C=50.0, best accuracy on train (0.7681) and val (0.7050)\n",
      "C=60.0, best accuracy on train (0.7681) and val (0.7050)\n",
      "C=70.0, best accuracy on train (0.7681) and val (0.7050)\n",
      "C=80.0, best accuracy on train (0.7681) and val (0.7050)\n",
      "C=90.0, best accuracy on train (0.7681) and val (0.7050)\n",
      "Fold 5\n",
      "C=0.001, best accuracy on train (0.5075) and val (0.4850)\n",
      "C=0.002, best accuracy on train (0.5075) and val (0.4850)\n",
      "C=0.003, best accuracy on train (0.5075) and val (0.4850)\n",
      "C=0.004, best accuracy on train (0.5075) and val (0.4850)\n",
      "C=0.005, best accuracy on train (0.5075) and val (0.4850)\n",
      "C=0.006, best accuracy on train (0.5075) and val (0.4850)\n",
      "C=0.007, best accuracy on train (0.5075) and val (0.4850)\n",
      "C=0.008, best accuracy on train (0.5075) and val (0.4850)\n",
      "C=0.009000000000000001, best accuracy on train (0.5075) and val (0.4850)\n",
      "C=0.01, best accuracy on train (0.5075) and val (0.4850)\n",
      "C=0.02, best accuracy on train (0.5556) and val (0.5225)\n",
      "C=0.03, best accuracy on train (0.7756) and val (0.7325)\n",
      "C=0.04, best accuracy on train (0.7794) and val (0.7200)\n",
      "C=0.05, best accuracy on train (0.7638) and val (0.7125)\n",
      "C=0.06, best accuracy on train (0.7681) and val (0.7125)\n",
      "C=0.07, best accuracy on train (0.7588) and val (0.7150)\n",
      "C=0.08, best accuracy on train (0.7625) and val (0.7100)\n",
      "C=0.09, best accuracy on train (0.7788) and val (0.7225)\n",
      "C=0.1, best accuracy on train (0.7756) and val (0.7325)\n",
      "C=0.2, best accuracy on train (0.7738) and val (0.7150)\n",
      "C=0.30000000000000004, best accuracy on train (0.7619) and val (0.7150)\n",
      "C=0.4, best accuracy on train (0.7619) and val (0.7150)\n",
      "C=0.5, best accuracy on train (0.7619) and val (0.7150)\n",
      "C=0.6000000000000001, best accuracy on train (0.7619) and val (0.7150)\n",
      "C=0.7000000000000001, best accuracy on train (0.7619) and val (0.7150)\n",
      "C=0.8, best accuracy on train (0.7619) and val (0.7150)\n",
      "C=0.9, best accuracy on train (0.7619) and val (0.7150)\n",
      "C=1.0, best accuracy on train (0.7619) and val (0.7150)\n",
      "C=2.0, best accuracy on train (0.7619) and val (0.7150)\n",
      "C=3.0, best accuracy on train (0.7619) and val (0.7150)\n",
      "C=4.0, best accuracy on train (0.7619) and val (0.7150)\n",
      "C=5.0, best accuracy on train (0.7619) and val (0.7150)\n",
      "C=6.0, best accuracy on train (0.7619) and val (0.7150)\n",
      "C=7.0, best accuracy on train (0.7619) and val (0.7150)\n",
      "C=8.0, best accuracy on train (0.7619) and val (0.7150)\n",
      "C=9.0, best accuracy on train (0.7619) and val (0.7150)\n",
      "C=10.0, best accuracy on train (0.7619) and val (0.7150)\n",
      "C=20.0, best accuracy on train (0.7619) and val (0.7150)\n",
      "C=30.0, best accuracy on train (0.7619) and val (0.7150)\n",
      "C=40.0, best accuracy on train (0.7619) and val (0.7150)\n",
      "C=50.0, best accuracy on train (0.7619) and val (0.7150)\n",
      "C=60.0, best accuracy on train (0.7619) and val (0.7150)\n",
      "C=70.0, best accuracy on train (0.7619) and val (0.7150)\n",
      "C=80.0, best accuracy on train (0.7619) and val (0.7150)\n",
      "C=90.0, best accuracy on train (0.7619) and val (0.7150)\n",
      "Best constant C: 0.03, accuracy on val 0.7130\n"
     ]
    },
    {
     "name": "stderr",
     "output_type": "stream",
     "text": [
      "/Users/bfiliot/Desktop/MVA/KERNEL/Kernel_methods_MVA/SVM.py:218: ResourceWarning: unclosed file <_io.BufferedWriter name='./Data/cv_C_SVM_LA_e11_d2_k2_max_iter500_solver_BFGS_full.pkl'>\n",
      "  open(os.path.join('./Data', pickleName), 'wb'))\n"
     ]
    }
   ],
   "source": [
    "Cs_2 = Cs_1\n",
    "data_2 = [X_train_2, y_train_2, X_val_2, y_val_2]\n",
    "pickleName = 'cv_C_SVM_LA_e11_d2_k2_max_iter500_solver_BFGS_full.pkl'\n",
    "kfolds = 5\n",
    "C_opt_2, _, _, _, _ = SVM.cv(Cs=Cs_2, data=data_2, kfolds=kfolds,\n",
    "                             pickleName=pickleName, K=K, ID=ID, maxiter=500,\n",
    "                             method='BFGS')"
   ]
  },
  {
   "cell_type": "markdown",
   "metadata": {},
   "source": [
    "#### Data set 3"
   ]
  },
  {
   "cell_type": "code",
   "execution_count": 46,
   "metadata": {
    "ExecuteTime": {
     "end_time": "2019-02-13T15:54:54.355900Z",
     "start_time": "2019-02-13T15:41:41.229533Z"
    },
    "scrolled": true
   },
   "outputs": [
    {
     "data": {
      "application/vnd.jupyter.widget-view+json": {
       "model_id": "5d05d3f6925f42b49bb74ed0c1825716",
       "version_major": 2,
       "version_minor": 0
      },
      "text/plain": [
       "HBox(children=(IntProgress(value=0, max=5), HTML(value='')))"
      ]
     },
     "metadata": {},
     "output_type": "display_data"
    },
    {
     "name": "stdout",
     "output_type": "stream",
     "text": [
      "Fold 1\n",
      "C=0.001, best accuracy on train (0.5863) and val (0.5825)\n",
      "C=0.002, best accuracy on train (0.5863) and val (0.5825)\n",
      "C=0.003, best accuracy on train (0.5863) and val (0.5825)\n",
      "C=0.004, best accuracy on train (0.5863) and val (0.5825)\n",
      "C=0.005, best accuracy on train (0.5863) and val (0.5825)\n",
      "C=0.006, best accuracy on train (0.5863) and val (0.5825)\n",
      "C=0.007, best accuracy on train (0.5863) and val (0.5825)\n",
      "C=0.008, best accuracy on train (0.5863) and val (0.5825)\n",
      "C=0.009000000000000001, best accuracy on train (0.5863) and val (0.5825)\n",
      "C=0.01, best accuracy on train (0.5975) and val (0.5950)\n",
      "C=0.02, best accuracy on train (0.6338) and val (0.6100)\n",
      "C=0.03, best accuracy on train (0.6400) and val (0.6050)\n",
      "C=0.04, best accuracy on train (0.6656) and val (0.6125)\n",
      "C=0.05, best accuracy on train (0.6669) and val (0.6275)\n",
      "C=0.06, best accuracy on train (0.6713) and val (0.6250)\n",
      "C=0.07, best accuracy on train (0.6700) and val (0.6275)\n",
      "C=0.08, best accuracy on train (0.6875) and val (0.6275)\n",
      "C=0.09, best accuracy on train (0.6544) and val (0.6325)\n",
      "C=0.1, best accuracy on train (0.7075) and val (0.6300)\n",
      "C=0.2, best accuracy on train (0.6456) and val (0.6325)\n",
      "C=0.30000000000000004, best accuracy on train (0.6675) and val (0.6200)\n",
      "C=0.4, best accuracy on train (0.6975) and val (0.6150)\n",
      "C=0.5, best accuracy on train (0.6131) and val (0.5950)\n",
      "C=0.6000000000000001, best accuracy on train (0.6131) and val (0.5950)\n",
      "C=0.7000000000000001, best accuracy on train (0.6131) and val (0.5950)\n",
      "C=0.8, best accuracy on train (0.6131) and val (0.5950)\n",
      "C=0.9, best accuracy on train (0.6131) and val (0.5950)\n",
      "C=1.0, best accuracy on train (0.6131) and val (0.5950)\n",
      "C=2.0, best accuracy on train (0.5644) and val (0.5975)\n",
      "C=3.0, best accuracy on train (0.6131) and val (0.5950)\n",
      "C=4.0, best accuracy on train (0.6131) and val (0.5950)\n",
      "C=5.0, best accuracy on train (0.6131) and val (0.5950)\n",
      "C=6.0, best accuracy on train (0.6131) and val (0.5950)\n",
      "C=7.0, best accuracy on train (0.6131) and val (0.5950)\n",
      "C=8.0, best accuracy on train (0.6131) and val (0.5950)\n",
      "C=9.0, best accuracy on train (0.6131) and val (0.5950)\n",
      "C=10.0, best accuracy on train (0.6131) and val (0.5950)\n",
      "C=20.0, best accuracy on train (0.6131) and val (0.5950)\n",
      "C=30.0, best accuracy on train (0.6131) and val (0.5950)\n",
      "C=40.0, best accuracy on train (0.6131) and val (0.5950)\n",
      "C=50.0, best accuracy on train (0.6131) and val (0.5950)\n",
      "C=60.0, best accuracy on train (0.6131) and val (0.5950)\n",
      "C=70.0, best accuracy on train (0.6131) and val (0.5950)\n",
      "C=80.0, best accuracy on train (0.6131) and val (0.5950)\n",
      "C=90.0, best accuracy on train (0.6131) and val (0.5950)\n",
      "Fold 2\n",
      "C=0.001, best accuracy on train (0.6150) and val (0.5925)\n",
      "C=0.002, best accuracy on train (0.6150) and val (0.5925)\n",
      "C=0.003, best accuracy on train (0.6150) and val (0.5925)\n",
      "C=0.004, best accuracy on train (0.6150) and val (0.5925)\n",
      "C=0.005, best accuracy on train (0.6150) and val (0.5925)\n",
      "C=0.006, best accuracy on train (0.6150) and val (0.5925)\n",
      "C=0.007, best accuracy on train (0.6162) and val (0.5950)\n",
      "C=0.008, best accuracy on train (0.6150) and val (0.5925)\n",
      "C=0.009000000000000001, best accuracy on train (0.6388) and val (0.6075)\n",
      "C=0.01, best accuracy on train (0.6325) and val (0.6150)\n",
      "C=0.02, best accuracy on train (0.6250) and val (0.6275)\n",
      "C=0.03, best accuracy on train (0.6556) and val (0.6250)\n",
      "C=0.04, best accuracy on train (0.6500) and val (0.6300)\n",
      "C=0.05, best accuracy on train (0.6663) and val (0.6250)\n",
      "C=0.06, best accuracy on train (0.6737) and val (0.6275)\n",
      "C=0.07, best accuracy on train (0.6750) and val (0.6250)\n",
      "C=0.08, best accuracy on train (0.6731) and val (0.6325)\n",
      "C=0.09, best accuracy on train (0.6656) and val (0.6400)\n",
      "C=0.1, best accuracy on train (0.6787) and val (0.6400)\n",
      "C=0.2, best accuracy on train (0.6281) and val (0.6225)\n",
      "C=0.30000000000000004, best accuracy on train (0.6150) and val (0.5925)\n",
      "C=0.4, best accuracy on train (0.5869) and val (0.6050)\n",
      "C=0.5, best accuracy on train (0.5794) and val (0.6025)\n",
      "C=0.6000000000000001, best accuracy on train (0.5706) and val (0.6025)\n",
      "C=0.7000000000000001, best accuracy on train (0.6150) and val (0.5925)\n",
      "C=0.8, best accuracy on train (0.5637) and val (0.5975)\n",
      "C=0.9, best accuracy on train (0.5431) and val (0.5950)\n",
      "C=1.0, best accuracy on train (0.6150) and val (0.5925)\n",
      "C=2.0, best accuracy on train (0.6150) and val (0.5925)\n",
      "C=3.0, best accuracy on train (0.6150) and val (0.5925)\n",
      "C=4.0, best accuracy on train (0.6150) and val (0.5925)\n",
      "C=5.0, best accuracy on train (0.6150) and val (0.5925)\n",
      "C=6.0, best accuracy on train (0.6150) and val (0.5925)\n",
      "C=7.0, best accuracy on train (0.6150) and val (0.5925)\n",
      "C=8.0, best accuracy on train (0.6150) and val (0.5925)\n",
      "C=9.0, best accuracy on train (0.6150) and val (0.5925)\n",
      "C=10.0, best accuracy on train (0.6150) and val (0.5925)\n",
      "C=20.0, best accuracy on train (0.6150) and val (0.5925)\n",
      "C=30.0, best accuracy on train (0.6150) and val (0.5925)\n",
      "C=40.0, best accuracy on train (0.6150) and val (0.5925)\n",
      "C=50.0, best accuracy on train (0.6150) and val (0.5925)\n",
      "C=60.0, best accuracy on train (0.6150) and val (0.5925)\n",
      "C=70.0, best accuracy on train (0.6150) and val (0.5925)\n",
      "C=80.0, best accuracy on train (0.6150) and val (0.5925)\n",
      "C=90.0, best accuracy on train (0.6150) and val (0.5925)\n",
      "Fold 3\n",
      "C=0.001, best accuracy on train (0.5856) and val (0.5525)\n",
      "C=0.002, best accuracy on train (0.5856) and val (0.5525)\n",
      "C=0.003, best accuracy on train (0.5856) and val (0.5525)\n",
      "C=0.004, best accuracy on train (0.5856) and val (0.5525)\n",
      "C=0.005, best accuracy on train (0.5856) and val (0.5525)\n",
      "C=0.006, best accuracy on train (0.5856) and val (0.5525)\n",
      "C=0.007, best accuracy on train (0.5856) and val (0.5525)\n",
      "C=0.008, best accuracy on train (0.5869) and val (0.5550)\n",
      "C=0.009000000000000001, best accuracy on train (0.5950) and val (0.5600)\n",
      "C=0.01, best accuracy on train (0.5981) and val (0.5700)\n",
      "C=0.02, best accuracy on train (0.6481) and val (0.5800)\n",
      "C=0.03, best accuracy on train (0.6450) and val (0.5775)\n",
      "C=0.04, best accuracy on train (0.6750) and val (0.5850)\n",
      "C=0.05, best accuracy on train (0.6531) and val (0.5925)\n",
      "C=0.06, best accuracy on train (0.6619) and val (0.6025)\n",
      "C=0.07, best accuracy on train (0.6806) and val (0.5875)\n",
      "C=0.08, best accuracy on train (0.6669) and val (0.6025)\n",
      "C=0.09, best accuracy on train (0.6987) and val (0.6100)\n",
      "C=0.1, best accuracy on train (0.6975) and val (0.6050)\n",
      "C=0.2, best accuracy on train (0.6338) and val (0.5775)\n",
      "C=0.30000000000000004, best accuracy on train (0.6031) and val (0.5725)\n",
      "C=0.4, best accuracy on train (0.6119) and val (0.6025)\n",
      "C=0.5, best accuracy on train (0.5938) and val (0.5825)\n",
      "C=0.6000000000000001, best accuracy on train (0.5950) and val (0.5950)\n",
      "C=0.7000000000000001, best accuracy on train (0.5625) and val (0.5800)\n",
      "C=0.8, best accuracy on train (0.5713) and val (0.5850)\n",
      "C=0.9, best accuracy on train (0.5800) and val (0.5775)\n",
      "C=1.0, best accuracy on train (0.5719) and val (0.5900)\n",
      "C=2.0, best accuracy on train (0.5625) and val (0.5825)\n",
      "C=3.0, best accuracy on train (0.5894) and val (0.5625)\n",
      "C=4.0, best accuracy on train (0.5894) and val (0.5625)\n",
      "C=5.0, best accuracy on train (0.5337) and val (0.5675)\n",
      "C=6.0, best accuracy on train (0.5894) and val (0.5625)\n",
      "C=7.0, best accuracy on train (0.5894) and val (0.5625)\n",
      "C=8.0, best accuracy on train (0.5894) and val (0.5625)\n",
      "C=9.0, best accuracy on train (0.5169) and val (0.5675)\n",
      "C=10.0, best accuracy on train (0.5613) and val (0.5850)\n",
      "C=20.0, best accuracy on train (0.5625) and val (0.5850)\n",
      "C=30.0, best accuracy on train (0.5894) and val (0.5625)\n",
      "C=40.0, best accuracy on train (0.5894) and val (0.5625)\n",
      "C=50.0, best accuracy on train (0.5894) and val (0.5625)\n",
      "C=60.0, best accuracy on train (0.5894) and val (0.5625)\n",
      "C=70.0, best accuracy on train (0.5894) and val (0.5625)\n",
      "C=80.0, best accuracy on train (0.5894) and val (0.5625)\n",
      "C=90.0, best accuracy on train (0.5894) and val (0.5625)\n",
      "Fold 4\n",
      "C=0.001, best accuracy on train (0.5394) and val (0.5325)\n",
      "C=0.002, best accuracy on train (0.5394) and val (0.5325)\n",
      "C=0.003, best accuracy on train (0.5394) and val (0.5325)\n",
      "C=0.004, best accuracy on train (0.5394) and val (0.5325)\n",
      "C=0.005, best accuracy on train (0.5394) and val (0.5325)\n",
      "C=0.006, best accuracy on train (0.5400) and val (0.5350)\n"
     ]
    },
    {
     "name": "stdout",
     "output_type": "stream",
     "text": [
      "C=0.007, best accuracy on train (0.5456) and val (0.5425)\n",
      "C=0.008, best accuracy on train (0.5844) and val (0.5600)\n",
      "C=0.009000000000000001, best accuracy on train (0.6088) and val (0.5725)\n",
      "C=0.01, best accuracy on train (0.6231) and val (0.5875)\n",
      "C=0.02, best accuracy on train (0.6062) and val (0.6250)\n",
      "C=0.03, best accuracy on train (0.6106) and val (0.6150)\n",
      "C=0.04, best accuracy on train (0.6150) and val (0.6225)\n",
      "C=0.05, best accuracy on train (0.6112) and val (0.6250)\n",
      "C=0.06, best accuracy on train (0.6325) and val (0.6175)\n",
      "C=0.07, best accuracy on train (0.6094) and val (0.6150)\n",
      "C=0.08, best accuracy on train (0.6069) and val (0.6200)\n",
      "C=0.09, best accuracy on train (0.6062) and val (0.6225)\n",
      "C=0.1, best accuracy on train (0.6038) and val (0.6275)\n",
      "C=0.2, best accuracy on train (0.6044) and val (0.6250)\n",
      "C=0.30000000000000004, best accuracy on train (0.6044) and val (0.6250)\n",
      "C=0.4, best accuracy on train (0.6044) and val (0.6250)\n",
      "C=0.5, best accuracy on train (0.6044) and val (0.6250)\n",
      "C=0.6000000000000001, best accuracy on train (0.6044) and val (0.6250)\n",
      "C=0.7000000000000001, best accuracy on train (0.6044) and val (0.6250)\n",
      "C=0.8, best accuracy on train (0.6044) and val (0.6250)\n",
      "C=0.9, best accuracy on train (0.6044) and val (0.6250)\n",
      "C=1.0, best accuracy on train (0.6044) and val (0.6250)\n",
      "C=2.0, best accuracy on train (0.6044) and val (0.6250)\n",
      "C=3.0, best accuracy on train (0.6044) and val (0.6250)\n",
      "C=4.0, best accuracy on train (0.6044) and val (0.6250)\n",
      "C=5.0, best accuracy on train (0.6044) and val (0.6250)\n",
      "C=6.0, best accuracy on train (0.6044) and val (0.6250)\n",
      "C=7.0, best accuracy on train (0.6044) and val (0.6250)\n",
      "C=8.0, best accuracy on train (0.6044) and val (0.6250)\n",
      "C=9.0, best accuracy on train (0.6044) and val (0.6250)\n",
      "C=10.0, best accuracy on train (0.6044) and val (0.6250)\n",
      "C=20.0, best accuracy on train (0.6044) and val (0.6250)\n",
      "C=30.0, best accuracy on train (0.6044) and val (0.6250)\n",
      "C=40.0, best accuracy on train (0.6044) and val (0.6250)\n",
      "C=50.0, best accuracy on train (0.6044) and val (0.6250)\n",
      "C=60.0, best accuracy on train (0.6044) and val (0.6250)\n",
      "C=70.0, best accuracy on train (0.6044) and val (0.6250)\n",
      "C=80.0, best accuracy on train (0.6044) and val (0.6250)\n",
      "C=90.0, best accuracy on train (0.6044) and val (0.6250)\n",
      "Fold 5\n",
      "C=0.001, best accuracy on train (0.6194) and val (0.5625)\n",
      "C=0.002, best accuracy on train (0.6194) and val (0.5625)\n",
      "C=0.003, best accuracy on train (0.6194) and val (0.5625)\n",
      "C=0.004, best accuracy on train (0.6194) and val (0.5625)\n",
      "C=0.005, best accuracy on train (0.6194) and val (0.5625)\n",
      "C=0.006, best accuracy on train (0.6194) and val (0.5625)\n",
      "C=0.007, best accuracy on train (0.6194) and val (0.5625)\n",
      "C=0.008, best accuracy on train (0.6194) and val (0.5625)\n",
      "C=0.009000000000000001, best accuracy on train (0.6212) and val (0.5675)\n",
      "C=0.01, best accuracy on train (0.6081) and val (0.5800)\n",
      "C=0.02, best accuracy on train (0.6475) and val (0.5975)\n",
      "C=0.03, best accuracy on train (0.6581) and val (0.6075)\n",
      "C=0.04, best accuracy on train (0.6669) and val (0.6075)\n",
      "C=0.05, best accuracy on train (0.6775) and val (0.6075)\n",
      "C=0.06, best accuracy on train (0.6919) and val (0.6150)\n",
      "C=0.07, best accuracy on train (0.7013) and val (0.6125)\n",
      "C=0.08, best accuracy on train (0.7087) and val (0.6025)\n",
      "C=0.09, best accuracy on train (0.6969) and val (0.6125)\n",
      "C=0.1, best accuracy on train (0.7056) and val (0.6175)\n",
      "C=0.2, best accuracy on train (0.6725) and val (0.5875)\n",
      "C=0.30000000000000004, best accuracy on train (0.6388) and val (0.5775)\n",
      "C=0.4, best accuracy on train (0.5787) and val (0.5700)\n",
      "C=0.5, best accuracy on train (0.6194) and val (0.5625)\n",
      "C=0.6000000000000001, best accuracy on train (0.5925) and val (0.5650)\n",
      "C=0.7000000000000001, best accuracy on train (0.6556) and val (0.5675)\n",
      "C=0.8, best accuracy on train (0.6194) and val (0.5625)\n",
      "C=0.9, best accuracy on train (0.6194) and val (0.5625)\n",
      "C=1.0, best accuracy on train (0.6194) and val (0.5625)\n",
      "C=2.0, best accuracy on train (0.6194) and val (0.5625)\n",
      "C=3.0, best accuracy on train (0.6194) and val (0.5625)\n",
      "C=4.0, best accuracy on train (0.5162) and val (0.5675)\n",
      "C=5.0, best accuracy on train (0.6194) and val (0.5625)\n",
      "C=6.0, best accuracy on train (0.5875) and val (0.5775)\n",
      "C=7.0, best accuracy on train (0.6044) and val (0.5775)\n",
      "C=8.0, best accuracy on train (0.6344) and val (0.5675)\n",
      "C=9.0, best accuracy on train (0.5956) and val (0.5750)\n",
      "C=10.0, best accuracy on train (0.6231) and val (0.5675)\n",
      "C=20.0, best accuracy on train (0.6194) and val (0.5625)\n",
      "C=30.0, best accuracy on train (0.5781) and val (0.5700)\n",
      "C=40.0, best accuracy on train (0.6194) and val (0.5625)\n",
      "C=50.0, best accuracy on train (0.6194) and val (0.5625)\n",
      "C=60.0, best accuracy on train (0.6194) and val (0.5625)\n",
      "C=70.0, best accuracy on train (0.6194) and val (0.5625)\n",
      "C=80.0, best accuracy on train (0.6194) and val (0.5625)\n",
      "C=90.0, best accuracy on train (0.5875) and val (0.5775)\n",
      "Best constant C: 0.1, accuracy on val 0.6240\n"
     ]
    },
    {
     "name": "stderr",
     "output_type": "stream",
     "text": [
      "/Users/bfiliot/Desktop/MVA/KERNEL/Kernel_methods_MVA/SVM.py:218: ResourceWarning: unclosed file <_io.BufferedWriter name='./Data/cv_C_SVM_LA_e11_d2_k3_max_iter500_solver_BFGS_full.pkl'>\n",
      "  open(os.path.join('./Data', pickleName), 'wb'))\n"
     ]
    }
   ],
   "source": [
    "Cs_3 = Cs_1\n",
    "data_3 = [X_train_3, y_train_3, X_val_3, y_val_3]\n",
    "pickleName = 'cv_C_SVM_LA_e11_d2_k3_max_iter500_solver_BFGS_full.pkl'\n",
    "kfolds = 5\n",
    "C_opt_3, _, _, _, _ = SVM.cv(Cs=Cs_3, data=data_3, kfolds=kfolds,\n",
    "                             pickleName=pickleName, K=K, ID=ID, maxiter=500,\n",
    "                             method='BFGS')"
   ]
  },
  {
   "cell_type": "markdown",
   "metadata": {},
   "source": [
    "### Predict with best constant C"
   ]
  },
  {
   "cell_type": "markdown",
   "metadata": {},
   "source": [
    "#### Data set 1"
   ]
  },
  {
   "cell_type": "code",
   "execution_count": 32,
   "metadata": {
    "ExecuteTime": {
     "end_time": "2019-02-13T16:35:34.510959Z",
     "start_time": "2019-02-13T16:35:30.934129Z"
    },
    "scrolled": true
   },
   "outputs": [
    {
     "name": "stdout",
     "output_type": "stream",
     "text": [
      "Accuracy on train set: 0.9887\n",
      "Accuracy on val set: 0.6088\n"
     ]
    }
   ],
   "source": [
    "svm_1 = SVM.C_SVM(K, ID, C=C_opt_1, maxiter=500, method='BFGS', print_callbacks=False)\n",
    "res = svm_1.fit(X_train_1, y_train_1, X_val_1, y_val_1)\n",
    "pred_tr_1 = svm_1.predict(X_train_1)\n",
    "print('Accuracy on train set: {:0.4f}'.format(svm_1.score(pred_tr_1, y_train_1)))\n",
    "pred_val_1 = svm_1.predict(X_val_1)\n",
    "print('Accuracy on val set: {:0.4f}'.format(svm_1.score(pred_val_1, y_val_1)))"
   ]
  },
  {
   "cell_type": "markdown",
   "metadata": {},
   "source": [
    "#### Data set 2"
   ]
  },
  {
   "cell_type": "code",
   "execution_count": 33,
   "metadata": {
    "ExecuteTime": {
     "end_time": "2019-02-13T16:35:43.422185Z",
     "start_time": "2019-02-13T16:35:41.574745Z"
    }
   },
   "outputs": [
    {
     "name": "stdout",
     "output_type": "stream",
     "text": [
      "Accuracy on train set: 1.0000\n",
      "Accuracy on val set: 0.6766\n"
     ]
    }
   ],
   "source": [
    "svm_2 = SVM.C_SVM(K, ID, C=C_opt_2, maxiter=500, method='BFGS', print_callbacks=False)\n",
    "res = svm_2.fit(X_train_2, y_train_2, X_val_2, y_val_2)\n",
    "pred_tr_2 = svm_2.predict(X_train_2)\n",
    "print('Accuracy on train set: {:0.4f}'.format(svm_2.score(pred_tr_2, y_train_2)))\n",
    "pred_val_2 = svm_2.predict(X_val_2)\n",
    "print('Accuracy on val set: {:0.4f}'.format(svm_2.score(pred_val_2, y_val_2)))"
   ]
  },
  {
   "cell_type": "markdown",
   "metadata": {},
   "source": [
    "#### Data set 3"
   ]
  },
  {
   "cell_type": "code",
   "execution_count": 49,
   "metadata": {
    "ExecuteTime": {
     "end_time": "2019-02-13T15:55:00.643898Z",
     "start_time": "2019-02-13T15:54:57.937712Z"
    }
   },
   "outputs": [
    {
     "name": "stdout",
     "output_type": "stream",
     "text": [
      "Accuracy on train set: 0.7151\n",
      "Accuracy on val set: 0.6108\n"
     ]
    }
   ],
   "source": [
    "svm_3 = SVM.C_SVM(K, ID, C=C_opt_3, maxiter=500, method='BFGS', print_callbacks=False)\n",
    "res = svm_3.fit(X_train_3, y_train_3, X_val_3, y_val_3)\n",
    "pred_tr_3 = svm_3.predict(X_train_3)\n",
    "print('Accuracy on train set: {:0.4f}'.format(svm_3.score(pred_tr_3, y_train_3)))\n",
    "pred_val_3 = svm_3.predict(X_val_3)\n",
    "print('Accuracy on val set: {:0.4f}'.format(svm_3.score(pred_val_3, y_val_3)))"
   ]
  },
  {
   "cell_type": "markdown",
   "metadata": {},
   "source": [
    "### Export predictions"
   ]
  },
  {
   "cell_type": "code",
   "execution_count": 50,
   "metadata": {
    "ExecuteTime": {
     "end_time": "2019-02-13T15:55:06.061351Z",
     "start_time": "2019-02-13T15:55:05.902204Z"
    },
    "scrolled": true
   },
   "outputs": [],
   "source": [
    "y_pred_test = utils.export_predictions([svm_1, svm_2, svm_3], [X_test_1, X_test_2, X_test_3])"
   ]
  },
  {
   "cell_type": "markdown",
   "metadata": {
    "heading_collapsed": true
   },
   "source": [
    "## 2-SVM with Weighted Degree Kernel (WDK)"
   ]
  },
  {
   "cell_type": "markdown",
   "metadata": {
    "hidden": true
   },
   "source": [
    "### Cross validation on constant $\\lambda$"
   ]
  },
  {
   "cell_type": "markdown",
   "metadata": {
    "hidden": true
   },
   "source": [
    "#### Data set 1"
   ]
  },
  {
   "cell_type": "code",
   "execution_count": 33,
   "metadata": {
    "ExecuteTime": {
     "end_time": "2019-02-13T10:01:24.111699Z",
     "start_time": "2019-02-13T09:57:33.204826Z"
    },
    "hidden": true,
    "scrolled": true
   },
   "outputs": [
    {
     "data": {
      "application/vnd.jupyter.widget-view+json": {
       "model_id": "1ba7ae80e98e4b769f88ae699bcf8885",
       "version_major": 2,
       "version_minor": 0
      },
      "text/plain": [
       "HBox(children=(IntProgress(value=0, max=5), HTML(value='')))"
      ]
     },
     "metadata": {},
     "output_type": "display_data"
    },
    {
     "name": "stdout",
     "output_type": "stream",
     "text": [
      "Fold 1\n",
      "Lambda=1e-05, best accuracy on train (0.7650) and val (0.5850)\n",
      "Lambda=2e-05, best accuracy on train (0.9356) and val (0.5850)\n",
      "Lambda=5e-05, best accuracy on train (0.7344) and val (0.5900)\n",
      "Lambda=7.000000000000001e-05, best accuracy on train (0.6138) and val (0.5850)\n",
      "Lambda=0.0001, best accuracy on train (0.6338) and val (0.5950)\n",
      "Lambda=0.0002, best accuracy on train (0.8025) and val (0.5950)\n",
      "Lambda=0.0005, best accuracy on train (0.6837) and val (0.6050)\n",
      "Lambda=0.0007, best accuracy on train (0.7500) and val (0.6050)\n",
      "Lambda=0.001, best accuracy on train (0.9469) and val (0.6000)\n",
      "Lambda=0.002, best accuracy on train (0.7875) and val (0.6050)\n",
      "Lambda=0.005, best accuracy on train (0.7475) and val (0.5775)\n",
      "Lambda=0.007, best accuracy on train (0.7256) and val (0.5950)\n",
      "Lambda=0.01, best accuracy on train (0.6987) and val (0.5950)\n",
      "Lambda=0.02, best accuracy on train (0.7781) and val (0.5875)\n",
      "Lambda=0.05, best accuracy on train (0.6394) and val (0.5850)\n",
      "Lambda=0.07, best accuracy on train (0.6850) and val (0.5825)\n",
      "Lambda=0.1, best accuracy on train (0.7294) and val (0.5850)\n",
      "Lambda=0.2, best accuracy on train (0.6694) and val (0.5600)\n",
      "Lambda=0.5, best accuracy on train (0.6050) and val (0.5450)\n",
      "Lambda=0.7000000000000001, best accuracy on train (0.6062) and val (0.5550)\n",
      "Lambda=1.0, best accuracy on train (0.7238) and val (0.5800)\n",
      "Lambda=2.0, best accuracy on train (0.6269) and val (0.5775)\n",
      "Lambda=5.0, best accuracy on train (0.7000) and val (0.5825)\n",
      "Lambda=7.0, best accuracy on train (0.6175) and val (0.5800)\n",
      "Lambda=10.0, best accuracy on train (0.7125) and val (0.6000)\n",
      "Lambda=20.0, best accuracy on train (0.7619) and val (0.6200)\n",
      "Lambda=50.0, best accuracy on train (0.6644) and val (0.5575)\n",
      "Lambda=70.0, best accuracy on train (0.7312) and val (0.5950)\n",
      "Fold 2\n",
      "Lambda=1e-05, best accuracy on train (0.8219) and val (0.6075)\n"
     ]
    },
    {
     "ename": "KeyboardInterrupt",
     "evalue": "",
     "output_type": "error",
     "traceback": [
      "\u001b[0;31m---------------------------------------------------------------------------\u001b[0m",
      "\u001b[0;31mKeyboardInterrupt\u001b[0m                         Traceback (most recent call last)",
      "\u001b[0;32m<ipython-input-33-10687692387e>\u001b[0m in \u001b[0;36m<module>\u001b[0;34m\u001b[0m\n\u001b[1;32m      5\u001b[0m l_opt_1, _, _, _, _ = SVM2.cv(Ls=Ls_1, data=data_1, kfolds=kfolds,\n\u001b[1;32m      6\u001b[0m                              \u001b[0mpickleName\u001b[0m\u001b[0;34m=\u001b[0m\u001b[0mpickleName\u001b[0m\u001b[0;34m,\u001b[0m \u001b[0mK\u001b[0m\u001b[0;34m=\u001b[0m\u001b[0mK\u001b[0m\u001b[0;34m,\u001b[0m \u001b[0mID\u001b[0m\u001b[0;34m=\u001b[0m\u001b[0mID\u001b[0m\u001b[0;34m,\u001b[0m \u001b[0mmaxiter\u001b[0m\u001b[0;34m=\u001b[0m\u001b[0;36m100\u001b[0m\u001b[0;34m,\u001b[0m\u001b[0;34m\u001b[0m\u001b[0m\n\u001b[0;32m----> 7\u001b[0;31m                              method='BFGS')\n\u001b[0m",
      "\u001b[0;32m~/Desktop/MVA/KERNEL/Kernel_methods_MVA/SVM2.py\u001b[0m in \u001b[0;36mcv\u001b[0;34m(Ls, data, kfolds, pickleName, **kwargs)\u001b[0m\n\u001b[1;32m    141\u001b[0m         \u001b[0;32mfor\u001b[0m \u001b[0ml\u001b[0m \u001b[0;32min\u001b[0m \u001b[0mLs\u001b[0m\u001b[0;34m:\u001b[0m\u001b[0;34m\u001b[0m\u001b[0m\n\u001b[1;32m    142\u001b[0m             \u001b[0msvm\u001b[0m \u001b[0;34m=\u001b[0m \u001b[0mSVM2\u001b[0m\u001b[0;34m(\u001b[0m\u001b[0mlbda\u001b[0m\u001b[0;34m=\u001b[0m\u001b[0ml\u001b[0m\u001b[0;34m,\u001b[0m \u001b[0mprint_callbacks\u001b[0m\u001b[0;34m=\u001b[0m\u001b[0;32mFalse\u001b[0m\u001b[0;34m,\u001b[0m \u001b[0;34m**\u001b[0m\u001b[0mkwargs\u001b[0m\u001b[0;34m)\u001b[0m\u001b[0;34m\u001b[0m\u001b[0m\n\u001b[0;32m--> 143\u001b[0;31m             \u001b[0msvm\u001b[0m\u001b[0;34m.\u001b[0m\u001b[0mfit\u001b[0m\u001b[0;34m(\u001b[0m\u001b[0mX_train\u001b[0m\u001b[0;34m,\u001b[0m \u001b[0my_train\u001b[0m\u001b[0;34m,\u001b[0m \u001b[0mX_val\u001b[0m\u001b[0;34m,\u001b[0m \u001b[0my_val\u001b[0m\u001b[0;34m)\u001b[0m\u001b[0;34m\u001b[0m\u001b[0m\n\u001b[0m\u001b[1;32m    144\u001b[0m             \u001b[0mpred_tr\u001b[0m \u001b[0;34m=\u001b[0m \u001b[0msvm\u001b[0m\u001b[0;34m.\u001b[0m\u001b[0mpredict\u001b[0m\u001b[0;34m(\u001b[0m\u001b[0mX_train\u001b[0m\u001b[0;34m)\u001b[0m\u001b[0;34m\u001b[0m\u001b[0m\n\u001b[1;32m    145\u001b[0m             \u001b[0mscore_tr\u001b[0m \u001b[0;34m=\u001b[0m \u001b[0msvm\u001b[0m\u001b[0;34m.\u001b[0m\u001b[0mscore\u001b[0m\u001b[0;34m(\u001b[0m\u001b[0mpred_tr\u001b[0m\u001b[0;34m,\u001b[0m \u001b[0my_train\u001b[0m\u001b[0;34m)\u001b[0m\u001b[0;34m\u001b[0m\u001b[0m\n",
      "\u001b[0;32m~/Desktop/MVA/KERNEL/Kernel_methods_MVA/SVM2.py\u001b[0m in \u001b[0;36mfit\u001b[0;34m(self, X, y, X_pred, y_pred)\u001b[0m\n\u001b[1;32m     89\u001b[0m                            \u001b[0mbounds\u001b[0m\u001b[0;34m=\u001b[0m\u001b[0mbounds\u001b[0m\u001b[0;34m,\u001b[0m \u001b[0mmethod\u001b[0m\u001b[0;34m=\u001b[0m\u001b[0;34m'L-BFGS-B'\u001b[0m\u001b[0;34m,\u001b[0m\u001b[0;34m\u001b[0m\u001b[0m\n\u001b[1;32m     90\u001b[0m                            \u001b[0mcallback\u001b[0m\u001b[0;34m=\u001b[0m\u001b[0mself\u001b[0m\u001b[0;34m.\u001b[0m\u001b[0mcallbackF\u001b[0m\u001b[0;34m,\u001b[0m\u001b[0;34m\u001b[0m\u001b[0m\n\u001b[0;32m---> 91\u001b[0;31m                            tol=self.tol, options={'maxiter': self.maxiter})\n\u001b[0m\u001b[1;32m     92\u001b[0m         \u001b[0;32melif\u001b[0m \u001b[0mself\u001b[0m\u001b[0;34m.\u001b[0m\u001b[0mmethod\u001b[0m \u001b[0;34m==\u001b[0m \u001b[0;34m\"Newton\"\u001b[0m\u001b[0;34m:\u001b[0m\u001b[0;34m\u001b[0m\u001b[0m\n\u001b[1;32m     93\u001b[0m             bounds = Bounds(np.array([0 if self.y_fit[i] >= 0 else float('-inf') for i in range(self.n)]),\n",
      "\u001b[0;32m~/anaconda3/lib/python3.6/site-packages/scipy/optimize/_minimize.py\u001b[0m in \u001b[0;36mminimize\u001b[0;34m(fun, x0, args, method, jac, hess, hessp, bounds, constraints, tol, callback, options)\u001b[0m\n\u001b[1;32m    601\u001b[0m     \u001b[0;32melif\u001b[0m \u001b[0mmeth\u001b[0m \u001b[0;34m==\u001b[0m \u001b[0;34m'l-bfgs-b'\u001b[0m\u001b[0;34m:\u001b[0m\u001b[0;34m\u001b[0m\u001b[0m\n\u001b[1;32m    602\u001b[0m         return _minimize_lbfgsb(fun, x0, args, jac, bounds,\n\u001b[0;32m--> 603\u001b[0;31m                                 callback=callback, **options)\n\u001b[0m\u001b[1;32m    604\u001b[0m     \u001b[0;32melif\u001b[0m \u001b[0mmeth\u001b[0m \u001b[0;34m==\u001b[0m \u001b[0;34m'tnc'\u001b[0m\u001b[0;34m:\u001b[0m\u001b[0;34m\u001b[0m\u001b[0m\n\u001b[1;32m    605\u001b[0m         return _minimize_tnc(fun, x0, args, jac, bounds, callback=callback,\n",
      "\u001b[0;32m~/anaconda3/lib/python3.6/site-packages/scipy/optimize/lbfgsb.py\u001b[0m in \u001b[0;36m_minimize_lbfgsb\u001b[0;34m(fun, x0, args, jac, bounds, disp, maxcor, ftol, gtol, eps, maxfun, maxiter, iprint, callback, maxls, **unknown_options)\u001b[0m\n\u001b[1;32m    338\u001b[0m             \u001b[0mn_iterations\u001b[0m \u001b[0;34m+=\u001b[0m \u001b[0;36m1\u001b[0m\u001b[0;34m\u001b[0m\u001b[0m\n\u001b[1;32m    339\u001b[0m             \u001b[0;32mif\u001b[0m \u001b[0mcallback\u001b[0m \u001b[0;32mis\u001b[0m \u001b[0;32mnot\u001b[0m \u001b[0;32mNone\u001b[0m\u001b[0;34m:\u001b[0m\u001b[0;34m\u001b[0m\u001b[0m\n\u001b[0;32m--> 340\u001b[0;31m                 \u001b[0mcallback\u001b[0m\u001b[0;34m(\u001b[0m\u001b[0mnp\u001b[0m\u001b[0;34m.\u001b[0m\u001b[0mcopy\u001b[0m\u001b[0;34m(\u001b[0m\u001b[0mx\u001b[0m\u001b[0;34m)\u001b[0m\u001b[0;34m)\u001b[0m\u001b[0;34m\u001b[0m\u001b[0m\n\u001b[0m\u001b[1;32m    341\u001b[0m \u001b[0;34m\u001b[0m\u001b[0m\n\u001b[1;32m    342\u001b[0m             \u001b[0;32mif\u001b[0m \u001b[0mn_iterations\u001b[0m \u001b[0;34m>=\u001b[0m \u001b[0mmaxiter\u001b[0m\u001b[0;34m:\u001b[0m\u001b[0;34m\u001b[0m\u001b[0m\n",
      "\u001b[0;32m~/Desktop/MVA/KERNEL/Kernel_methods_MVA/SVM2.py\u001b[0m in \u001b[0;36mcallbackF\u001b[0;34m(self, Xi, Yi)\u001b[0m\n\u001b[1;32m     45\u001b[0m             \u001b[0mval_acc\u001b[0m \u001b[0;34m=\u001b[0m \u001b[0;36m0\u001b[0m\u001b[0;34m\u001b[0m\u001b[0m\n\u001b[1;32m     46\u001b[0m         \u001b[0;32melse\u001b[0m\u001b[0;34m:\u001b[0m\u001b[0;34m\u001b[0m\u001b[0m\n\u001b[0;32m---> 47\u001b[0;31m             \u001b[0mval_acc\u001b[0m \u001b[0;34m=\u001b[0m \u001b[0mself\u001b[0m\u001b[0;34m.\u001b[0m\u001b[0mscore\u001b[0m\u001b[0;34m(\u001b[0m\u001b[0mself\u001b[0m\u001b[0;34m.\u001b[0m\u001b[0mpredict\u001b[0m\u001b[0;34m(\u001b[0m\u001b[0mself\u001b[0m\u001b[0;34m.\u001b[0m\u001b[0mX_pred\u001b[0m\u001b[0;34m)\u001b[0m\u001b[0;34m,\u001b[0m \u001b[0mself\u001b[0m\u001b[0;34m.\u001b[0m\u001b[0my_pred\u001b[0m\u001b[0;34m)\u001b[0m\u001b[0;34m\u001b[0m\u001b[0m\n\u001b[0m\u001b[1;32m     48\u001b[0m             \u001b[0mself\u001b[0m\u001b[0;34m.\u001b[0m\u001b[0mval_accuracies\u001b[0m\u001b[0;34m.\u001b[0m\u001b[0mappend\u001b[0m\u001b[0;34m(\u001b[0m\u001b[0mval_acc\u001b[0m\u001b[0;34m)\u001b[0m\u001b[0;34m\u001b[0m\u001b[0m\n\u001b[1;32m     49\u001b[0m         \u001b[0mself\u001b[0m\u001b[0;34m.\u001b[0m\u001b[0msvS\u001b[0m\u001b[0;34m.\u001b[0m\u001b[0mappend\u001b[0m\u001b[0;34m(\u001b[0m\u001b[0mself\u001b[0m\u001b[0;34m.\u001b[0m\u001b[0msv\u001b[0m\u001b[0;34m)\u001b[0m\u001b[0;34m\u001b[0m\u001b[0m\n",
      "\u001b[0;32m~/Desktop/MVA/KERNEL/Kernel_methods_MVA/SVM2.py\u001b[0m in \u001b[0;36mpredict\u001b[0;34m(self, X)\u001b[0m\n\u001b[1;32m    109\u001b[0m         \u001b[0mpred\u001b[0m \u001b[0;34m=\u001b[0m \u001b[0;34m[\u001b[0m\u001b[0;34m]\u001b[0m\u001b[0;34m\u001b[0m\u001b[0m\n\u001b[1;32m    110\u001b[0m         \u001b[0;32mfor\u001b[0m \u001b[0mi\u001b[0m \u001b[0;32min\u001b[0m \u001b[0mself\u001b[0m\u001b[0;34m.\u001b[0m\u001b[0midx_pred\u001b[0m\u001b[0;34m:\u001b[0m\u001b[0;34m\u001b[0m\u001b[0m\n\u001b[0;32m--> 111\u001b[0;31m             \u001b[0mpred\u001b[0m\u001b[0;34m.\u001b[0m\u001b[0mappend\u001b[0m\u001b[0;34m(\u001b[0m\u001b[0mnp\u001b[0m\u001b[0;34m.\u001b[0m\u001b[0msign\u001b[0m\u001b[0;34m(\u001b[0m\u001b[0mnp\u001b[0m\u001b[0;34m.\u001b[0m\u001b[0mdot\u001b[0m\u001b[0;34m(\u001b[0m\u001b[0mself\u001b[0m\u001b[0;34m.\u001b[0m\u001b[0msv\u001b[0m\u001b[0;34m,\u001b[0m \u001b[0mself\u001b[0m\u001b[0;34m.\u001b[0m\u001b[0mK\u001b[0m\u001b[0;34m[\u001b[0m\u001b[0mself\u001b[0m\u001b[0;34m.\u001b[0m\u001b[0midx_sv\u001b[0m\u001b[0;34m,\u001b[0m \u001b[0mi\u001b[0m\u001b[0;34m]\u001b[0m\u001b[0;34m.\u001b[0m\u001b[0msqueeze\u001b[0m\u001b[0;34m(\u001b[0m\u001b[0;34m)\u001b[0m\u001b[0;34m)\u001b[0m\u001b[0;34m)\u001b[0m\u001b[0;34m)\u001b[0m\u001b[0;34m\u001b[0m\u001b[0m\n\u001b[0m\u001b[1;32m    112\u001b[0m         \u001b[0;32mreturn\u001b[0m \u001b[0mnp\u001b[0m\u001b[0;34m.\u001b[0m\u001b[0marray\u001b[0m\u001b[0;34m(\u001b[0m\u001b[0mpred\u001b[0m\u001b[0;34m)\u001b[0m\u001b[0;34m\u001b[0m\u001b[0m\n\u001b[1;32m    113\u001b[0m \u001b[0;34m\u001b[0m\u001b[0m\n",
      "\u001b[0;31mKeyboardInterrupt\u001b[0m: "
     ]
    }
   ],
   "source": [
    "Ls_1 = np.sort([i*10**j for (i,j) in product([1, 2, 5, 7], range(-5,2))])\n",
    "data_1 = [X_train_1, y_train_1, X_val_1, y_val_1]\n",
    "pickleName = 'cv_SVM2_MM61_k1_max_iter100_solver_BFGS_full.pkl'\n",
    "kfolds = 5\n",
    "l_opt_1, _, _, _, _ = SVM2.cv(Ls=Ls_1, data=data_1, kfolds=kfolds,\n",
    "                             pickleName=pickleName, K=K, ID=ID, maxiter=100,\n",
    "                             method='BFGS')"
   ]
  },
  {
   "cell_type": "markdown",
   "metadata": {
    "heading_collapsed": true,
    "hidden": true
   },
   "source": [
    "#### Data set 2"
   ]
  },
  {
   "cell_type": "code",
   "execution_count": 6,
   "metadata": {
    "ExecuteTime": {
     "end_time": "2019-02-11T19:17:22.391822Z",
     "start_time": "2019-02-11T19:09:10.210380Z"
    },
    "hidden": true
   },
   "outputs": [
    {
     "data": {
      "application/vnd.jupyter.widget-view+json": {
       "model_id": "d23178ce7e254049997088b00753eb8b",
       "version_major": 2,
       "version_minor": 0
      },
      "text/plain": [
       "HBox(children=(IntProgress(value=0, max=5), HTML(value='')))"
      ]
     },
     "metadata": {},
     "output_type": "display_data"
    },
    {
     "name": "stdout",
     "output_type": "stream",
     "text": [
      "Fold 1\n",
      "Lambda=1e-05, best accuracy on train (1.0000) and val (0.6525)\n",
      "Lambda=2e-05, best accuracy on train (1.0000) and val (0.6525)\n",
      "Lambda=5e-05, best accuracy on train (1.0000) and val (0.6550)\n",
      "Lambda=7.000000000000001e-05, best accuracy on train (1.0000) and val (0.6575)\n",
      "Lambda=0.0001, best accuracy on train (0.9994) and val (0.6550)\n",
      "Lambda=0.0002, best accuracy on train (0.9994) and val (0.6600)\n",
      "Lambda=0.0005, best accuracy on train (0.9500) and val (0.6475)\n",
      "Lambda=0.0007, best accuracy on train (1.0000) and val (0.6525)\n",
      "Lambda=0.001, best accuracy on train (0.9994) and val (0.6725)\n",
      "Lambda=0.002, best accuracy on train (0.9806) and val (0.6625)\n",
      "Lambda=0.005, best accuracy on train (0.9825) and val (0.6650)\n",
      "Lambda=0.007, best accuracy on train (0.9875) and val (0.6700)\n",
      "Lambda=0.01, best accuracy on train (1.0000) and val (0.6625)\n",
      "Lambda=0.02, best accuracy on train (0.9956) and val (0.6625)\n",
      "Lambda=0.05, best accuracy on train (0.9900) and val (0.6800)\n",
      "Lambda=0.07, best accuracy on train (0.9650) and val (0.6700)\n",
      "Lambda=0.1, best accuracy on train (0.9769) and val (0.6750)\n",
      "Lambda=0.2, best accuracy on train (0.9962) and val (0.6825)\n",
      "Lambda=0.5, best accuracy on train (0.9962) and val (0.6700)\n",
      "Lambda=0.7000000000000001, best accuracy on train (0.9919) and val (0.6750)\n",
      "Lambda=1.0, best accuracy on train (0.9944) and val (0.6700)\n",
      "Lambda=2.0, best accuracy on train (0.7856) and val (0.6325)\n",
      "Lambda=5.0, best accuracy on train (0.8738) and val (0.6350)\n",
      "Lambda=7.0, best accuracy on train (0.8650) and val (0.6350)\n",
      "Lambda=10.0, best accuracy on train (0.8712) and val (0.6375)\n",
      "Lambda=20.0, best accuracy on train (0.8788) and val (0.6425)\n",
      "Lambda=50.0, best accuracy on train (0.8694) and val (0.6450)\n",
      "Lambda=70.0, best accuracy on train (0.8681) and val (0.6450)\n",
      "Fold 2\n",
      "Lambda=1e-05, best accuracy on train (1.0000) and val (0.6550)\n",
      "Lambda=2e-05, best accuracy on train (1.0000) and val (0.6550)\n",
      "Lambda=5e-05, best accuracy on train (1.0000) and val (0.6600)\n",
      "Lambda=7.000000000000001e-05, best accuracy on train (1.0000) and val (0.6625)\n",
      "Lambda=0.0001, best accuracy on train (0.9981) and val (0.6650)\n",
      "Lambda=0.0002, best accuracy on train (1.0000) and val (0.6525)\n",
      "Lambda=0.0005, best accuracy on train (0.9994) and val (0.6600)\n",
      "Lambda=0.0007, best accuracy on train (1.0000) and val (0.6625)\n",
      "Lambda=0.001, best accuracy on train (0.9956) and val (0.6650)\n",
      "Lambda=0.002, best accuracy on train (0.9975) and val (0.6675)\n",
      "Lambda=0.005, best accuracy on train (0.9944) and val (0.6650)\n",
      "Lambda=0.007, best accuracy on train (0.9919) and val (0.6675)\n",
      "Lambda=0.01, best accuracy on train (1.0000) and val (0.6675)\n",
      "Lambda=0.02, best accuracy on train (0.9663) and val (0.6625)\n",
      "Lambda=0.05, best accuracy on train (0.9912) and val (0.6625)\n",
      "Lambda=0.07, best accuracy on train (1.0000) and val (0.6600)\n",
      "Lambda=0.1, best accuracy on train (0.9956) and val (0.6775)\n",
      "Lambda=0.2, best accuracy on train (0.9944) and val (0.6800)\n",
      "Lambda=0.5, best accuracy on train (0.9625) and val (0.6625)\n",
      "Lambda=0.7000000000000001, best accuracy on train (0.9206) and val (0.6725)\n",
      "Lambda=1.0, best accuracy on train (0.9950) and val (0.6750)\n",
      "Lambda=2.0, best accuracy on train (0.9194) and val (0.6525)\n",
      "Lambda=5.0, best accuracy on train (0.9394) and val (0.6700)\n",
      "Lambda=7.0, best accuracy on train (0.7756) and val (0.6225)\n",
      "Lambda=10.0, best accuracy on train (0.8081) and val (0.6100)\n",
      "Lambda=20.0, best accuracy on train (0.7887) and val (0.6175)\n",
      "Lambda=50.0, best accuracy on train (0.7350) and val (0.6075)\n",
      "Lambda=70.0, best accuracy on train (0.8781) and val (0.6125)\n",
      "Fold 3\n",
      "Lambda=1e-05, best accuracy on train (1.0000) and val (0.6625)\n",
      "Lambda=2e-05, best accuracy on train (1.0000) and val (0.6625)\n",
      "Lambda=5e-05, best accuracy on train (1.0000) and val (0.6600)\n",
      "Lambda=7.000000000000001e-05, best accuracy on train (1.0000) and val (0.6600)\n",
      "Lambda=0.0001, best accuracy on train (1.0000) and val (0.6600)\n",
      "Lambda=0.0002, best accuracy on train (1.0000) and val (0.6600)\n",
      "Lambda=0.0005, best accuracy on train (1.0000) and val (0.6600)\n",
      "Lambda=0.0007, best accuracy on train (1.0000) and val (0.6625)\n",
      "Lambda=0.001, best accuracy on train (1.0000) and val (0.6625)\n",
      "Lambda=0.002, best accuracy on train (1.0000) and val (0.6650)\n",
      "Lambda=0.005, best accuracy on train (1.0000) and val (0.6775)\n",
      "Lambda=0.007, best accuracy on train (0.9900) and val (0.6675)\n",
      "Lambda=0.01, best accuracy on train (0.9975) and val (0.6650)\n",
      "Lambda=0.02, best accuracy on train (1.0000) and val (0.6675)\n",
      "Lambda=0.05, best accuracy on train (1.0000) and val (0.6725)\n",
      "Lambda=0.07, best accuracy on train (0.9688) and val (0.6700)\n",
      "Lambda=0.1, best accuracy on train (0.9525) and val (0.6800)\n",
      "Lambda=0.2, best accuracy on train (0.9513) and val (0.6800)\n",
      "Lambda=0.5, best accuracy on train (0.9506) and val (0.6900)\n",
      "Lambda=0.7000000000000001, best accuracy on train (0.9537) and val (0.6825)\n",
      "Lambda=1.0, best accuracy on train (0.9594) and val (0.6725)\n",
      "Lambda=2.0, best accuracy on train (0.9463) and val (0.6650)\n",
      "Lambda=5.0, best accuracy on train (0.8337) and val (0.6100)\n",
      "Lambda=7.0, best accuracy on train (0.9269) and val (0.6275)\n",
      "Lambda=10.0, best accuracy on train (0.8694) and val (0.6275)\n",
      "Lambda=20.0, best accuracy on train (0.8631) and val (0.6200)\n",
      "Lambda=50.0, best accuracy on train (0.8050) and val (0.6150)\n",
      "Lambda=70.0, best accuracy on train (0.8656) and val (0.6325)\n",
      "Fold 4\n",
      "Lambda=1e-05, best accuracy on train (0.9881) and val (0.7225)\n",
      "Lambda=2e-05, best accuracy on train (0.9881) and val (0.7225)\n",
      "Lambda=5e-05, best accuracy on train (0.9881) and val (0.7225)\n",
      "Lambda=7.000000000000001e-05, best accuracy on train (0.9881) and val (0.7225)\n",
      "Lambda=0.0001, best accuracy on train (1.0000) and val (0.7225)\n",
      "Lambda=0.0002, best accuracy on train (0.9881) and val (0.7225)\n",
      "Lambda=0.0005, best accuracy on train (0.9881) and val (0.7225)\n",
      "Lambda=0.0007, best accuracy on train (0.9894) and val (0.7225)\n",
      "Lambda=0.001, best accuracy on train (0.9906) and val (0.7225)\n",
      "Lambda=0.002, best accuracy on train (0.9912) and val (0.7050)\n",
      "Lambda=0.005, best accuracy on train (0.9931) and val (0.7175)\n",
      "Lambda=0.007, best accuracy on train (0.9888) and val (0.7150)\n",
      "Lambda=0.01, best accuracy on train (0.9919) and val (0.7225)\n",
      "Lambda=0.02, best accuracy on train (1.0000) and val (0.7000)\n",
      "Lambda=0.05, best accuracy on train (0.9762) and val (0.7250)\n",
      "Lambda=0.07, best accuracy on train (0.9450) and val (0.7225)\n",
      "Lambda=0.1, best accuracy on train (0.9750) and val (0.7100)\n",
      "Lambda=0.2, best accuracy on train (0.9712) and val (0.7125)\n",
      "Lambda=0.5, best accuracy on train (0.9919) and val (0.7075)\n",
      "Lambda=0.7000000000000001, best accuracy on train (0.9769) and val (0.7150)\n",
      "Lambda=1.0, best accuracy on train (0.9925) and val (0.7100)\n",
      "Lambda=2.0, best accuracy on train (0.9431) and val (0.6725)\n",
      "Lambda=5.0, best accuracy on train (0.9387) and val (0.6325)\n",
      "Lambda=7.0, best accuracy on train (0.8944) and val (0.6075)\n",
      "Lambda=10.0, best accuracy on train (0.9025) and val (0.6525)\n",
      "Lambda=20.0, best accuracy on train (0.8894) and val (0.5975)\n",
      "Lambda=50.0, best accuracy on train (0.8794) and val (0.6000)\n",
      "Lambda=70.0, best accuracy on train (0.8850) and val (0.5975)\n",
      "Fold 5\n",
      "Lambda=1e-05, best accuracy on train (0.9950) and val (0.6500)\n",
      "Lambda=2e-05, best accuracy on train (0.9950) and val (0.6500)\n",
      "Lambda=5e-05, best accuracy on train (0.9938) and val (0.6450)\n",
      "Lambda=7.000000000000001e-05, best accuracy on train (0.9938) and val (0.6450)\n",
      "Lambda=0.0001, best accuracy on train (0.9950) and val (0.6475)\n",
      "Lambda=0.0002, best accuracy on train (0.9994) and val (0.6475)\n",
      "Lambda=0.0005, best accuracy on train (1.0000) and val (0.6350)\n",
      "Lambda=0.0007, best accuracy on train (1.0000) and val (0.6400)\n",
      "Lambda=0.001, best accuracy on train (1.0000) and val (0.6425)\n",
      "Lambda=0.002, best accuracy on train (1.0000) and val (0.6450)\n",
      "Lambda=0.005, best accuracy on train (0.9994) and val (0.6475)\n",
      "Lambda=0.007, best accuracy on train (0.9469) and val (0.6575)\n",
      "Lambda=0.01, best accuracy on train (1.0000) and val (0.6400)\n",
      "Lambda=0.02, best accuracy on train (0.9950) and val (0.6475)\n",
      "Lambda=0.05, best accuracy on train (1.0000) and val (0.6600)\n",
      "Lambda=0.07, best accuracy on train (0.9869) and val (0.6500)\n",
      "Lambda=0.1, best accuracy on train (1.0000) and val (0.6475)\n"
     ]
    },
    {
     "name": "stdout",
     "output_type": "stream",
     "text": [
      "Lambda=0.2, best accuracy on train (0.9975) and val (0.6525)\n",
      "Lambda=0.5, best accuracy on train (1.0000) and val (0.6475)\n",
      "Lambda=0.7000000000000001, best accuracy on train (0.9875) and val (0.6525)\n",
      "Lambda=1.0, best accuracy on train (0.9881) and val (0.6500)\n",
      "Lambda=2.0, best accuracy on train (0.7825) and val (0.6300)\n",
      "Lambda=5.0, best accuracy on train (0.7800) and val (0.6325)\n",
      "Lambda=7.0, best accuracy on train (0.7913) and val (0.6150)\n",
      "Lambda=10.0, best accuracy on train (0.9669) and val (0.6300)\n",
      "Lambda=20.0, best accuracy on train (0.7850) and val (0.6125)\n",
      "Lambda=50.0, best accuracy on train (0.7887) and val (0.6125)\n",
      "Lambda=70.0, best accuracy on train (0.7881) and val (0.6125)\n",
      "Best constant C: 0.2, accuracy on val 0.6815\n"
     ]
    },
    {
     "name": "stderr",
     "output_type": "stream",
     "text": [
      "/Users/bfiliot/Desktop/MVA/KERNEL/Kernel_methods_MVA/SVM2.py:156: ResourceWarning: unclosed file <_io.BufferedWriter name='./Data/cv_SVM2_WD5_k2_max_iter100_solver_BFGS_full.pkl'>\n",
      "  open(os.path.join('./Data', pickleName), 'wb'))\n"
     ]
    }
   ],
   "source": [
    "Ls_2 = Ls_1\n",
    "data_2 = [X_train_2, y_train_2, X_val_2, y_val_2]\n",
    "pickleName = 'cv_SVM2_WD5_k2_max_iter100_solver_BFGS_full.pkl'\n",
    "kfolds = 5\n",
    "l_opt_2, _, _, _, _ = SVM2.cv(Ls=Ls_2, data=data_2, kfolds=kfolds,\n",
    "                             pickleName=pickleName, K=K, ID=ID, maxiter=100,\n",
    "                             method='BFGS')"
   ]
  },
  {
   "cell_type": "markdown",
   "metadata": {
    "heading_collapsed": true,
    "hidden": true
   },
   "source": [
    "#### Data set 3"
   ]
  },
  {
   "cell_type": "code",
   "execution_count": 7,
   "metadata": {
    "ExecuteTime": {
     "end_time": "2019-02-11T19:29:30.128928Z",
     "start_time": "2019-02-11T19:17:22.395937Z"
    },
    "hidden": true,
    "scrolled": true
   },
   "outputs": [
    {
     "data": {
      "application/vnd.jupyter.widget-view+json": {
       "model_id": "732dc3bef22c40648924337241996a32",
       "version_major": 2,
       "version_minor": 0
      },
      "text/plain": [
       "HBox(children=(IntProgress(value=0, max=5), HTML(value='')))"
      ]
     },
     "metadata": {},
     "output_type": "display_data"
    },
    {
     "name": "stdout",
     "output_type": "stream",
     "text": [
      "Fold 1\n",
      "Lambda=1e-05, best accuracy on train (0.9944) and val (0.5700)\n",
      "Lambda=2e-05, best accuracy on train (0.9950) and val (0.5675)\n",
      "Lambda=5e-05, best accuracy on train (0.9938) and val (0.5675)\n",
      "Lambda=7.000000000000001e-05, best accuracy on train (1.0000) and val (0.5625)\n",
      "Lambda=0.0001, best accuracy on train (1.0000) and val (0.5650)\n",
      "Lambda=0.0002, best accuracy on train (0.9938) and val (0.5625)\n",
      "Lambda=0.0005, best accuracy on train (0.6900) and val (0.5650)\n",
      "Lambda=0.0007, best accuracy on train (0.9994) and val (0.5700)\n",
      "Lambda=0.001, best accuracy on train (0.6856) and val (0.5650)\n",
      "Lambda=0.002, best accuracy on train (0.6963) and val (0.5700)\n",
      "Lambda=0.005, best accuracy on train (0.6913) and val (0.5725)\n",
      "Lambda=0.007, best accuracy on train (0.9406) and val (0.5775)\n",
      "Lambda=0.01, best accuracy on train (0.7506) and val (0.5775)\n",
      "Lambda=0.02, best accuracy on train (0.9981) and val (0.5725)\n",
      "Lambda=0.05, best accuracy on train (0.9762) and val (0.5825)\n",
      "Lambda=0.07, best accuracy on train (0.9994) and val (0.5725)\n",
      "Lambda=0.1, best accuracy on train (0.9163) and val (0.5750)\n",
      "Lambda=0.2, best accuracy on train (0.9575) and val (0.5900)\n",
      "Lambda=0.5, best accuracy on train (0.7900) and val (0.5800)\n",
      "Lambda=0.7000000000000001, best accuracy on train (0.8100) and val (0.5850)\n",
      "Lambda=1.0, best accuracy on train (0.9244) and val (0.5750)\n",
      "Lambda=2.0, best accuracy on train (0.7694) and val (0.5775)\n",
      "Lambda=5.0, best accuracy on train (0.7931) and val (0.5725)\n",
      "Lambda=7.0, best accuracy on train (0.7894) and val (0.5750)\n",
      "Lambda=10.0, best accuracy on train (0.7887) and val (0.5700)\n",
      "Lambda=20.0, best accuracy on train (0.7956) and val (0.5725)\n",
      "Lambda=50.0, best accuracy on train (0.8125) and val (0.5750)\n",
      "Lambda=70.0, best accuracy on train (0.8025) and val (0.5725)\n",
      "Fold 2\n",
      "Lambda=1e-05, best accuracy on train (0.9850) and val (0.5725)\n",
      "Lambda=2e-05, best accuracy on train (0.9850) and val (0.5725)\n",
      "Lambda=5e-05, best accuracy on train (0.9850) and val (0.5725)\n",
      "Lambda=7.000000000000001e-05, best accuracy on train (0.9856) and val (0.5725)\n",
      "Lambda=0.0001, best accuracy on train (0.9850) and val (0.5700)\n",
      "Lambda=0.0002, best accuracy on train (0.9850) and val (0.5700)\n",
      "Lambda=0.0005, best accuracy on train (0.9838) and val (0.5975)\n",
      "Lambda=0.0007, best accuracy on train (1.0000) and val (0.5775)\n",
      "Lambda=0.001, best accuracy on train (0.9969) and val (0.6000)\n",
      "Lambda=0.002, best accuracy on train (0.6806) and val (0.6100)\n",
      "Lambda=0.005, best accuracy on train (0.6869) and val (0.6025)\n",
      "Lambda=0.007, best accuracy on train (0.6981) and val (0.6025)\n",
      "Lambda=0.01, best accuracy on train (1.0000) and val (0.5925)\n",
      "Lambda=0.02, best accuracy on train (1.0000) and val (0.5900)\n",
      "Lambda=0.05, best accuracy on train (0.9994) and val (0.5750)\n",
      "Lambda=0.07, best accuracy on train (0.9981) and val (0.5975)\n",
      "Lambda=0.1, best accuracy on train (0.8350) and val (0.5800)\n",
      "Lambda=0.2, best accuracy on train (0.9869) and val (0.5850)\n",
      "Lambda=0.5, best accuracy on train (0.8738) and val (0.5900)\n",
      "Lambda=0.7000000000000001, best accuracy on train (0.8644) and val (0.5800)\n",
      "Lambda=1.0, best accuracy on train (0.7937) and val (0.5950)\n",
      "Lambda=2.0, best accuracy on train (0.7881) and val (0.5975)\n",
      "Lambda=5.0, best accuracy on train (0.9519) and val (0.5900)\n",
      "Lambda=7.0, best accuracy on train (0.8600) and val (0.5950)\n",
      "Lambda=10.0, best accuracy on train (0.8013) and val (0.5925)\n",
      "Lambda=20.0, best accuracy on train (0.7688) and val (0.5875)\n",
      "Lambda=50.0, best accuracy on train (0.7744) and val (0.5900)\n",
      "Lambda=70.0, best accuracy on train (0.7688) and val (0.5875)\n",
      "Fold 3\n",
      "Lambda=1e-05, best accuracy on train (0.5863) and val (0.6150)\n",
      "Lambda=2e-05, best accuracy on train (0.5863) and val (0.6150)\n",
      "Lambda=5e-05, best accuracy on train (0.5875) and val (0.6150)\n",
      "Lambda=7.000000000000001e-05, best accuracy on train (0.5875) and val (0.6150)\n",
      "Lambda=0.0001, best accuracy on train (0.5887) and val (0.6150)\n",
      "Lambda=0.0002, best accuracy on train (0.5919) and val (0.6150)\n",
      "Lambda=0.0005, best accuracy on train (0.6019) and val (0.6225)\n",
      "Lambda=0.0007, best accuracy on train (0.6038) and val (0.6200)\n",
      "Lambda=0.001, best accuracy on train (0.6125) and val (0.6275)\n",
      "Lambda=0.002, best accuracy on train (0.6325) and val (0.6175)\n",
      "Lambda=0.005, best accuracy on train (0.6875) and val (0.5950)\n",
      "Lambda=0.007, best accuracy on train (0.7412) and val (0.5900)\n",
      "Lambda=0.01, best accuracy on train (0.8063) and val (0.5975)\n",
      "Lambda=0.02, best accuracy on train (0.7919) and val (0.5800)\n",
      "Lambda=0.05, best accuracy on train (1.0000) and val (0.5900)\n",
      "Lambda=0.07, best accuracy on train (0.9888) and val (0.5925)\n",
      "Lambda=0.1, best accuracy on train (1.0000) and val (0.5950)\n",
      "Lambda=0.2, best accuracy on train (0.9981) and val (0.5825)\n",
      "Lambda=0.5, best accuracy on train (0.8163) and val (0.5975)\n",
      "Lambda=0.7000000000000001, best accuracy on train (0.8119) and val (0.5875)\n",
      "Lambda=1.0, best accuracy on train (0.8275) and val (0.6150)\n",
      "Lambda=2.0, best accuracy on train (0.8175) and val (0.5850)\n",
      "Lambda=5.0, best accuracy on train (0.8294) and val (0.6025)\n",
      "Lambda=7.0, best accuracy on train (0.8181) and val (0.5775)\n",
      "Lambda=10.0, best accuracy on train (0.8206) and val (0.5850)\n",
      "Lambda=20.0, best accuracy on train (0.8325) and val (0.6025)\n",
      "Lambda=50.0, best accuracy on train (0.8294) and val (0.5950)\n",
      "Lambda=70.0, best accuracy on train (0.8300) and val (0.6000)\n",
      "Fold 4\n",
      "Lambda=1e-05, best accuracy on train (1.0000) and val (0.5550)\n",
      "Lambda=2e-05, best accuracy on train (0.6725) and val (0.5475)\n",
      "Lambda=5e-05, best accuracy on train (1.0000) and val (0.5550)\n",
      "Lambda=7.000000000000001e-05, best accuracy on train (0.9587) and val (0.5500)\n",
      "Lambda=0.0001, best accuracy on train (0.9594) and val (0.5550)\n",
      "Lambda=0.0002, best accuracy on train (0.9594) and val (0.5500)\n",
      "Lambda=0.0005, best accuracy on train (0.9556) and val (0.5500)\n",
      "Lambda=0.0007, best accuracy on train (0.9663) and val (0.5500)\n",
      "Lambda=0.001, best accuracy on train (0.9600) and val (0.5575)\n",
      "Lambda=0.002, best accuracy on train (0.9663) and val (0.5500)\n",
      "Lambda=0.005, best accuracy on train (0.9938) and val (0.5500)\n",
      "Lambda=0.007, best accuracy on train (0.7219) and val (0.5550)\n",
      "Lambda=0.01, best accuracy on train (0.9994) and val (0.5600)\n",
      "Lambda=0.02, best accuracy on train (0.9994) and val (0.5650)\n",
      "Lambda=0.05, best accuracy on train (0.7725) and val (0.5600)\n",
      "Lambda=0.07, best accuracy on train (0.9988) and val (0.5600)\n",
      "Lambda=0.1, best accuracy on train (0.7881) and val (0.5600)\n",
      "Lambda=0.2, best accuracy on train (0.8975) and val (0.5600)\n",
      "Lambda=0.5, best accuracy on train (0.8000) and val (0.5775)\n",
      "Lambda=0.7000000000000001, best accuracy on train (0.7969) and val (0.5775)\n",
      "Lambda=1.0, best accuracy on train (0.7369) and val (0.5550)\n",
      "Lambda=2.0, best accuracy on train (0.7975) and val (0.5625)\n",
      "Lambda=5.0, best accuracy on train (0.8137) and val (0.5675)\n",
      "Lambda=7.0, best accuracy on train (0.8156) and val (0.5725)\n",
      "Lambda=10.0, best accuracy on train (0.8006) and val (0.5650)\n",
      "Lambda=20.0, best accuracy on train (0.8175) and val (0.5675)\n",
      "Lambda=50.0, best accuracy on train (0.8063) and val (0.5675)\n",
      "Lambda=70.0, best accuracy on train (0.8181) and val (0.5725)\n",
      "Fold 5\n",
      "Lambda=1e-05, best accuracy on train (0.9838) and val (0.6000)\n",
      "Lambda=2e-05, best accuracy on train (0.9850) and val (0.5925)\n",
      "Lambda=5e-05, best accuracy on train (0.9894) and val (0.5725)\n",
      "Lambda=7.000000000000001e-05, best accuracy on train (0.9900) and val (0.5775)\n",
      "Lambda=0.0001, best accuracy on train (0.9912) and val (0.5800)\n",
      "Lambda=0.0002, best accuracy on train (0.9788) and val (0.5975)\n",
      "Lambda=0.0005, best accuracy on train (0.9769) and val (0.5800)\n",
      "Lambda=0.0007, best accuracy on train (0.9888) and val (0.5850)\n",
      "Lambda=0.001, best accuracy on train (0.9819) and val (0.5800)\n",
      "Lambda=0.002, best accuracy on train (0.9738) and val (0.5700)\n",
      "Lambda=0.005, best accuracy on train (0.9094) and val (0.5775)\n",
      "Lambda=0.007, best accuracy on train (0.9906) and val (0.5750)\n",
      "Lambda=0.01, best accuracy on train (0.9888) and val (0.5850)\n",
      "Lambda=0.02, best accuracy on train (0.9756) and val (0.5775)\n",
      "Lambda=0.05, best accuracy on train (0.9394) and val (0.5950)\n",
      "Lambda=0.07, best accuracy on train (0.8213) and val (0.5800)\n",
      "Lambda=0.1, best accuracy on train (0.7544) and val (0.5800)\n"
     ]
    },
    {
     "name": "stdout",
     "output_type": "stream",
     "text": [
      "Lambda=0.2, best accuracy on train (0.9981) and val (0.5875)\n",
      "Lambda=0.5, best accuracy on train (0.9694) and val (0.5925)\n",
      "Lambda=0.7000000000000001, best accuracy on train (0.7825) and val (0.5850)\n",
      "Lambda=1.0, best accuracy on train (0.7538) and val (0.5800)\n",
      "Lambda=2.0, best accuracy on train (0.9900) and val (0.5925)\n",
      "Lambda=5.0, best accuracy on train (0.7544) and val (0.5800)\n",
      "Lambda=7.0, best accuracy on train (0.7581) and val (0.5850)\n",
      "Lambda=10.0, best accuracy on train (0.7544) and val (0.5800)\n",
      "Lambda=20.0, best accuracy on train (0.7638) and val (0.5900)\n",
      "Lambda=50.0, best accuracy on train (0.7856) and val (0.5875)\n",
      "Lambda=70.0, best accuracy on train (0.7837) and val (0.5850)\n",
      "Best constant C: 0.5, accuracy on val 0.5875\n"
     ]
    },
    {
     "name": "stderr",
     "output_type": "stream",
     "text": [
      "/Users/bfiliot/Desktop/MVA/KERNEL/Kernel_methods_MVA/SVM2.py:156: ResourceWarning: unclosed file <_io.BufferedWriter name='./Data/cv_SVM2_WD5_k3_max_iter100_solver_BFGS_full.pkl'>\n",
      "  open(os.path.join('./Data', pickleName), 'wb'))\n"
     ]
    }
   ],
   "source": [
    "Ls_3 = Ls_1\n",
    "data_3 = [X_train_3, y_train_3, X_val_3, y_val_3]\n",
    "pickleName = 'cv_SVM2_WD5_k3_max_iter100_solver_BFGS_full.pkl'\n",
    "kfolds = 5\n",
    "l_opt_3, _, _, _, _ = SVM2.cv(Ls=Ls_3, data=data_3, kfolds=kfolds,\n",
    "                             pickleName=pickleName, K=K, ID=ID, maxiter=100,\n",
    "                             method='BFGS')"
   ]
  },
  {
   "cell_type": "markdown",
   "metadata": {
    "heading_collapsed": true,
    "hidden": true
   },
   "source": [
    "### Predict with best constant $\\lambda$"
   ]
  },
  {
   "cell_type": "markdown",
   "metadata": {
    "heading_collapsed": true,
    "hidden": true
   },
   "source": [
    "#### Data set 1"
   ]
  },
  {
   "cell_type": "code",
   "execution_count": 10,
   "metadata": {
    "ExecuteTime": {
     "end_time": "2019-02-11T19:34:09.246888Z",
     "start_time": "2019-02-11T19:33:58.345938Z"
    },
    "hidden": true
   },
   "outputs": [
    {
     "name": "stdout",
     "output_type": "stream",
     "text": [
      "Accuracy on train set: 0.9546\n",
      "Accuracy on val set: 0.6287\n"
     ]
    }
   ],
   "source": [
    "svm2_1 = SVM2.SVM2(K, ID, lbda=l_opt_1, maxiter=100, method='BFGS', print_callbacks=False)\n",
    "res = svm2_1.fit(X_train_1, y_train_1, X_val_1, y_val_1)\n",
    "pred_tr_1 = svm2_1.predict(X_train_1)\n",
    "print('Accuracy on train set: {:0.4f}'.format(svm2_1.score(pred_tr_1, y_train_1)))\n",
    "pred_val_1 = svm2_1.predict(X_val_1)\n",
    "print('Accuracy on val set: {:0.4f}'.format(svm2_1.score(pred_val_1, y_val_1)))"
   ]
  },
  {
   "cell_type": "markdown",
   "metadata": {
    "hidden": true
   },
   "source": [
    "#### Data set 2"
   ]
  },
  {
   "cell_type": "code",
   "execution_count": 11,
   "metadata": {
    "ExecuteTime": {
     "end_time": "2019-02-11T19:34:15.268256Z",
     "start_time": "2019-02-11T19:34:09.251041Z"
    },
    "hidden": true
   },
   "outputs": [
    {
     "name": "stdout",
     "output_type": "stream",
     "text": [
      "Accuracy on train set: 1.0000\n",
      "Accuracy on val set: 0.6667\n"
     ]
    }
   ],
   "source": [
    "svm2_2 = SVM2.SVM2(K, ID, lbda=l_opt_2, maxiter=100, method='BFGS', print_callbacks=False)\n",
    "res = svm2_2.fit(X_train_2, y_train_2, X_val_2, y_val_2)\n",
    "pred_tr_2 = svm2_2.predict(X_train_2)\n",
    "print('Accuracy on train set: {:0.4f}'.format(svm2_2.score(pred_tr_2, y_train_2)))\n",
    "pred_val_2 = svm2_2.predict(X_val_2)\n",
    "print('Accuracy on val set: {:0.4f}'.format(svm2_2.score(pred_val_2, y_val_2)))"
   ]
  },
  {
   "cell_type": "markdown",
   "metadata": {
    "hidden": true
   },
   "source": [
    "#### Data set 3"
   ]
  },
  {
   "cell_type": "code",
   "execution_count": 12,
   "metadata": {
    "ExecuteTime": {
     "end_time": "2019-02-11T19:34:56.769490Z",
     "start_time": "2019-02-11T19:34:46.882038Z"
    },
    "hidden": true
   },
   "outputs": [
    {
     "name": "stdout",
     "output_type": "stream",
     "text": [
      "Accuracy on train set: 0.9873\n",
      "Accuracy on val set: 0.5968\n"
     ]
    }
   ],
   "source": [
    "svm2_3 = SVM2.SVM2(K, ID, lbda=l_opt_3, maxiter=100, method='BFGS', print_callbacks=False)\n",
    "res = svm2_3.fit(X_train_3, y_train_3, X_val_3, y_val_3)\n",
    "pred_tr_3 = svm2_3.predict(X_train_3)\n",
    "print('Accuracy on train set: {:0.4f}'.format(svm2_3.score(pred_tr_3, y_train_3)))\n",
    "pred_val_3 = svm2_3.predict(X_val_3)\n",
    "print('Accuracy on val set: {:0.4f}'.format(svm2_3.score(pred_val_3, y_val_3)))"
   ]
  },
  {
   "cell_type": "markdown",
   "metadata": {
    "hidden": true
   },
   "source": [
    "### Export predictions"
   ]
  },
  {
   "cell_type": "code",
   "execution_count": 15,
   "metadata": {
    "ExecuteTime": {
     "end_time": "2019-02-11T19:36:46.204821Z",
     "start_time": "2019-02-11T19:36:46.021136Z"
    },
    "hidden": true
   },
   "outputs": [
    {
     "name": "stdout",
     "output_type": "stream",
     "text": [
      "20:36:46.179189\n"
     ]
    }
   ],
   "source": [
    "y_pred_test = utils.export_predictions([svm_1, svm_2, svm_3], [X_test_1, X_test_2, X_test_3])"
   ]
  },
  {
   "cell_type": "code",
   "execution_count": null,
   "metadata": {
    "hidden": true
   },
   "outputs": [],
   "source": []
  }
 ],
 "metadata": {
  "hide_input": false,
  "kernelspec": {
   "display_name": "Python 3",
   "language": "python",
   "name": "python3"
  },
  "language_info": {
   "codemirror_mode": {
    "name": "ipython",
    "version": 3
   },
   "file_extension": ".py",
   "mimetype": "text/x-python",
   "name": "python",
   "nbconvert_exporter": "python",
   "pygments_lexer": "ipython3",
   "version": "3.6.6"
  },
  "latex_envs": {
   "LaTeX_envs_menu_present": true,
   "autoclose": false,
   "autocomplete": true,
   "bibliofile": "biblio.bib",
   "cite_by": "apalike",
   "current_citInitial": 1,
   "eqLabelWithNumbers": true,
   "eqNumInitial": 1,
   "hotkeys": {
    "equation": "Ctrl-E",
    "itemize": "Ctrl-I"
   },
   "labels_anchors": false,
   "latex_user_defs": false,
   "report_style_numbering": false,
   "user_envs_cfg": false
  },
  "toc": {
   "base_numbering": 1,
   "nav_menu": {},
   "number_sections": false,
   "sideBar": true,
   "skip_h1_title": false,
   "title_cell": "Table of Contents",
   "title_sidebar": "Contents",
   "toc_cell": false,
   "toc_position": {},
   "toc_section_display": true,
   "toc_window_display": true
  }
 },
 "nbformat": 4,
 "nbformat_minor": 2
}
