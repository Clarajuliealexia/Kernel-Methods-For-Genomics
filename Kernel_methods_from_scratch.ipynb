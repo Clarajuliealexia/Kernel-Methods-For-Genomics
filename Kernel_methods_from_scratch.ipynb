{
 "cells": [
  {
   "cell_type": "code",
   "execution_count": 167,
   "metadata": {
    "ExecuteTime": {
     "end_time": "2019-02-06T22:57:27.075495Z",
     "start_time": "2019-02-06T22:57:27.052116Z"
    }
   },
   "outputs": [],
   "source": [
    "import pandas as pd\n",
    "import numpy as np\n",
    "from tqdm import tqdm_notebook as tqdm"
   ]
  },
  {
   "cell_type": "code",
   "execution_count": 189,
   "metadata": {
    "ExecuteTime": {
     "end_time": "2019-02-07T09:27:10.389661Z",
     "start_time": "2019-02-07T09:27:10.372414Z"
    }
   },
   "outputs": [
    {
     "data": {
      "text/plain": [
       "'GGAGAATCATTTGAACCCGGGAGGTGGAGGTTGCCGTGAGCTGAGATTGCGCCATTGCACTCCAGCCTGGGCAACAAGAGCAAAACTCTGTCTCACAAAAC'"
      ]
     },
     "execution_count": 189,
     "metadata": {},
     "output_type": "execute_result"
    }
   ],
   "source": []
  },
  {
   "cell_type": "code",
   "execution_count": 196,
   "metadata": {
    "ExecuteTime": {
     "end_time": "2019-02-07T09:55:13.749797Z",
     "start_time": "2019-02-07T09:55:13.728996Z"
    }
   },
   "outputs": [],
   "source": [
    "def get_train(k, type='string'):\n",
    "    if type == 'float':\n",
    "        X = pd.read_csv('./Data/Xtr'+str(k)+'_mat100.csv', header=None, sep=' ')\n",
    "        X.columns = ['s'+str(i+1) for i in range(100)]\n",
    "    else:\n",
    "        X = pd.read_csv('./Data/Xtr'+str(k)+'.csv')\n",
    "    y = pd.read_csv('./Data/Ytr'+str(k)+'.csv').loc[:, \"Bound\"]\n",
    "    return X, y\n",
    "\n",
    "def get_test(k, type='string'):\n",
    "    if type == 'float':\n",
    "        X = pd.read_csv('./Data/Xte'+str(k)+'_mat100.csv', header=None, sep=' ')\n",
    "        X.columns = ['s'+str(i+1) for i in range(100)]\n",
    "    else:\n",
    "        X = pd.read_csv('./Data/Xte'+str(k)+'.csv')\n",
    "    return X\n",
    "    \n",
    "def train_test_split(X, y, p):\n",
    "    n = X.shape[0]\n",
    "    idx_0, idx_1 = np.where(y == 0)[0], np.where(y == 1)[0]\n",
    "    n0, n1 = len(idx_0), len(idx_1)\n",
    "    idx_tr0 = np.random.choice(idx_0, int(p*n0), replace=False)\n",
    "    idx_tr1 = np.random.choice(idx_1, int(p*n1), replace=False)\n",
    "    idx_te0 = list(set(idx_0)-set(idx_tr0))\n",
    "    idx_te1 = list(set(idx_1)-set(idx_tr1))\n",
    "    idx_tr = np.random.permutation(np.concatenate((idx_tr0, idx_tr1)))\n",
    "    idx_te = np.random.permutation(np.concatenate((idx_te0, idx_te1)))\n",
    "    n_tr, n_te = len(idx_tr), len(idx_te)\n",
    "    X_train, y_train = X.iloc[idx_tr, :], y[idx_tr]\n",
    "    X_test, y_test = X.iloc[idx_te, :], y[idx_te]\n",
    "    print('Number of training samples: {} ({:0.4f}%), testing samples: {} ({:0.4f}%)'.\n",
    "          format(n_tr, n_tr/n*100, n_te, n_te/n*100))\n",
    "    print('Count train : 0 ({:0.4f}%), 1 ({:0.4f}%)'.\n",
    "          format(np.count_nonzero(y_train == 0)/n_tr*100,\n",
    "                 np.count_nonzero(y_train == 1)/n_tr*100))\n",
    "    print('Count test : 0 ({:0.4f}%), 1 ({:0.4f}%)'.\n",
    "          format(np.count_nonzero(y_test == 0)/n_te*100,\n",
    "                 np.count_nonzero(y_test == 1)/n_te*100))\n",
    "    return X_train, y_train, X_test, y_test"
   ]
  },
  {
   "cell_type": "code",
   "execution_count": 197,
   "metadata": {
    "ExecuteTime": {
     "end_time": "2019-02-07T09:55:14.305671Z",
     "start_time": "2019-02-07T09:55:14.281159Z"
    }
   },
   "outputs": [
    {
     "name": "stdout",
     "output_type": "stream",
     "text": [
      "Number of training samples: 1499 (74.9500%), testing samples: 501 (25.0500%)\n",
      "Count train : 0 (51.1674%), 1 (48.8326%)\n",
      "Count test : 0 (51.0978%), 1 (48.9022%)\n"
     ]
    }
   ],
   "source": [
    "X, y = get_train(0)\n",
    "X_train, y_train, X_test, y_test = train_test_split(X, y, 0.75)"
   ]
  },
  {
   "cell_type": "code",
   "execution_count": 198,
   "metadata": {
    "ExecuteTime": {
     "end_time": "2019-02-07T09:55:19.053738Z",
     "start_time": "2019-02-07T09:55:19.043683Z"
    }
   },
   "outputs": [
    {
     "data": {
      "text/html": [
       "<div>\n",
       "<style scoped>\n",
       "    .dataframe tbody tr th:only-of-type {\n",
       "        vertical-align: middle;\n",
       "    }\n",
       "\n",
       "    .dataframe tbody tr th {\n",
       "        vertical-align: top;\n",
       "    }\n",
       "\n",
       "    .dataframe thead th {\n",
       "        text-align: right;\n",
       "    }\n",
       "</style>\n",
       "<table border=\"1\" class=\"dataframe\">\n",
       "  <thead>\n",
       "    <tr style=\"text-align: right;\">\n",
       "      <th></th>\n",
       "      <th>Id</th>\n",
       "      <th>seq</th>\n",
       "    </tr>\n",
       "  </thead>\n",
       "  <tbody>\n",
       "    <tr>\n",
       "      <th>856</th>\n",
       "      <td>856</td>\n",
       "      <td>GCACAATCCTGAGGAAGGACGTCACGTCACCAGGGCAACGACGCTC...</td>\n",
       "    </tr>\n",
       "    <tr>\n",
       "      <th>1192</th>\n",
       "      <td>1192</td>\n",
       "      <td>ATATTTAGGATAGTGAGCTCTTCTTGTTGAATTGATCCCTTTACCA...</td>\n",
       "    </tr>\n",
       "    <tr>\n",
       "      <th>1430</th>\n",
       "      <td>1430</td>\n",
       "      <td>GTCCTTTTCCTTTTCATGCACCACTGAAGCAGGAGAACAGACTCCC...</td>\n",
       "    </tr>\n",
       "    <tr>\n",
       "      <th>1724</th>\n",
       "      <td>1724</td>\n",
       "      <td>TTTTTTTTTTAGAGAGTCTTGCTCTGACACCCTGGCTGGAGTGCAG...</td>\n",
       "    </tr>\n",
       "    <tr>\n",
       "      <th>924</th>\n",
       "      <td>924</td>\n",
       "      <td>ATCTGGAAAGAGAATCTCCTTTCCCCCCGAAAGAAATTAGTGTTAG...</td>\n",
       "    </tr>\n",
       "  </tbody>\n",
       "</table>\n",
       "</div>"
      ],
      "text/plain": [
       "        Id                                                seq\n",
       "856    856  GCACAATCCTGAGGAAGGACGTCACGTCACCAGGGCAACGACGCTC...\n",
       "1192  1192  ATATTTAGGATAGTGAGCTCTTCTTGTTGAATTGATCCCTTTACCA...\n",
       "1430  1430  GTCCTTTTCCTTTTCATGCACCACTGAAGCAGGAGAACAGACTCCC...\n",
       "1724  1724  TTTTTTTTTTAGAGAGTCTTGCTCTGACACCCTGGCTGGAGTGCAG...\n",
       "924    924  ATCTGGAAAGAGAATCTCCTTTCCCCCCGAAAGAAATTAGTGTTAG..."
      ]
     },
     "execution_count": 198,
     "metadata": {},
     "output_type": "execute_result"
    }
   ],
   "source": [
    "X_train.head()"
   ]
  },
  {
   "cell_type": "code",
   "execution_count": 161,
   "metadata": {
    "ExecuteTime": {
     "end_time": "2019-02-06T22:49:52.592788Z",
     "start_time": "2019-02-06T22:49:52.587962Z"
    }
   },
   "outputs": [],
   "source": [
    "class SVM():\n",
    "    def __init__(self):\n",
    "        pass\n",
    "    def fit(self):\n",
    "        pass\n",
    "    def predict(self):\n",
    "        pass\n",
    "    def score(self):\n",
    "        pass"
   ]
  },
  {
   "cell_type": "code",
   "execution_count": null,
   "metadata": {},
   "outputs": [],
   "source": []
  }
 ],
 "metadata": {
  "hide_input": false,
  "kernelspec": {
   "display_name": "Python 3",
   "language": "python",
   "name": "python3"
  },
  "language_info": {
   "codemirror_mode": {
    "name": "ipython",
    "version": 3
   },
   "file_extension": ".py",
   "mimetype": "text/x-python",
   "name": "python",
   "nbconvert_exporter": "python",
   "pygments_lexer": "ipython3",
   "version": "3.6.6"
  },
  "latex_envs": {
   "LaTeX_envs_menu_present": true,
   "autoclose": false,
   "autocomplete": true,
   "bibliofile": "biblio.bib",
   "cite_by": "apalike",
   "current_citInitial": 1,
   "eqLabelWithNumbers": true,
   "eqNumInitial": 1,
   "hotkeys": {
    "equation": "Ctrl-E",
    "itemize": "Ctrl-I"
   },
   "labels_anchors": false,
   "latex_user_defs": false,
   "report_style_numbering": false,
   "user_envs_cfg": false
  },
  "toc": {
   "base_numbering": 1,
   "nav_menu": {},
   "number_sections": true,
   "sideBar": true,
   "skip_h1_title": false,
   "title_cell": "Table of Contents",
   "title_sidebar": "Contents",
   "toc_cell": false,
   "toc_position": {},
   "toc_section_display": true,
   "toc_window_display": false
  }
 },
 "nbformat": 4,
 "nbformat_minor": 2
}
