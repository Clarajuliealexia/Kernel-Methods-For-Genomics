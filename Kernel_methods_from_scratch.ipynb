{
 "cells": [
  {
   "cell_type": "markdown",
   "metadata": {
    "ExecuteTime": {
     "end_time": "2019-02-07T16:47:51.714676Z",
     "start_time": "2019-02-07T16:47:51.710445Z"
    }
   },
   "source": [
    "# Kernel methods : Data Challenge (TF)"
   ]
  },
  {
   "cell_type": "markdown",
   "metadata": {},
   "source": [
    "## Packages import"
   ]
  },
  {
   "cell_type": "code",
   "execution_count": 1,
   "metadata": {
    "ExecuteTime": {
     "end_time": "2019-02-08T12:59:48.183548Z",
     "start_time": "2019-02-08T12:59:47.648249Z"
    }
   },
   "outputs": [],
   "source": [
    "import pandas as pd\n",
    "import numpy as np\n",
    "from tqdm import tqdm_notebook as tqdm\n",
    "import os\n",
    "import pickle as pkl\n",
    "import warnings\n",
    "import utils\n",
    "import kernels"
   ]
  },
  {
   "cell_type": "code",
   "execution_count": 2,
   "metadata": {
    "ExecuteTime": {
     "end_time": "2019-02-08T12:59:48.191494Z",
     "start_time": "2019-02-08T12:59:48.186500Z"
    }
   },
   "outputs": [],
   "source": [
    "param = {'WD1': 1, 'WD2': 2, 'WD3': 3, 'WD4': 4, 'WD5': 5}"
   ]
  },
  {
   "cell_type": "markdown",
   "metadata": {},
   "source": [
    "## Getting training data"
   ]
  },
  {
   "cell_type": "code",
   "execution_count": null,
   "metadata": {
    "ExecuteTime": {
     "start_time": "2019-02-08T12:59:49.607Z"
    }
   },
   "outputs": [
    {
     "name": "stdout",
     "output_type": "stream",
     "text": [
      "k = 0\n",
      "Number of training samples: 1499 (74.95%), testing samples: 501 (25.05%)\n",
      "Count train : 0 (51.1674%), 1 (48.8326%)\n",
      "Count test : 0 (51.0978%), 1 (48.9022%)\n",
      "\n",
      "k = 1\n",
      "Number of training samples: 1499 (74.95%), testing samples: 501 (25.05%)\n",
      "Count train : 0 (50.1001%), 1 (49.8999%)\n",
      "Count test : 0 (50.0998%), 1 (49.9002%)\n",
      "\n",
      "k = 2\n",
      "Number of training samples: 1499 (74.95%), testing samples: 501 (25.05%)\n",
      "Count train : 0 (50.0334%), 1 (49.9666%)\n",
      "Count test : 0 (50.0998%), 1 (49.9002%)\n",
      "\n",
      "Final shape: train (4497, 3), test (1503, 3)\n",
      "(4500,)\n"
     ]
    },
    {
     "data": {
      "application/vnd.jupyter.widget-view+json": {
       "model_id": "483e6cee813d4143b23ecfabed37b3a2",
       "version_major": 2,
       "version_minor": 0
      },
      "text/plain": [
       "HBox(children=(IntProgress(value=0, description='Building kernel', max=4497, style=ProgressStyle(description_w…"
      ]
     },
     "metadata": {},
     "output_type": "display_data"
    }
   ],
   "source": [
    "X_train, y_train, X_test, y_test, K_train, K_test = utils.get_training_datas(method=\"WD3\", param=param, replace=True)"
   ]
  },
  {
   "cell_type": "markdown",
   "metadata": {
    "ExecuteTime": {
     "end_time": "2019-02-07T17:17:36.760163Z",
     "start_time": "2019-02-07T17:17:36.753120Z"
    }
   },
   "source": [
    "Restrict to any particular kind of TF if needed"
   ]
  },
  {
   "cell_type": "code",
   "execution_count": 19,
   "metadata": {
    "ExecuteTime": {
     "end_time": "2019-02-08T12:38:32.267528Z",
     "start_time": "2019-02-08T12:38:32.167434Z"
    }
   },
   "outputs": [],
   "source": [
    "# X_train_, y_train_, X_test_, y_test_, K_train_, K_test_ = utils.select_k(3, X_train, y_train, X_test, y_test, K_train, K_test)"
   ]
  },
  {
   "cell_type": "code",
   "execution_count": 24,
   "metadata": {
    "ExecuteTime": {
     "end_time": "2019-02-08T12:44:54.243523Z",
     "start_time": "2019-02-08T12:44:54.238749Z"
    }
   },
   "outputs": [
    {
     "data": {
      "text/plain": [
       "(4497, 3)"
      ]
     },
     "execution_count": 24,
     "metadata": {},
     "output_type": "execute_result"
    }
   ],
   "source": [
    "X_train.shape"
   ]
  },
  {
   "cell_type": "code",
   "execution_count": 25,
   "metadata": {
    "ExecuteTime": {
     "end_time": "2019-02-08T12:44:57.739456Z",
     "start_time": "2019-02-08T12:44:57.734368Z"
    }
   },
   "outputs": [
    {
     "data": {
      "text/plain": [
       "(4500,)"
      ]
     },
     "execution_count": 25,
     "metadata": {},
     "output_type": "execute_result"
    }
   ],
   "source": [
    "y_train.shape"
   ]
  },
  {
   "cell_type": "code",
   "execution_count": 26,
   "metadata": {
    "ExecuteTime": {
     "end_time": "2019-02-08T12:45:09.011404Z",
     "start_time": "2019-02-08T12:45:08.999628Z"
    }
   },
   "outputs": [
    {
     "data": {
      "text/plain": [
       "0                                                       0\n",
       "1                                                       0\n",
       "2                                                       0\n",
       "3                                                       1\n",
       "4                                                       1\n",
       "5                                                       1\n",
       "6                                                       1\n",
       "7                                                       0\n",
       "8                                                       0\n",
       "9                                                       1\n",
       "10                                                      1\n",
       "11                                                      1\n",
       "12                                                      0\n",
       "13                                                      1\n",
       "14                                                      1\n",
       "15                                                      0\n",
       "16                                                      1\n",
       "17                                                      1\n",
       "18                                                      0\n",
       "19                                                      0\n",
       "20                                                      1\n",
       "21                                                      1\n",
       "22                                                      1\n",
       "23                                                      0\n",
       "24                                                      0\n",
       "25                                                      1\n",
       "26                                                      0\n",
       "27                                                      1\n",
       "28                                                      1\n",
       "29                                                      1\n",
       "                              ...                        \n",
       "4470                                                    0\n",
       "4471                                                    1\n",
       "4472                                                    1\n",
       "4473                                                    0\n",
       "4474                                                    1\n",
       "4475                                                    1\n",
       "4476                                                    0\n",
       "4477                                                    1\n",
       "4478                                                    1\n",
       "4479                                                    0\n",
       "4480                                                    0\n",
       "4481                                                    1\n",
       "4482                                                    0\n",
       "4483                                                    0\n",
       "4484                                                    0\n",
       "4485                                                    0\n",
       "4486                                                    1\n",
       "4487                                                    0\n",
       "4488                                                    1\n",
       "4489                                                    1\n",
       "4490                                                    0\n",
       "4491                                                    1\n",
       "4492                                                    0\n",
       "4493                                                    1\n",
       "4494                                                    0\n",
       "4495                                                    1\n",
       "4496                                                    0\n",
       "4497                                                    0\n",
       "4498                                                    0\n",
       "4499    1969    3\n",
       "1272    3\n",
       "819     3\n",
       "435     3\n",
       "155   ...\n",
       "Name: Bound, Length: 4500, dtype: object"
      ]
     },
     "execution_count": 26,
     "metadata": {},
     "output_type": "execute_result"
    }
   ],
   "source": [
    "y_train"
   ]
  },
  {
   "cell_type": "code",
   "execution_count": 27,
   "metadata": {
    "ExecuteTime": {
     "end_time": "2019-02-08T12:45:30.318390Z",
     "start_time": "2019-02-08T12:45:30.313396Z"
    }
   },
   "outputs": [
    {
     "data": {
      "text/plain": [
       "(4497, 3)"
      ]
     },
     "execution_count": 27,
     "metadata": {},
     "output_type": "execute_result"
    }
   ],
   "source": [
    "X_train.shape"
   ]
  },
  {
   "cell_type": "code",
   "execution_count": null,
   "metadata": {},
   "outputs": [],
   "source": []
  }
 ],
 "metadata": {
  "hide_input": false,
  "kernelspec": {
   "display_name": "Python 3",
   "language": "python",
   "name": "python3"
  },
  "language_info": {
   "codemirror_mode": {
    "name": "ipython",
    "version": 3
   },
   "file_extension": ".py",
   "mimetype": "text/x-python",
   "name": "python",
   "nbconvert_exporter": "python",
   "pygments_lexer": "ipython3",
   "version": "3.6.6"
  },
  "latex_envs": {
   "LaTeX_envs_menu_present": true,
   "autoclose": false,
   "autocomplete": true,
   "bibliofile": "biblio.bib",
   "cite_by": "apalike",
   "current_citInitial": 1,
   "eqLabelWithNumbers": true,
   "eqNumInitial": 1,
   "hotkeys": {
    "equation": "Ctrl-E",
    "itemize": "Ctrl-I"
   },
   "labels_anchors": false,
   "latex_user_defs": false,
   "report_style_numbering": false,
   "user_envs_cfg": false
  },
  "toc": {
   "base_numbering": 1,
   "nav_menu": {},
   "number_sections": false,
   "sideBar": true,
   "skip_h1_title": false,
   "title_cell": "Table of Contents",
   "title_sidebar": "Contents",
   "toc_cell": false,
   "toc_position": {},
   "toc_section_display": true,
   "toc_window_display": true
  }
 },
 "nbformat": 4,
 "nbformat_minor": 2
}
