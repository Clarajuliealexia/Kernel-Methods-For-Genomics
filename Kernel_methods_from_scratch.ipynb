{
 "cells": [
  {
   "cell_type": "markdown",
   "metadata": {
    "ExecuteTime": {
     "end_time": "2019-02-07T16:47:51.714676Z",
     "start_time": "2019-02-07T16:47:51.710445Z"
    }
   },
   "source": [
    "# Kernel methods : Data Challenge (TF)"
   ]
  },
  {
   "cell_type": "markdown",
   "metadata": {},
   "source": [
    "## Packages import"
   ]
  },
  {
   "cell_type": "code",
   "execution_count": 5,
   "metadata": {
    "ExecuteTime": {
     "end_time": "2019-02-08T20:42:45.942407Z",
     "start_time": "2019-02-08T20:42:45.933058Z"
    }
   },
   "outputs": [],
   "source": [
    "import pandas as pd\n",
    "import numpy as np\n",
    "from tqdm import tqdm_notebook as tqdm\n",
    "import os\n",
    "import pickle as pkl\n",
    "import warnings\n",
    "import utils\n",
    "import kernels\n",
    "import SVM\n",
    "from scipy.optimize import minimize\n",
    "\n",
    "param = {'WD1': 1, 'WD2': 2, 'WD3': 3, 'WD4': 4, 'WD5': 5}"
   ]
  },
  {
   "cell_type": "markdown",
   "metadata": {},
   "source": [
    "## Getting training data"
   ]
  },
  {
   "cell_type": "code",
   "execution_count": 2,
   "metadata": {
    "ExecuteTime": {
     "end_time": "2019-02-08T20:42:14.915745Z",
     "start_time": "2019-02-08T20:42:14.161695Z"
    }
   },
   "outputs": [],
   "source": [
    "X_train, y_train, X_test, y_test, K, ID = utils.get_training_datas(method=\"WD3\", all=True, param=param, replace=False)"
   ]
  },
  {
   "cell_type": "markdown",
   "metadata": {
    "ExecuteTime": {
     "end_time": "2019-02-07T17:17:36.760163Z",
     "start_time": "2019-02-07T17:17:36.753120Z"
    }
   },
   "source": [
    "Restrict to any particular kind of TF if needed"
   ]
  },
  {
   "cell_type": "code",
   "execution_count": 3,
   "metadata": {
    "ExecuteTime": {
     "end_time": "2019-02-08T20:42:15.276771Z",
     "start_time": "2019-02-08T20:42:15.104112Z"
    }
   },
   "outputs": [],
   "source": [
    "X_train_, y_train_, X_test_, y_test_, K_, id_k = utils.select_k(1, X_train, y_train, X_test, y_test, K, ID)"
   ]
  },
  {
   "cell_type": "markdown",
   "metadata": {},
   "source": [
    "## C-SVM with Weighted Degree Kernel (WDK)"
   ]
  },
  {
   "cell_type": "markdown",
   "metadata": {},
   "source": [
    "### Train and predict"
   ]
  },
  {
   "cell_type": "code",
   "execution_count": 6,
   "metadata": {
    "ExecuteTime": {
     "end_time": "2019-02-08T20:42:51.564114Z",
     "start_time": "2019-02-08T20:42:49.613647Z"
    },
    "scrolled": true
   },
   "outputs": [
    {
     "name": "stdout",
     "output_type": "stream",
     "text": [
      "Starting gradient descent:\n",
      "\n",
      "Iteration  1 : S(y)=693996746528.1874\n",
      "Iteration  2 : S(y)=25763277.575626247, tol=693970983250.6117\n",
      "Iteration  3 : S(y)=8765520.268708143, tol=16997757.306918103\n",
      "Iteration  4 : S(y)=762408.843451442, tol=8003111.425256701\n",
      "Iteration  5 : S(y)=112875.66572877904, tol=649533.1777226629\n",
      "Iteration  6 : S(y)=59922.727876052464, tol=52952.93785272658\n",
      "Iteration  7 : S(y)=27569.08611616784, tol=32353.641759884624\n",
      "Iteration  8 : S(y)=10837.697350783581, tol=16731.38876538426\n",
      "Iteration  9 : S(y)=3632.50271226649, tol=7205.19463851709\n",
      "Iteration 10 : S(y)=4591.374018465022, tol=958.8713061985322\n",
      "Iteration 11 : S(y)=8789.882850927814, tol=4198.508832462791\n",
      "Iteration 12 : S(y)=32808.75258593704, tol=24018.86973500923\n",
      "Iteration 13 : S(y)=28356.213506216143, tol=4452.5390797209\n",
      "Iteration 14 : S(y)=25643.46144163405, tol=2712.752064582095\n",
      "Iteration 15 : S(y)=7514.278770401201, tol=18129.182671232847\n",
      "Iteration 16 : S(y)=2135.960234118037, tol=5378.318536283164\n",
      "Iteration 17 : S(y)=403.82770528384503, tol=1732.132528834192\n",
      "Iteration 18 : S(y)=60.02676910034853, tol=343.8009361834965\n",
      "Iteration 19 : S(y)=27.279695956758253, tol=32.74707314359028\n",
      "Iteration 20 : S(y)=25.98403611891995, tol=1.2956598378383042\n",
      "Iteration 21 : S(y)=86.9646088954694, tol=60.98057277654945\n",
      "Iteration 22 : S(y)=380.2618477384744, tol=293.297238843005\n",
      "Iteration 23 : S(y)=337.42194178731046, tol=42.83990595116393\n",
      "Iteration 24 : S(y)=111.89197948106933, tol=225.52996230624115\n",
      "Iteration 25 : S(y)=18.77408441594323, tol=93.1178950651261\n",
      "Iteration 26 : S(y)=4.996901182087969, tol=13.77718323385526\n",
      "Iteration 27 : S(y)=2.3276613194454523, tol=2.6692398626425167\n",
      "Iteration 28 : S(y)=2.1569811782563324, tol=0.1706801411891199\n",
      "Iteration 29 : S(y)=4.890607036029788, tol=2.733625857773456\n",
      "Iteration 30 : S(y)=21.215096819180474, tol=16.324489783150685\n",
      "Iteration 31 : S(y)=24.34677236191771, tol=3.131675542737238\n",
      "Iteration 32 : S(y)=6.31404741762178, tol=18.032724944295932\n",
      "Iteration 33 : S(y)=3.0815773362345205, tol=3.2324700813872598\n",
      "Iteration 34 : S(y)=2.2873493004941974, tol=0.7942280357403231\n",
      "Iteration 35 : S(y)=2.677497034398951, tol=0.39014773390475366\n",
      "Iteration 36 : S(y)=4.94030375708178, tol=2.2628067226828286\n",
      "Iteration 37 : S(y)=25.057862483688275, tol=20.117558726606497\n",
      "Iteration 38 : S(y)=12.9662817939751, tol=12.091580689713176\n",
      "Iteration 39 : S(y)=4.4910420165478575, tol=8.475239777427241\n",
      "Iteration 40 : S(y)=2.323709053993844, tol=2.1673329625540134\n",
      "Iteration 41 : S(y)=3.661998563234248, tol=1.3382895092404041\n",
      "Iteration 42 : S(y)=11.697375989463682, tol=8.035377426229434\n",
      "Iteration 43 : S(y)=21.794449986546006, tol=10.097073997082324\n",
      "Iteration 44 : S(y)=11.349616742991339, tol=10.444833243554667\n",
      "Iteration 45 : S(y)=3.183329057131262, tol=8.166287685860077\n",
      "Iteration 46 : S(y)=1.9669959714422358, tol=1.2163330856890262\n",
      "Iteration 47 : S(y)=2.281771542293537, tol=0.31477557085130137\n",
      "Iteration 48 : S(y)=6.2048905524870515, tol=3.9231190101935143\n",
      "Iteration 49 : S(y)=13.027781158547425, tol=6.822890606060374\n",
      "Iteration 50 : S(y)=9.568589552156268, tol=3.4591916063911565\n",
      "Iteration 51 : S(y)=5.186388951455044, tol=4.382200600701225\n",
      "Iteration 52 : S(y)=2.3886524669833014, tol=2.7977364844717423\n",
      "Iteration 53 : S(y)=1.972382734511843, tol=0.4162697324714584\n",
      "Iteration 54 : S(y)=5.094550727342526, tol=3.1221679928306827\n",
      "Iteration 55 : S(y)=26.721890410542628, tol=21.627339683200102\n",
      "Iteration 56 : S(y)=10.695322784864146, tol=16.02656762567848\n",
      "Iteration 57 : S(y)=2.3272586123772205, tol=8.368064172486925\n",
      "Iteration 58 : S(y)=1.9059530661777124, tol=0.4213055461995081\n",
      "Iteration 59 : S(y)=6.688504395627848, tol=4.782551329450135\n",
      "Iteration 60 : S(y)=21.091997705466387, tol=14.403493309838538\n",
      "Iteration 61 : S(y)=9.781349317818297, tol=11.31064838764809\n",
      "Iteration 62 : S(y)=3.1696480314968385, tol=6.611701286321458\n",
      "Iteration 63 : S(y)=1.8164713644556842, tol=1.3531766670411542\n",
      "Iteration 64 : S(y)=2.640994153473385, tol=0.8245227890177009\n",
      "Iteration 65 : S(y)=19.148906342199716, tol=16.50791218872633\n",
      "Iteration 66 : S(y)=8.869655897981094, tol=10.279250444218622\n",
      "Iteration 67 : S(y)=2.309492374730455, tol=6.560163523250639\n",
      "Iteration 68 : S(y)=1.689525423595522, tol=0.6199669511349333\n",
      "Iteration 69 : S(y)=7.180710739819554, tol=5.4911853162240325\n",
      "Iteration 70 : S(y)=32.44101188461156, tol=25.26030114479201\n",
      "Iteration 71 : S(y)=4.456338916647221, tol=27.984672967964343\n",
      "Iteration 72 : S(y)=1.7719635467589585, tol=2.6843753698882624\n",
      "Iteration 73 : S(y)=2.599565900730843, tol=0.8276023539718844\n",
      "Iteration 74 : S(y)=23.039196521449302, tol=20.43963062071846\n",
      "Iteration 75 : S(y)=10.0706079095072, tol=12.968588611942103\n",
      "Iteration 76 : S(y)=2.1451498186617304, tol=7.925458090845469\n",
      "Iteration 77 : S(y)=1.585983430704248, tol=0.5591663879574824\n",
      "Iteration 78 : S(y)=5.887478587668404, tol=4.301495156964156\n",
      "Iteration 79 : S(y)=26.39209930307851, tol=20.504620715410105\n",
      "Iteration 80 : S(y)=3.4813528735658883, tol=22.91074642951262\n",
      "Iteration 81 : S(y)=1.6969008689898324, tol=1.784452004576056\n",
      "Iteration 82 : S(y)=2.4590731515699717, tol=0.7621722825801394\n",
      "Iteration 83 : S(y)=23.05014822900568, tol=20.591075077435708\n",
      "Iteration 84 : S(y)=3.9899911214588926, tol=19.060157107546786\n",
      "Iteration 85 : S(y)=1.5055384661107682, tol=2.4844526553481243\n",
      "Iteration 86 : S(y)=1.6857899142637773, tol=0.1802514481530091\n",
      "Iteration 87 : S(y)=16.196854905375023, tol=14.511064991111246\n",
      "Iteration 88 : S(y)=4.130973020375275, tol=12.065881884999747\n",
      "Iteration 89 : S(y)=1.503274884480061, tol=2.627698135895214\n",
      "Iteration 90 : S(y)=4.515576076433929, tol=3.012301191953868\n",
      "Iteration 91 : S(y)=24.67451283448203, tol=20.1589367580481\n",
      "Iteration 92 : S(y)=3.185809384371649, tol=21.488703450110382\n",
      "Iteration 93 : S(y)=1.5729110727864013, tol=1.6128983115852478\n",
      "Iteration 94 : S(y)=1.748379506685814, tol=0.1754684338994128\n",
      "Iteration 95 : S(y)=16.905620315057725, tol=15.15724080837191\n",
      "Iteration 96 : S(y)=4.305332528909923, tol=12.600287786147803\n",
      "Iteration 97 : S(y)=1.4355357467897614, tol=2.8697967821201615\n",
      "Iteration 98 : S(y)=1.7835283397064803, tol=0.3479925929167189\n",
      "Iteration 99 : S(y)=19.036430275857974, tol=17.252901936151495\n",
      "Iteration 100 : S(y)=3.432052742233174, tol=15.604377533624799\n",
      "Iteration 101 : S(y)=1.342442267241161, tol=2.0896104749920132\n",
      "Iteration 102 : S(y)=3.8736275743940105, tol=2.5311853071528496\n",
      "Iteration 103 : S(y)=9.57114634783224, tol=5.6975187734382295\n",
      "Iteration 104 : S(y)=1.5430932457673432, tol=8.028053102064897\n",
      "Iteration 105 : S(y)=2.7271167606996594, tol=1.1840235149323162\n",
      "Iteration 106 : S(y)=18.698145827481245, tol=15.971029066781586\n",
      "Iteration 107 : S(y)=1.4991197986540596, tol=17.199026028827184\n",
      "Iteration 108 : S(y)=1.1978849475702393, tol=0.3012348510838203\n",
      "Iteration 109 : S(y)=11.120940708656086, tol=9.923055761085847\n",
      "Iteration 110 : S(y)=2.978599501072849, tol=8.142341207583236\n",
      "Iteration 111 : S(y)=1.4133127430136714, tol=1.5652867580591776\n",
      "Iteration 112 : S(y)=55.12774064147533, tol=53.71442789846166\n",
      "Iteration 113 : S(y)=6.202503915244447, tol=48.92523672623088\n",
      "Iteration 114 : S(y)=1.1831800417345972, tol=5.01932387350985\n",
      "Iteration 115 : S(y)=1.1290496770007525, tol=0.054130364733844694\n",
      "Iteration 116 : S(y)=16.52616246401464, tol=15.397112787013887\n",
      "Iteration 117 : S(y)=1.562551939770775, tol=14.963610524243865\n",
      "Iteration 118 : S(y)=1.671372775978539, tol=0.10882083620776406\n",
      "Iteration 119 : S(y)=9.895471663669388, tol=8.22409888769085\n",
      "Iteration 120 : S(y)=1.1740993305434264, tol=8.721372333125963\n",
      "Iteration 121 : S(y)=1.009885788240636, tol=0.1642135423027904\n",
      "Iteration 122 : S(y)=3.745060586758088, tol=2.735174798517452\n",
      "Iteration 123 : S(y)=0.9845738722419135, tol=2.7604867145161744\n",
      "Iteration 124 : S(y)=33.93535520928079, tol=32.950781337038876\n",
      "Iteration 125 : S(y)=0.8522981834248871, tol=33.08305702585591\n",
      "Iteration 126 : S(y)=0.7872940746248416, tol=0.06500410880004548\n",
      "Iteration 127 : S(y)=0.7264731991793427, tol=0.060820875445498856\n",
      "Iteration 128 : S(y)=0.666912800529003, tol=0.059560398650339685\n",
      "Iteration 129 : S(y)=0.608600571665713, tol=0.05831222886329002\n",
      "Iteration 130 : S(y)=0.5513935259425704, tol=0.05720704572314261\n",
      "Iteration 131 : S(y)=0.49552182676459733, tol=0.05587169917797308\n",
      "Iteration 132 : S(y)=0.4408357931748297, tol=0.054686033589767646\n",
      "Iteration 133 : S(y)=0.38734119957320523, tol=0.05349459360162445\n",
      "Iteration 134 : S(y)=0.3349950127817509, tol=0.05234618679145431\n",
      "Iteration 135 : S(y)=0.28379585950867803, tol=0.051199153273072895\n",
      "Iteration 136 : S(y)=0.23370998179914793, tol=0.0500858777095301\n",
      "Iteration 137 : S(y)=0.18472752558331784, tol=0.048982456215830084\n",
      "Iteration 138 : S(y)=0.13682296434335672, tol=0.04790456123996112\n",
      "Iteration 139 : S(y)=0.0899815803304902, tol=0.04684138401286653\n",
      "Iteration 140 : S(y)=0.04418217012950176, tol=0.04579941020098843\n",
      "Iteration 141 : S(y)=-0.0005918118183192433, tol=0.04477398194782101\n",
      "Iteration 142 : S(y)=-0.04435940976790942, tol=0.043767597949590176\n",
      "Iteration 143 : S(y)=-0.08713758947130312, tol=0.042778179703393704\n",
      "Iteration 144 : S(y)=-0.1289441796858357, tol=0.04180659021453259\n",
      "Iteration 145 : S(y)=-0.1697959911536433, tol=0.040851811467807586\n",
      "Iteration 146 : S(y)=-0.2097100335523212, tol=0.03991404239867791\n",
      "Iteration 147 : S(y)=-0.24870273852441294, tol=0.03899270497209173\n",
      "Iteration 148 : S(y)=-0.28679046810919573, tol=0.03808772958478279\n",
      "Iteration 149 : S(y)=-0.3239891930466223, tol=0.0371987249374266\n",
      "Iteration 150 : S(y)=-0.3603147077226456, tol=0.036325514676023296\n",
      "Iteration 151 : S(y)=-0.3957824976575761, tol=0.035467789934930494\n",
      "Iteration 152 : S(y)=-0.4304078319728726, tol=0.03462533431529646\n",
      "Iteration 153 : S(y)=-0.46420570993420807, tol=0.03379787796133549\n",
      "Iteration 154 : S(y)=-0.497190902010618, tol=0.03298519207640993\n"
     ]
    },
    {
     "name": "stdout",
     "output_type": "stream",
     "text": [
      "Iteration 155 : S(y)=-0.5293779295432914, tol=0.03218702753267344\n",
      "Iteration 156 : S(y)=-0.560781084127643, tol=0.03140315458435161\n",
      "Iteration 157 : S(y)=-0.5914144211526633, tol=0.030633337025020246\n",
      "Iteration 158 : S(y)=-0.6212917699959721, tol=0.029877348843308837\n",
      "Iteration 159 : S(y)=-0.6504267333371887, tol=0.02913496334121657\n",
      "Iteration 160 : S(y)=-0.6788326934255657, tol=0.028405960088377036\n",
      "Iteration 161 : S(y)=-0.7065228137595341, tol=0.027690120333968338\n",
      "Iteration 162 : S(y)=-0.7335100436439586, tol=0.02698722988442448\n",
      "Iteration 163 : S(y)=-0.7598071208028001, tol=0.026297077158841553\n",
      "Iteration 164 : S(y)=-0.7854265751608844, tol=0.025619454358084326\n",
      "Iteration 165 : S(y)=-0.8103807317888094, tol=0.024954156627924995\n",
      "Iteration 166 : S(y)=-0.8346817143036893, tol=0.024300982514879887\n",
      "Iteration 167 : S(y)=-0.8583414478960503, tol=0.023659733592360954\n",
      "Iteration 168 : S(y)=-0.8813716625164867, tol=0.023030214620436418\n",
      "Iteration 169 : S(y)=-0.9037838958815416, tol=0.022412233365054934\n",
      "Iteration 170 : S(y)=-0.9255894965176608, tol=0.021805600636119138\n",
      "Iteration 171 : S(y)=-0.9467996267048311, tol=0.02121013018717033\n",
      "Iteration 172 : S(y)=-0.9674252654090871, tol=0.020625638704256044\n",
      "Iteration 173 : S(y)=-0.9874772111484527, tol=0.02005194573936553\n",
      "Iteration 174 : S(y)=-1.0069660848284778, tol=0.019488873680025165\n",
      "Iteration 175 : S(y)=-1.0259023325257144, tol=0.018936247697236563\n",
      "Iteration 176 : S(y)=-1.0442962282337627, tol=0.01839389570804828\n",
      "Iteration 177 : S(y)=-1.0621578765638469, tol=0.01786164833008419\n",
      "Iteration 178 : S(y)=-1.0794972154059308, tol=0.01733933884208394\n",
      "Iteration 179 : S(y)=-1.0963240185477252, tol=0.01682680314179441\n",
      "Iteration 180 : S(y)=-1.1126478982541812, tol=0.01632387970645599\n",
      "Iteration 181 : S(y)=-1.128478307806902, tol=0.01583040955272086\n",
      "Iteration 182 : S(y)=-1.1438245440047834, tol=0.015346236197881336\n",
      "Iteration 183 : S(y)=-1.1586957496260553, tol=0.014871205621271866\n",
      "Iteration 184 : S(y)=-1.173100915852554, tol=0.014405166226498789\n",
      "Iteration 185 : S(y)=-1.1870488846566598, tol=0.01394796880410576\n",
      "Iteration 186 : S(y)=-1.2005483511515416, tol=0.013499466494881762\n",
      "Iteration 187 : S(y)=-1.2136078659052516, tol=0.013059514753710033\n",
      "Iteration 188 : S(y)=-1.2262358372191926, tol=0.012627971313941\n",
      "Iteration 189 : S(y)=-1.238440533371528, tol=0.012204696152335437\n",
      "Iteration 190 : S(y)=-1.2502300848260637, tol=0.01178955145453564\n",
      "Iteration 191 : S(y)=-1.2616124864071243, tol=0.01138240158106063\n",
      "Iteration 192 : S(y)=-1.272595599440931, tol=0.010983113033806724\n",
      "Iteration 193 : S(y)=-1.2831871538640085, tol=0.010591554423077465\n",
      "Iteration 194 : S(y)=-1.2933947502991137, tol=0.01020759643510516\n",
      "Iteration 195 : S(y)=-1.3032258620991732, tol=0.009831111800059578\n",
      "Iteration 196 : S(y)=-1.3126878373597415, tol=0.009461975260568245\n",
      "Iteration 197 : S(y)=-1.3217879009004205, tol=0.009100063540679049\n",
      "Iteration 198 : S(y)=-1.330533156215759, tol=0.00874525531533843\n",
      "Iteration 199 : S(y)=-1.3389305873960473, tol=0.00839743118028835\n",
      "Iteration 200 : S(y)=-1.3469870610185115, tol=0.0080564736224642\n",
      "Iteration 201 : S(y)=-1.3547093280093292, tol=0.007722266990817683\n",
      "Iteration 202 : S(y)=-1.3621040254769174, tol=0.0073946974675882515\n",
      "Iteration 203 : S(y)=-1.369177678516937, tol=0.007073653040019501\n",
      "Iteration 204 : S(y)=-1.3759367019894393, tol=0.006759023472502346\n",
      "Iteration 205 : S(y)=-1.3823874022685718, tol=0.006450700279132526\n",
      "Iteration 206 : S(y)=-1.3885359789652836, tol=0.0061485766967117605\n",
      "Iteration 207 : S(y)=-1.394388526623414, tol=0.005852547658130369\n",
      "Iteration 208 : S(y)=-1.399951036389596, tol=0.005562509766182\n",
      "Iteration 209 : S(y)=-1.4052293976573451, tol=0.005278361267749165\n",
      "Iteration 210 : S(y)=-1.4102293996857616, tol=0.005000002028416439\n",
      "Iteration 211 : S(y)=-1.4149567331932005, tol=0.0047273335074389244\n",
      "Iteration 212 : S(y)=-1.4194169919263122, tol=0.004460258733111733\n",
      "Iteration 213 : S(y)=-1.4236156742048214, tol=0.004198682278509169\n",
      "Iteration 214 : S(y)=-1.427558184442414, tol=0.003942510237592511\n",
      "Iteration 215 : S(y)=-1.4312498346440987, tol=0.0036916502016848263\n",
      "Iteration 216 : S(y)=-1.434695845880397, tol=0.0034460112362981743\n",
      "Iteration 217 : S(y)=-1.4379013497387299, tol=0.0032055038583329587\n",
      "Iteration 218 : S(y)=-1.440871389752327, tol=0.0029700400135972416\n",
      "Iteration 219 : S(y)=-1.4436109228070118, tol=0.002739533054684662\n",
      "Iteration 220 : S(y)=-1.4461248205262138, tol=0.002513897719202074\n",
      "Iteration 221 : S(y)=-1.4484178706345154, tol=0.0022930501083016086\n",
      "Iteration 222 : S(y)=-1.4504947783000788, tol=0.0020769076655633434\n",
      "Iteration 223 : S(y)=-1.452360167456265, tol=0.0018653891561861702\n",
      "Iteration 224 : S(y)=-1.4540185821027731, tol=0.0016584146465081773\n",
      "Iteration 225 : S(y)=-1.4554744875866006, tol=0.0014559054838274577\n",
      "Iteration 226 : S(y)=-1.456732271863141, tol=0.0012577842765404412\n",
      "Iteration 227 : S(y)=-1.4577962467377255, tol=0.001063974874584428\n",
      "Iteration 228 : S(y)=-1.4586706490878891, tol=0.0008744023501636722\n",
      "Iteration 229 : S(y)=-1.4593596420666801, tol=0.0006889929787909921\n",
      "Iteration 230 : S(y)=-1.4598673162872862, tol=0.0005076742206060469\n",
      "Iteration 231 : S(y)=-1.460197690989264, tol=0.00033037470197783136\n",
      "Iteration 232 : S(y)=-1.4603547151866636, tol=0.00015702419739960227\n",
      "Iteration 233 : S(y)=-1.4603547151866636, tol=0.0\n",
      "0.46\n"
     ]
    }
   ],
   "source": [
    "svm = SVM.C_SVM(K, ID, C=0.1, print_callbacks=True)\n",
    "res = svm.fit(X_train_.iloc[:100], y_train_.iloc[:100])\n",
    "pred = svm.predict(X_train_.iloc[:100,:])\n",
    "print('Accuracy on train train: {:0.4f}'.format(svm.score(pred, y_train_.iloc[:100,:])))\n",
    "pred = svm.predict(X_test)\n",
    "print('Accuracy on test train: {:0.4f}'.format(svm.score(pred, y_test_))"
   ]
  },
  {
   "cell_type": "markdown",
   "metadata": {
    "ExecuteTime": {
     "end_time": "2019-02-08T20:34:50.571109Z",
     "start_time": "2019-02-08T20:34:50.563765Z"
    }
   },
   "source": [
    "### Cross validation on constant C"
   ]
  },
  {
   "cell_type": "code",
   "execution_count": null,
   "metadata": {
    "ExecuteTime": {
     "start_time": "2019-02-08T20:42:56.882Z"
    }
   },
   "outputs": [
    {
     "name": "stdout",
     "output_type": "stream",
     "text": [
      "k = 0\n",
      "Number of training samples: 1499 (74.95%), testing samples: 501 (25.05%)\n",
      "Count train : -1 (51.1674%), 1 (48.8326%)\n",
      "Count test : -1 (51.0978%), 1 (48.9022%)\n",
      "\n",
      "k = 1\n",
      "Number of training samples: 1499 (74.95%), testing samples: 501 (25.05%)\n",
      "Count train : -1 (50.1001%), 1 (49.8999%)\n",
      "Count test : -1 (50.0998%), 1 (49.9002%)\n",
      "\n",
      "k = 2\n",
      "Number of training samples: 1499 (74.95%), testing samples: 501 (25.05%)\n",
      "Count train : -1 (50.0334%), 1 (49.9666%)\n",
      "Count test : -1 (50.0998%), 1 (49.9002%)\n",
      "\n",
      "Final shape: train (4497, 3), test (1503, 3)\n"
     ]
    },
    {
     "data": {
      "application/vnd.jupyter.widget-view+json": {
       "model_id": "bbd3d7496c734a01a603e46d6dbd6c47",
       "version_major": 2,
       "version_minor": 0
      },
      "text/plain": [
       "HBox(children=(IntProgress(value=0, max=5), HTML(value='')))"
      ]
     },
     "metadata": {},
     "output_type": "display_data"
    },
    {
     "name": "stdout",
     "output_type": "stream",
     "text": [
      "Fold 0\n"
     ]
    }
   ],
   "source": [
    "svm.cv(Cs=[0.01, 10, 20], data=[X_train_, y_train_, X_test_, y_test_])"
   ]
  },
  {
   "cell_type": "code",
   "execution_count": null,
   "metadata": {},
   "outputs": [],
   "source": []
  }
 ],
 "metadata": {
  "hide_input": false,
  "kernelspec": {
   "display_name": "Python 3",
   "language": "python",
   "name": "python3"
  },
  "language_info": {
   "codemirror_mode": {
    "name": "ipython",
    "version": 3
   },
   "file_extension": ".py",
   "mimetype": "text/x-python",
   "name": "python",
   "nbconvert_exporter": "python",
   "pygments_lexer": "ipython3",
   "version": "3.6.6"
  },
  "latex_envs": {
   "LaTeX_envs_menu_present": true,
   "autoclose": false,
   "autocomplete": true,
   "bibliofile": "biblio.bib",
   "cite_by": "apalike",
   "current_citInitial": 1,
   "eqLabelWithNumbers": true,
   "eqNumInitial": 1,
   "hotkeys": {
    "equation": "Ctrl-E",
    "itemize": "Ctrl-I"
   },
   "labels_anchors": false,
   "latex_user_defs": false,
   "report_style_numbering": false,
   "user_envs_cfg": false
  },
  "toc": {
   "base_numbering": 1,
   "nav_menu": {},
   "number_sections": false,
   "sideBar": true,
   "skip_h1_title": false,
   "title_cell": "Table of Contents",
   "title_sidebar": "Contents",
   "toc_cell": false,
   "toc_position": {},
   "toc_section_display": true,
   "toc_window_display": true
  }
 },
 "nbformat": 4,
 "nbformat_minor": 2
}
